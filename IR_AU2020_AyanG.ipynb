{
  "nbformat": 4,
  "nbformat_minor": 0,
  "metadata": {
    "colab": {
      "name": "IR_AU2020_AyanG.ipynb",
      "provenance": [],
      "collapsed_sections": []
    },
    "kernelspec": {
      "name": "python3",
      "display_name": "Python 3"
    }
  },
  "cells": [
    {
      "cell_type": "markdown",
      "metadata": {
        "id": "8LegnxsbXIwD"
      },
      "source": [
        "# **Install Packages**"
      ]
    },
    {
      "cell_type": "code",
      "metadata": {
        "id": "NTUPDL-GMEGr",
        "colab": {
          "base_uri": "https://localhost:8080/"
        },
        "outputId": "e843d0f7-388b-49b3-ddb5-5243122fe171"
      },
      "source": [
        "!pip install PyPDF2\n",
        "!pip install nltk\n",
        "#!pip install python-Levenshtein\n",
        "#!pip install tabula-py"
      ],
      "execution_count": 11,
      "outputs": [
        {
          "output_type": "stream",
          "text": [
            "Requirement already satisfied: PyPDF2 in /usr/local/lib/python3.7/dist-packages (1.26.0)\n",
            "Requirement already satisfied: nltk in /usr/local/lib/python3.7/dist-packages (3.2.5)\n",
            "Requirement already satisfied: six in /usr/local/lib/python3.7/dist-packages (from nltk) (1.15.0)\n"
          ],
          "name": "stdout"
        }
      ]
    },
    {
      "cell_type": "markdown",
      "metadata": {
        "id": "li7Y9KgHHxuu"
      },
      "source": [
        "# **IR-1 QS-1 : Retrieve the given data in proper formatting**"
      ]
    },
    {
      "cell_type": "code",
      "metadata": {
        "colab": {
          "base_uri": "https://localhost:8080/",
          "height": 173
        },
        "id": "_ou1QcOa08ie",
        "outputId": "f4c7be53-1df9-41c1-d7a2-3ffa200b68cb"
      },
      "source": [
        "import pandas as pd\n",
        "data=pd.read_csv('IR1.csv')\n",
        "data.head()"
      ],
      "execution_count": 12,
      "outputs": [
        {
          "output_type": "execute_result",
          "data": {
            "text/html": [
              "<div>\n",
              "<style scoped>\n",
              "    .dataframe tbody tr th:only-of-type {\n",
              "        vertical-align: middle;\n",
              "    }\n",
              "\n",
              "    .dataframe tbody tr th {\n",
              "        vertical-align: top;\n",
              "    }\n",
              "\n",
              "    .dataframe thead th {\n",
              "        text-align: right;\n",
              "    }\n",
              "</style>\n",
              "<table border=\"1\" class=\"dataframe\">\n",
              "  <thead>\n",
              "    <tr style=\"text-align: right;\">\n",
              "      <th></th>\n",
              "      <th>Author</th>\n",
              "      <th>Topic</th>\n",
              "      <th>Pages</th>\n",
              "    </tr>\n",
              "  </thead>\n",
              "  <tbody>\n",
              "    <tr>\n",
              "      <th>0</th>\n",
              "      <td>Mark Twain</td>\n",
              "      <td>The Adventure of Tom Sawyer</td>\n",
              "      <td>305</td>\n",
              "    </tr>\n",
              "    <tr>\n",
              "      <th>1</th>\n",
              "      <td>H C Verma</td>\n",
              "      <td>Physics</td>\n",
              "      <td>406</td>\n",
              "    </tr>\n",
              "    <tr>\n",
              "      <th>2</th>\n",
              "      <td>Hamilton</td>\n",
              "      <td>Mythology</td>\n",
              "      <td>308</td>\n",
              "    </tr>\n",
              "    <tr>\n",
              "      <th>3</th>\n",
              "      <td>Stephen hawking</td>\n",
              "      <td>A Brief History of Time</td>\n",
              "      <td>189</td>\n",
              "    </tr>\n",
              "  </tbody>\n",
              "</table>\n",
              "</div>"
            ],
            "text/plain": [
              "            Author                        Topic  Pages\n",
              "0       Mark Twain  The Adventure of Tom Sawyer    305\n",
              "1        H C Verma                      Physics    406\n",
              "2         Hamilton                    Mythology    308\n",
              "3  Stephen hawking      A Brief History of Time    189"
            ]
          },
          "metadata": {
            "tags": []
          },
          "execution_count": 12
        }
      ]
    },
    {
      "cell_type": "code",
      "metadata": {
        "id": "zD1l539Ax9aN",
        "colab": {
          "base_uri": "https://localhost:8080/"
        },
        "outputId": "7f8c05b1-a738-4166-e226-87db98f60134"
      },
      "source": [
        "import csv\n",
        "with open('IR1.csv') as file :\n",
        "  reader=csv.reader(file)\n",
        "  for row in reader :\n",
        "    print(row)"
      ],
      "execution_count": 13,
      "outputs": [
        {
          "output_type": "stream",
          "text": [
            "['Author', 'Topic', 'Pages']\n",
            "['Mark Twain', 'The Adventure of Tom Sawyer', '305']\n",
            "['H C Verma', 'Physics', '406']\n",
            "['Hamilton', 'Mythology', '308']\n",
            "['Stephen hawking', 'A Brief History of Time', '189']\n"
          ],
          "name": "stdout"
        }
      ]
    },
    {
      "cell_type": "markdown",
      "metadata": {
        "id": "eF9w9FLhHX1o"
      },
      "source": [
        "# **IR-1 QS-2** : **Using any language retrieve the current date and time showing in your system**"
      ]
    },
    {
      "cell_type": "code",
      "metadata": {
        "id": "A4RihrLXyhvl",
        "colab": {
          "base_uri": "https://localhost:8080/"
        },
        "outputId": "84fece27-0553-4b68-9a90-667aeb41da85"
      },
      "source": [
        "from datetime import datetime\n",
        "now = datetime.now()\n",
        "print(\"Time raw : \"+str(now))\n",
        "dt_string = now.strftime(\"%d/%m/%Y %H:%M:%S\")\n",
        "print(\"date and time =\", dt_string)"
      ],
      "execution_count": 14,
      "outputs": [
        {
          "output_type": "stream",
          "text": [
            "Time raw : 2021-08-01 04:30:32.323710\n",
            "date and time = 01/08/2021 04:30:32\n"
          ],
          "name": "stdout"
        }
      ]
    },
    {
      "cell_type": "markdown",
      "metadata": {
        "id": "P0W3TSKMIGIA"
      },
      "source": [
        "# **IR-1 QS-3 : Create a text file. Write some content inside that. Retrieve the first word of every sentences present inside the file**"
      ]
    },
    {
      "cell_type": "code",
      "metadata": {
        "colab": {
          "base_uri": "https://localhost:8080/"
        },
        "id": "4kAAULJZ1Nj1",
        "outputId": "a0879dc6-7e5b-43d9-eb68-9fbce31e7848"
      },
      "source": [
        "f=open('trainspotter.txt','w')\n",
        "f.write(\"The most powerful passenger locomotive is WAP-7. Now a days, electric traction is being used. BWN will become an ELS. Fastest locomotive is WAP-5.\")\n",
        "f.close()\n",
        "\n",
        "with open('trainspotter.txt','r') as f :\n",
        "  for line in f:\n",
        "    li=line.split(\".\")\n",
        "\n",
        "for i in range(len(li)) :\n",
        "  li[i]=li[i].strip()\n",
        "#print(li)\n",
        "\n",
        "for i in li :\n",
        "  temp=i.split(\" \")\n",
        "  print(temp[0])\n",
        "  temp.clear()"
      ],
      "execution_count": 15,
      "outputs": [
        {
          "output_type": "stream",
          "text": [
            "The\n",
            "Now\n",
            "BWN\n",
            "Fastest\n",
            "\n"
          ],
          "name": "stdout"
        }
      ]
    },
    {
      "cell_type": "code",
      "metadata": {
        "id": "zRz0xXQ4zhiT",
        "colab": {
          "base_uri": "https://localhost:8080/"
        },
        "outputId": "4236e424-a996-4b37-8684-2e18b1bacca9"
      },
      "source": [
        "import os.path\n",
        "\n",
        "def extractFirstWord(file) :\n",
        "      fw=[]\n",
        "      with open(file,'r') as f :\n",
        "            for line in f :\n",
        "                  li=line.split(\".\")\n",
        "      for i in range(len(li)):\n",
        "            li[i]=li[i].strip()\n",
        "      for i in li :\n",
        "            temp=i.split(\" \")\n",
        "            fw.append(temp[0])\n",
        "            temp.clear()\n",
        "      return fw\n",
        "\n",
        "if os.path.exists('locomotive.txt') :\n",
        "      for i in extractFirstWord('locomotive.txt') :\n",
        "            print(i)\n",
        "else :\n",
        "      f=open('locomotive.txt','w')\n",
        "      f.write(\"The most powerful passenger locomotive is WAP-7. Now a days, electric traction is being used. BWN will become an ELS. Fastest locomotive is WAP-5.\")\n",
        "      f.close()\n",
        "      print(\"File created\")\n",
        "      for i in extractFirstWord('locomotive.txt') :\n",
        "            print(i)\n",
        "    "
      ],
      "execution_count": 16,
      "outputs": [
        {
          "output_type": "stream",
          "text": [
            "Functions\n",
            "When\n",
            "The\n",
            "This\n",
            "\n"
          ],
          "name": "stdout"
        }
      ]
    },
    {
      "cell_type": "markdown",
      "metadata": {
        "id": "s3n6aHzSIbUu"
      },
      "source": [
        "# **IR-1 QS-4 : Develop a mini model to extract the text mentioned in any PDF file. List the keywords mentioned in the PDF file along with their occurences.**"
      ]
    },
    {
      "cell_type": "code",
      "metadata": {
        "id": "wHO4E9bd6zbR",
        "colab": {
          "base_uri": "https://localhost:8080/"
        },
        "outputId": "499641ee-df60-46a2-bc1b-9bb7badbcb8a"
      },
      "source": [
        "# SOLUTION USING LIST\n",
        "\n",
        "import PyPDF2\n",
        "\n",
        "file=open('IR_test.pdf','rb')\n",
        "fileObj=PyPDF2.PdfFileReader(file)\n",
        "pageObj=fileObj.getPage(0)\n",
        "s=pageObj.extractText()\n",
        "file.close()\n",
        "\n",
        "j=\"\"\n",
        "for i in s:\n",
        "    if i==\",\" or i==\".\":\n",
        "        continue\n",
        "    j=j+i\n",
        "j=j.lower()\n",
        "\n",
        "j=j.split(\" \")\n",
        "key=[]\n",
        "freq=[]\n",
        "for i in j:\n",
        "    if i not in key:\n",
        "        key.append(i)\n",
        "        count=j.count(i)\n",
        "        freq.append(count)\n",
        "\n",
        "for i in range(0,len(key)):\n",
        "    print(key[i],freq[i])"
      ],
      "execution_count": 17,
      "outputs": [
        {
          "output_type": "stream",
          "text": [
            "my 4\n",
            "name 1\n",
            "is 3\n",
            "ayanabha\n",
            " 1\n",
            "\n",
            "ghosh 1\n",
            "i 3\n",
            "am 1\n",
            "a 1\n",
            "frustrated 1\n",
            "guy 1\n",
            "who 1\n",
            "cannot 1\n",
            "pursue 2\n",
            "his 2\n",
            "passion 1\n",
            "because 1\n",
            "\n",
            "of 1\n",
            "parents 1\n",
            "father 2\n",
            "an 1\n",
            "employee 1\n",
            "of 2\n",
            "lic 1\n",
            "and 3\n",
            "have 1\n",
            "already 1\n",
            "secured 1\n",
            "two 1\n",
            "jobs 1\n",
            "during 1\n",
            "\n",
            "my 1\n",
            "final 1\n",
            "year 1\n",
            "graduation 1\n",
            "but 1\n",
            "still 1\n",
            "puts 1\n",
            "pressure 1\n",
            "on 2\n",
            "me 1\n",
            "to 2\n",
            "study 1\n",
            "that 1\n",
            "why 1\n",
            "\n",
            "a\n",
            "m 1\n",
            "unable 1\n",
            "railfanning 1\n",
            "creating 1\n",
            "contents 1\n",
            "youtube 1\n",
            "\n",
            " 2\n"
          ],
          "name": "stdout"
        }
      ]
    },
    {
      "cell_type": "code",
      "metadata": {
        "id": "KvH2KfdiHC4R",
        "colab": {
          "base_uri": "https://localhost:8080/"
        },
        "outputId": "4b9b3e19-d276-4be8-80eb-b3683a2f37fd"
      },
      "source": [
        "# SOLUTION USING DICTIONARY\n",
        "\n",
        "import PyPDF2\n",
        "\n",
        "file=open('IR_test.pdf','rb')\n",
        "\n",
        "#Create a READER object\n",
        "reader=PyPDF2.PdfFileReader(file)\n",
        "\n",
        "#Get the number of pages\n",
        "page=reader.getNumPages()\n",
        "print(\"Total pages \",page)\n",
        "\"\"\"\n",
        "pgobj=reader.getPage(0)\n",
        "text=pgobj.extractText()\n",
        "\"\"\"\n",
        "curr=0\n",
        "text=\"\"\n",
        "while(curr<page) :\n",
        "\n",
        "      #Create PAGE object for each page\n",
        "      pageobj=reader.getPage(curr)\n",
        "\n",
        "      #Extract the text from page\n",
        "      text=text+pageobj.extractText()\n",
        "      \n",
        "      curr+=1\n",
        "file.close()\n",
        "text=text.replace('\\n','')\n",
        "text=text.replace(',','')\n",
        "text=text.replace('.','')\n",
        "text=text.lower()\n",
        "buf=text.split(' ')\n",
        "for i in range(len(buf)) :\n",
        "      buf[i]=buf[i].strip()\n",
        "key_freq={}\n",
        "for i in buf :\n",
        "      if i not in key_freq.keys():\n",
        "            key_freq[i]=buf.count(i)\n",
        "print(key_freq)"
      ],
      "execution_count": 18,
      "outputs": [
        {
          "output_type": "stream",
          "text": [
            "Total pages  1\n",
            "{'my': 5, 'name': 1, 'is': 3, 'ayanabha': 1, 'ghosh': 1, 'i': 3, 'am': 2, 'a': 1, 'frustrated': 1, 'guy': 1, 'who': 1, 'cannot': 1, 'pursue': 2, 'his': 2, 'passion': 1, 'because': 1, 'of': 3, 'parents': 1, 'father': 2, 'an': 1, 'employee': 1, 'lic': 1, 'and': 3, 'have': 1, 'already': 1, 'secured': 1, 'two': 1, 'jobs': 1, 'during': 1, 'final': 1, 'year': 1, 'graduation': 1, 'but': 1, 'still': 1, 'puts': 1, 'pressure': 1, 'on': 2, 'me': 1, 'to': 2, 'study': 1, 'that': 1, 'why': 1, 'unable': 1, 'railfanning': 1, 'creating': 1, 'contents': 1, 'youtube': 1, '': 2}\n"
          ],
          "name": "stdout"
        }
      ]
    },
    {
      "cell_type": "markdown",
      "metadata": {
        "id": "JDTeMseXNLFw"
      },
      "source": [
        "# **IR-2 QS-1 : Consider any text file. Write a code in any language to implement the concept of tokenization (words and sentences).**"
      ]
    },
    {
      "cell_type": "code",
      "metadata": {
        "id": "kPj0c2uCBvtz",
        "colab": {
          "base_uri": "https://localhost:8080/"
        },
        "outputId": "d7eca289-0829-4633-ee27-b1ac560f2eb6"
      },
      "source": [
        "data=\"\"\n",
        "f=open('locomotive.txt','r')\n",
        "for line in f :\n",
        "  data=data+line\n",
        "\n",
        "import nltk\n",
        "nltk.download('punkt')\n",
        "\n",
        "tokens=nltk.sent_tokenize(data)\n",
        "print(\"Sentence Tokens = \",tokens)\n",
        "\n",
        "wtokens=nltk.word_tokenize(tokens[0])\n",
        "print(\"Word tokens = \",wtokens)"
      ],
      "execution_count": 19,
      "outputs": [
        {
          "output_type": "stream",
          "text": [
            "[nltk_data] Downloading package punkt to /root/nltk_data...\n",
            "[nltk_data]   Unzipping tokenizers/punkt.zip.\n",
            "Sentence Tokens =  ['Functions definitions create a new local scope for variables.', 'When we assign to a new variable inside the body of a function, the name is defined only within that function.', 'The name is not visible outside the function, or in other functions.', 'This behavior means we can choose variable names without being concerned about collisions with names used in other functions.']\n",
            "Word tokens =  ['Functions', 'definitions', 'create', 'a', 'new', 'local', 'scope', 'for', 'variables', '.']\n"
          ],
          "name": "stdout"
        }
      ]
    },
    {
      "cell_type": "markdown",
      "metadata": {
        "id": "HEq8wi1yNQOe"
      },
      "source": [
        "# **IR-2 QS-2 : Consider the given sentence “Call me Michael” : Retrieve only those words which are ending with letter ‘L’.**"
      ]
    },
    {
      "cell_type": "code",
      "metadata": {
        "id": "nyfKRGAVNgRs",
        "colab": {
          "base_uri": "https://localhost:8080/"
        },
        "outputId": "b0044766-cc50-4bb7-dd29-07cd0b24edec"
      },
      "source": [
        "message=\"Call me Michael\"\n",
        "word=message.split(\" \")\n",
        "for i in word :\n",
        "  if i.lower().endswith('l') :\n",
        "    print(i)"
      ],
      "execution_count": 20,
      "outputs": [
        {
          "output_type": "stream",
          "text": [
            "Call\n",
            "Michael\n"
          ],
          "name": "stdout"
        }
      ]
    },
    {
      "cell_type": "markdown",
      "metadata": {
        "id": "zdvaVIsENhgO"
      },
      "source": [
        "# **IR-2 QS-3 : Write a small code to convert list of words into lower case tokens from any text file.**"
      ]
    },
    {
      "cell_type": "code",
      "metadata": {
        "id": "vPEVNv3oNwXo",
        "colab": {
          "base_uri": "https://localhost:8080/"
        },
        "outputId": "30e4edff-2904-49b6-d46c-e494c9353754"
      },
      "source": [
        "f=open('locomotive.txt','r')\n",
        "data=f.read()\n",
        "f.close()\n",
        "\n",
        "import nltk\n",
        "nltk.download('punkt')\n",
        "\n",
        "wtokens=nltk.word_tokenize(data)\n",
        "\n",
        "for i in wtokens :\n",
        "  if i=='.' or i==',' :\n",
        "    wtokens.remove(i)\n",
        "\n",
        "for i in range(len(wtokens)) :\n",
        "  wtokens[i]=wtokens[i].lower()\n",
        "\n",
        "print(wtokens)"
      ],
      "execution_count": 21,
      "outputs": [
        {
          "output_type": "stream",
          "text": [
            "[nltk_data] Downloading package punkt to /root/nltk_data...\n",
            "[nltk_data]   Package punkt is already up-to-date!\n",
            "['functions', 'definitions', 'create', 'a', 'new', 'local', 'scope', 'for', 'variables', 'when', 'we', 'assign', 'to', 'a', 'new', 'variable', 'inside', 'the', 'body', 'of', 'a', 'function', 'the', 'name', 'is', 'defined', 'only', 'within', 'that', 'function', 'the', 'name', 'is', 'not', 'visible', 'outside', 'the', 'function', 'or', 'in', 'other', 'functions', 'this', 'behavior', 'means', 'we', 'can', 'choose', 'variable', 'names', 'without', 'being', 'concerned', 'about', 'collisions', 'with', 'names', 'used', 'in', 'other', 'functions']\n"
          ],
          "name": "stdout"
        }
      ]
    },
    {
      "cell_type": "markdown",
      "metadata": {
        "id": "OiHI0jiYN_rc"
      },
      "source": [
        "# **IR-2 QS-4 : Implement the concept of stemming and lemmatization in a text file.**"
      ]
    },
    {
      "cell_type": "code",
      "metadata": {
        "id": "FV5hpXdeOJ70",
        "colab": {
          "base_uri": "https://localhost:8080/"
        },
        "outputId": "60afce16-59a9-45ca-a2d9-d075ae2dcb9c"
      },
      "source": [
        "import nltk\n",
        "\n",
        "f=open('locomotive.txt','r')\n",
        "data=f.read()\n",
        "f.close()\n",
        "\n",
        "# Remove punctuation and case folding\n",
        "word=\"\"\n",
        "for i in data :\n",
        "  if i=='.' or i==',' :\n",
        "    continue\n",
        "  else :\n",
        "    word+=i.lower()\n",
        "word=word.split(' ')\n",
        "\n",
        "# STEMMING\n",
        "stemmer=nltk.stem.PorterStemmer()\n",
        "stemmed=[]\n",
        "for i in word :\n",
        "  stemmed.append(stemmer.stem(i))\n",
        "\n",
        "print(' '.join(stemmed))\n",
        "\n",
        "# LEMMATIZATION\n",
        "nltk.download('wordnet')\n",
        "lemmatizer = nltk.stem.WordNetLemmatizer()\n",
        "\n",
        "lemmatized=[]\n",
        "for i in word :\n",
        "  lemmatized.append(lemmatizer.lemmatize(i))\n",
        "\n",
        "print(' '.join(lemmatized))\n",
        "\n",
        "# a denotes adjective in \"pos\" \n",
        "print(\"fastest :\", lemmatizer.lemmatize(\"fastest\", pos =\"a\")) "
      ],
      "execution_count": 22,
      "outputs": [
        {
          "output_type": "stream",
          "text": [
            "function definit creat a new local scope for variabl when we assign to a new variabl insid the bodi of a function the name is defin onli within that function the name is not visibl outsid the function or in other function thi behavior mean we can choos variabl name without be concern about collis with name use in other function\n",
            "[nltk_data] Downloading package wordnet to /root/nltk_data...\n",
            "[nltk_data]   Package wordnet is already up-to-date!\n",
            "function definition create a new local scope for variable when we assign to a new variable inside the body of a function the name is defined only within that function the name is not visible outside the function or in other function this behavior mean we can choose variable name without being concerned about collision with name used in other function\n",
            "fastest : fast\n"
          ],
          "name": "stdout"
        }
      ]
    },
    {
      "cell_type": "markdown",
      "metadata": {
        "id": "h3gQQb9hOKvO"
      },
      "source": [
        "# **IR-2 QS-5 : Consider the text file below. Build a  model to remove the stopwords from the file.**\n",
        "“Functions definitions create a new local scope for variables. When we assign to a new variable inside the body of a function, the name is defined only within that function. The name is not visible outside the function, or in other functions. This behavior means we can choose variable names without being concerned about collisions with names used in other functions.” - "
      ]
    },
    {
      "cell_type": "code",
      "metadata": {
        "id": "YyOF9TLMOXsr",
        "colab": {
          "base_uri": "https://localhost:8080/"
        },
        "outputId": "896ffe11-882b-4bfb-a0ab-b7a607cc5aba"
      },
      "source": [
        "from nltk.corpus import stopwords \n",
        "\n",
        "f=open('locomotive.txt','r')\n",
        "example_sent=f.read()\n",
        "f.close()\n",
        "\n",
        "# Remove punctuation and case folding\n",
        "text=\"\"\n",
        "for i in example_sent :\n",
        "  if i=='.' or i==',' :\n",
        "    continue\n",
        "  else :\n",
        "    text+=i\n",
        "text=text.lower()\n",
        "\n",
        "# Breaking into words\n",
        "text=text.split(' ')\n",
        "\n",
        "# Removing stop words\n",
        "nltk.download('stopwords')\n",
        "stop_words = set(stopwords.words('english'))\n",
        "filtered = [] \n",
        "for w in text : \n",
        "\tif w not in stop_words : \n",
        "\t\tfiltered.append(w) \n",
        "\n",
        "print(filtered)"
      ],
      "execution_count": 23,
      "outputs": [
        {
          "output_type": "stream",
          "text": [
            "[nltk_data] Downloading package stopwords to /root/nltk_data...\n",
            "[nltk_data]   Package stopwords is already up-to-date!\n",
            "['functions', 'definitions', 'create', 'new', 'local', 'scope', 'variables', 'assign', 'new', 'variable', 'inside', 'body', 'function', 'name', 'defined', 'within', 'function', 'name', 'visible', 'outside', 'function', 'functions', 'behavior', 'means', 'choose', 'variable', 'names', 'without', 'concerned', 'collisions', 'names', 'used', 'functions']\n"
          ],
          "name": "stdout"
        }
      ]
    },
    {
      "cell_type": "markdown",
      "metadata": {
        "id": "e6yptPM0OqD4"
      },
      "source": [
        "# **IR-3 QS-1 : Create a corpus of 5 sentences. Implement the concept of feature extraction (BOW Model) for the corpus.**"
      ]
    },
    {
      "cell_type": "code",
      "metadata": {
        "id": "yUa0iHLOOyUK",
        "colab": {
          "base_uri": "https://localhost:8080/"
        },
        "outputId": "59f9bb2b-2eea-47d9-84ac-3b5a700659c1"
      },
      "source": [
        "import nltk\n",
        "\n",
        "news_headline1 = \"Elon Musks Boring Co to build high speed airport link in Chicago.\"\n",
        "news_headline2 = \"Elon Musks Boring Company to build high speed Chicago airport link\"\n",
        "news_headline3 = \"Elon Musks Boring Company approved to build high speed transit between downtown Chicago and OHare Airport\"\n",
        "news_headline4 = \"Both apple and orange are fruit\"\n",
        "\n",
        "#Building the corpus\n",
        "docs=[]\n",
        "docs.append(news_headline1)\n",
        "docs.append(news_headline2)\n",
        "docs.append(news_headline3)\n",
        "docs.append(news_headline4)\n",
        "\n",
        "# Removing punctuations and case folding\n",
        "for i in range(len(docs)) :\n",
        "  text=\"\"\n",
        "  for j in docs[i] :\n",
        "    if j=='.' or j==',' :\n",
        "      continue\n",
        "    else :\n",
        "      text+=j\n",
        "  text=text.lower()\n",
        "  docs[i]=text.split(' ')\n",
        "\n",
        "# Lemmatizing tokens to get better result\n",
        "nltk.download('wordnet')\n",
        "lemmatizer=nltk.stem.WordNetLemmatizer()\n",
        "for i in range(len(docs)) :\n",
        "  for j in range(len(docs[i])) :\n",
        "    docs[i][j]=lemmatizer.lemmatize(docs[i][j])\n",
        "\n",
        "# Building BOW dictionary for storing UNIQUE WORDS and vector\n",
        "BOW={}\n",
        "for i in docs :\n",
        "  for j in i :\n",
        "    if j not in BOW.keys() :\n",
        "      BOW[j]=[]\n",
        "\n",
        "# Scanning through the corpus and Vectorizing\n",
        "for i in docs : # For each document ...\n",
        "  for j in BOW.keys() : # Scan all the keys of Dict ...\n",
        "    if j not in i : # If key not in that doc ...\n",
        "      BOW[j].append(0) # Vector value = 0\n",
        "    else : # If key is in that doc ...\n",
        "      BOW[j].append(1) # Vector value = 1\n",
        "\n",
        "for i in BOW.keys() :\n",
        "  print(f\"{i} : {BOW[i]}\")"
      ],
      "execution_count": 24,
      "outputs": [
        {
          "output_type": "stream",
          "text": [
            "[nltk_data] Downloading package wordnet to /root/nltk_data...\n",
            "[nltk_data]   Package wordnet is already up-to-date!\n",
            "elon : [1, 1, 1, 0]\n",
            "musk : [1, 1, 1, 0]\n",
            "boring : [1, 1, 1, 0]\n",
            "co : [1, 0, 0, 0]\n",
            "to : [1, 1, 1, 0]\n",
            "build : [1, 1, 1, 0]\n",
            "high : [1, 1, 1, 0]\n",
            "speed : [1, 1, 1, 0]\n",
            "airport : [1, 1, 1, 0]\n",
            "link : [1, 1, 0, 0]\n",
            "in : [1, 0, 0, 0]\n",
            "chicago : [1, 1, 1, 0]\n",
            "company : [0, 1, 1, 0]\n",
            "approved : [0, 0, 1, 0]\n",
            "transit : [0, 0, 1, 0]\n",
            "between : [0, 0, 1, 0]\n",
            "downtown : [0, 0, 1, 0]\n",
            "and : [0, 0, 1, 1]\n",
            "ohare : [0, 0, 1, 0]\n",
            "both : [0, 0, 0, 1]\n",
            "apple : [0, 0, 0, 1]\n",
            "orange : [0, 0, 0, 1]\n",
            "are : [0, 0, 0, 1]\n",
            "fruit : [0, 0, 0, 1]\n"
          ],
          "name": "stdout"
        }
      ]
    },
    {
      "cell_type": "markdown",
      "metadata": {
        "id": "xwkSPfxaOy35"
      },
      "source": [
        "# **IR-3 QS-2 : Implement the concept of distance measurement in text retrieval from the mentioned dataset below.**\n",
        "\n",
        "**1. news_headline1 = \"Elon Musk's Boring Co to build high-speed airport link in Chicago\"**\n",
        "\n",
        "**2. news_headline2 = \"Elon Musk's Boring Company to build high-speed Chicago airport link\"**\n",
        "\n",
        "**3. news_headline3 = \"Elon Musk’s Boring Company approved to build high-speed transit between downtown Chicago and O’Hare Airport\"**\n",
        "\n",
        "**4. news_headline4 = \"Both apple and orange are fruit\"**\n",
        "\n",
        "\n",
        "\n"
      ]
    },
    {
      "cell_type": "code",
      "metadata": {
        "id": "S5j0ceq9Psch",
        "colab": {
          "base_uri": "https://localhost:8080/"
        },
        "outputId": "c1257f9a-491d-41dd-a54b-e6ee38248f17"
      },
      "source": [
        "import nltk\n",
        "\n",
        "# Build the corpus\n",
        "doc=[]\n",
        "doc.append(\"Elon Musk's Boring Co to build high-speed airport link in Chicago\")\n",
        "doc.append(\"Elon Musk's Boring Company to build high-speed Chicago airport link\")\n",
        "doc.append(\"Elon Musk's Boring Company approved to build high-speed transit between downtown Chicago and O’Hare Airport\")\n",
        "doc.append(\"Both apple and orange are fruit\")\n",
        "\n",
        "# Remove punctuation and case folding\n",
        "from nltk.tokenize import RegexpTokenizer\n",
        "tokenizer=RegexpTokenizer(r'\\w+')\n",
        "text=[]\n",
        "for i in doc :\n",
        "  i=i.lower()\n",
        "  text.append(tokenizer.tokenize(i))\n",
        "\n",
        "# Lemmatize each doc and store seperately as sets\n",
        "nltk.download('wordnet')\n",
        "words=[]\n",
        "lemmatizer=nltk.stem.WordNetLemmatizer()\n",
        "for i in range(len(text)) :\n",
        "  for j in range(len(text[i])) :\n",
        "    text[i][j]=lemmatizer.lemmatize(text[i][j])\n",
        "  words.append(set(text[i]))\n",
        "\n",
        "# Calculate the Jaccard's Coeff of each pair or docs\n",
        "for i in range(len(words)):\n",
        "  for j in range(i,len(words)):\n",
        "    jaccard=len(words[i].intersection(words[j]))/(len(words[i].union(words[j])))\n",
        "    print(f'Doc{i+1} and Doc{j+1} : {jaccard}')"
      ],
      "execution_count": 25,
      "outputs": [
        {
          "output_type": "stream",
          "text": [
            "[nltk_data] Downloading package wordnet to /root/nltk_data...\n",
            "[nltk_data]   Package wordnet is already up-to-date!\n",
            "Doc1 and Doc1 : 1.0\n",
            "Doc1 and Doc2 : 0.7857142857142857\n",
            "Doc1 and Doc3 : 0.47619047619047616\n",
            "Doc1 and Doc4 : 0.0\n",
            "Doc2 and Doc2 : 1.0\n",
            "Doc2 and Doc3 : 0.5789473684210527\n",
            "Doc2 and Doc4 : 0.0\n",
            "Doc3 and Doc3 : 1.0\n",
            "Doc3 and Doc4 : 0.043478260869565216\n",
            "Doc4 and Doc4 : 1.0\n"
          ],
          "name": "stdout"
        }
      ]
    },
    {
      "cell_type": "markdown",
      "metadata": {
        "id": "f8HlebeRPtBw"
      },
      "source": [
        "# **IR-3 QS-3 : Implement the concept of Named Entity Recognition for the purpose of Information retrieval in any sentence.**"
      ]
    },
    {
      "cell_type": "code",
      "metadata": {
        "id": "Cs2obqGmP4ok",
        "colab": {
          "base_uri": "https://localhost:8080/"
        },
        "outputId": "24c479ba-a3e1-4d5e-98dd-66887836bf9c"
      },
      "source": [
        "import nltk\n",
        "from nltk.tag import pos_tag\n",
        "\n",
        "doc=\"European authorities fined Google a record $5.1 billion on Wednesday for abusing its power in the mobile phone market and ordered the company to alter its practices.\"\n",
        "\n",
        "# Remove punctuations and case folding\n",
        "from nltk.tokenize import RegexpTokenizer\n",
        "tokenizer=RegexpTokenizer(r'\\w+')\n",
        "text=[]\n",
        "doc=doc.lower()\n",
        "text=tokenizer.tokenize(doc)\n",
        "\n",
        "# Extract words from sentence and apply POST\n",
        "nltk.download('averaged_perceptron_tagger')\n",
        "text=nltk.pos_tag(text)\n",
        "\n",
        "# Check for NN, NNP, NNPS\n",
        "NER=['NN','NNS','NNP','NNPS']\n",
        "for i in text : # Check for all words in Doc\n",
        "  for j in NER : # And check the Nouns\n",
        "    if j in i : # If that word is a Noun PoS\n",
        "      print(i[0]) # Print the word"
      ],
      "execution_count": 26,
      "outputs": [
        {
          "output_type": "stream",
          "text": [
            "[nltk_data] Downloading package averaged_perceptron_tagger to\n",
            "[nltk_data]     /root/nltk_data...\n",
            "[nltk_data]   Unzipping taggers/averaged_perceptron_tagger.zip.\n",
            "authorities\n",
            "record\n",
            "wednesday\n",
            "power\n",
            "phone\n",
            "market\n",
            "company\n",
            "practices\n"
          ],
          "name": "stdout"
        }
      ]
    },
    {
      "cell_type": "markdown",
      "metadata": {
        "id": "OqowVlS3P7FC"
      },
      "source": [
        "# **IR-4 QS-1 : Implement the concept of TF-IDF in any text document.**"
      ]
    },
    {
      "cell_type": "code",
      "metadata": {
        "id": "Ed6C9QKVQDg1",
        "colab": {
          "base_uri": "https://localhost:8080/"
        },
        "outputId": "2db7cdf7-71d7-4972-e2e7-8ad97b197f0e"
      },
      "source": [
        "import nltk\n",
        "from nltk.corpus import stopwords\n",
        "from nltk.tokenize import sent_tokenize, word_tokenize\n",
        "import math\n",
        "\n",
        "nltk.download('punkt')\n",
        "nltk.download('stopwords')\n",
        "\n",
        "news_headline1 = \"Elon Musks Boring Co to build high speed airport link in Chicago\"\n",
        "news_headline2 = \"Elon Musks Boring Company to build high speed Chicago airport link\"\n",
        "news_headline3 = \"Elon Musks Boring Company approved to build high speed transit between downtown Chicago and OHare Airport\"\n",
        "news_headline4 = \"Both apple and orange are fruit\"\n",
        "\n",
        "#Building the corpus\n",
        "docs=[]\n",
        "docs.append(news_headline1)\n",
        "docs.append(news_headline2)\n",
        "docs.append(news_headline3)\n",
        "docs.append(news_headline4)\n",
        "\n",
        "# Removing punctuations\n",
        "filtered_doc=[]\n",
        "for j in docs :\n",
        "  text=\"\"\n",
        "  for i in j :\n",
        "    if i=='.' or i==',' :\n",
        "      continue\n",
        "    else :\n",
        "      text+=i\n",
        "  filtered_doc.append(text.lower())\n",
        "\n",
        "# Tokenizing each document, removing stopwords and storing seperately\n",
        "word_tokens=[]\n",
        "stop_words = set(stopwords.words('english'))\n",
        "for j in filtered_doc :\n",
        "  temp=[]\n",
        "  for i in word_tokenize(j) :\n",
        "    if i not in stop_words :\n",
        "      temp.append(i)\n",
        "  word_tokens.append(temp)\n",
        "\n",
        "#Counting word frequency for each document\n",
        "word_freq_in_docs=[]\n",
        "for j in word_tokens :\n",
        "  temp={}\n",
        "  for i in j :\n",
        "    if i not in temp.keys() :\n",
        "      temp[i]=1\n",
        "    else :\n",
        "      temp[i]+=1\n",
        "  word_freq_in_docs.append(temp)\n",
        "\n",
        "#Calculating Term Frequency (TF)\n",
        "TF=[]\n",
        "k=1\n",
        "for j in word_freq_in_docs : # for each doc's dictionary j=each dict\n",
        "  temp={'Doc ID' : 'news_headline'+str(k)}\n",
        "  for i in j.keys() : # for each keys/terms in dictionary j\n",
        "    temp[i]=j[i]/len(j)\n",
        "  TF.append(temp)\n",
        "  k+=1\n",
        "print(f\"TF : \\n{TF}\")\n",
        "\n",
        "# Taking every terms in a corpus once and counting in how many docs it appears\n",
        "unique_term_freq={}\n",
        "for j in word_freq_in_docs : # iterating over each doc's dict\n",
        "  for i in j.keys() : # keys are unique, values contain how many times it has appeared, but that's of no use in IDF\n",
        "    if i not in unique_term_freq : # storing each term once, and calculating their appearance\n",
        "      unique_term_freq[i]=1\n",
        "    else :\n",
        "      unique_term_freq[i]+=1\n",
        "for j in unique_term_freq.keys() : \n",
        "  unique_term_freq[j]=math.log(len(docs)/unique_term_freq[j])\n",
        "print(f\"IDF : \\n{unique_term_freq}\")"
      ],
      "execution_count": 27,
      "outputs": [
        {
          "output_type": "stream",
          "text": [
            "[nltk_data] Downloading package punkt to /root/nltk_data...\n",
            "[nltk_data]   Package punkt is already up-to-date!\n",
            "[nltk_data] Downloading package stopwords to /root/nltk_data...\n",
            "[nltk_data]   Package stopwords is already up-to-date!\n",
            "TF : \n",
            "[{'Doc ID': 'news_headline1', 'elon': 0.1, 'musks': 0.1, 'boring': 0.1, 'co': 0.1, 'build': 0.1, 'high': 0.1, 'speed': 0.1, 'airport': 0.1, 'link': 0.1, 'chicago': 0.1}, {'Doc ID': 'news_headline2', 'elon': 0.1, 'musks': 0.1, 'boring': 0.1, 'company': 0.1, 'build': 0.1, 'high': 0.1, 'speed': 0.1, 'chicago': 0.1, 'airport': 0.1, 'link': 0.1}, {'Doc ID': 'news_headline3', 'elon': 0.07692307692307693, 'musks': 0.07692307692307693, 'boring': 0.07692307692307693, 'company': 0.07692307692307693, 'approved': 0.07692307692307693, 'build': 0.07692307692307693, 'high': 0.07692307692307693, 'speed': 0.07692307692307693, 'transit': 0.07692307692307693, 'downtown': 0.07692307692307693, 'chicago': 0.07692307692307693, 'ohare': 0.07692307692307693, 'airport': 0.07692307692307693}, {'Doc ID': 'news_headline4', 'apple': 0.3333333333333333, 'orange': 0.3333333333333333, 'fruit': 0.3333333333333333}]\n",
            "IDF : \n",
            "{'elon': 0.28768207245178085, 'musks': 0.28768207245178085, 'boring': 0.28768207245178085, 'co': 1.3862943611198906, 'build': 0.28768207245178085, 'high': 0.28768207245178085, 'speed': 0.28768207245178085, 'airport': 0.28768207245178085, 'link': 0.6931471805599453, 'chicago': 0.28768207245178085, 'company': 0.6931471805599453, 'approved': 1.3862943611198906, 'transit': 1.3862943611198906, 'downtown': 1.3862943611198906, 'ohare': 1.3862943611198906, 'apple': 1.3862943611198906, 'orange': 1.3862943611198906, 'fruit': 1.3862943611198906}\n"
          ],
          "name": "stdout"
        }
      ]
    },
    {
      "cell_type": "markdown",
      "metadata": {
        "id": "9qXc1MRRQD9x"
      },
      "source": [
        "# **IR-4 QS-2 : Implement the concept of Boolean query to find among 2 documents.**"
      ]
    },
    {
      "cell_type": "code",
      "metadata": {
        "id": "XeAXyyiAQJk-",
        "colab": {
          "base_uri": "https://localhost:8080/"
        },
        "outputId": "fcbaff66-1f2a-4d9c-cbf1-5f437ad62497"
      },
      "source": [
        "## BUILDING THE DICTIONARY AND POSTING LIST ##\n",
        "\n",
        "import nltk\n",
        "from nltk.corpus import stopwords\n",
        "from nltk.tokenize import sent_tokenize, word_tokenize\n",
        "\n",
        "doc1=\"Elon Musks Boring Co to build high speed airport link in Chicago. Elon Musks Boring Company to build high speed Chicago airport link.\"\n",
        "doc2=\"Elon Musks Boring Company approved to build high speed transit between downtown Chicago and OHare Airport. Both apple and orange are fruit.\"\n",
        "corpus=[doc1,doc2]\n",
        "\n",
        "# Removing punctuations and case folding\n",
        "text=[]\n",
        "for j in corpus :\n",
        "  temp=\"\"\n",
        "  for i in j :\n",
        "    if i=='.' or i==',' :\n",
        "      continue\n",
        "    else :\n",
        "      temp+=i\n",
        "  text.append(temp.lower()) # text[i]=doc[i]\n",
        "\n",
        "# Tokenize the text and Remove stopwords\n",
        "nltk.download('stopwords')\n",
        "stop_words=set(stopwords.words('english'))\n",
        "\n",
        "token=[]\n",
        "for j in text :\n",
        "  temp=[]\n",
        "  for i in word_tokenize(j) :\n",
        "    if i not in stop_words :\n",
        "      temp.append(i)\n",
        "  token.append(temp)  # token[i]=tokens of doc[i]\n",
        "\n",
        "# Lemmatize to get the words in dictionary format\n",
        "nltk.download('wordnet')\n",
        "lemmatizer = nltk.stem.WordNetLemmatizer()\n",
        "\n",
        "for j in range(len(token)) :\n",
        "  for i in range(len(token[j])) :\n",
        "    token[j][i]=lemmatizer.lemmatize(token[j][i]) # token[i]= lemmatized terms of doc[i]\n",
        "\n",
        "# Find the unique terms in each document\n",
        "unique_terms=[]\n",
        "for i in token :\n",
        "  unique_terms=list(set(unique_terms).union(set(i))) # THIS IS THE DICTIONARY\n",
        "\n",
        "# Create Postings list where posting_list={'term':[docid list]}\n",
        "posting_list={}\n",
        "for i in unique_terms :\n",
        "  temp=[]\n",
        "  for j in range(len(token)) :\n",
        "    if i in token[j] :\n",
        "      temp.append(j+1)\n",
        "  posting_list[i]=temp # THIS IS POSTING LIST FOR EACH TERM IN DICTIONARY\n",
        "\n",
        "for i in posting_list.keys() :\n",
        "  print(f\"{i} : {posting_list[i]}\")\n",
        "\n",
        "## QUERY PROCESSING ##\n",
        "\n",
        "query='elon and downtown'\n",
        "print(query)\n",
        "query=query.split(' ')\n",
        "\n",
        "if query[1]=='and' :\n",
        "  res=list(set(posting_list[query[0]]).intersection(set(posting_list[query[2]])))\n",
        "elif query[1]=='or' :\n",
        "  res=list(set(posting_list[query[0]]).union(set(posting_list[query[2]])))\n",
        "print(res)"
      ],
      "execution_count": 28,
      "outputs": [
        {
          "output_type": "stream",
          "text": [
            "[nltk_data] Downloading package stopwords to /root/nltk_data...\n",
            "[nltk_data]   Package stopwords is already up-to-date!\n",
            "[nltk_data] Downloading package wordnet to /root/nltk_data...\n",
            "[nltk_data]   Package wordnet is already up-to-date!\n",
            "speed : [1, 2]\n",
            "airport : [1, 2]\n",
            "musk : [1, 2]\n",
            "company : [1, 2]\n",
            "chicago : [1, 2]\n",
            "apple : [2]\n",
            "link : [1]\n",
            "transit : [2]\n",
            "ohare : [2]\n",
            "co : [1]\n",
            "boring : [1, 2]\n",
            "elon : [1, 2]\n",
            "approved : [2]\n",
            "orange : [2]\n",
            "high : [1, 2]\n",
            "build : [1, 2]\n",
            "fruit : [2]\n",
            "downtown : [2]\n",
            "elon and downtown\n",
            "[2]\n"
          ],
          "name": "stdout"
        }
      ]
    },
    {
      "cell_type": "markdown",
      "metadata": {
        "id": "o0wk_KG8NDIo"
      },
      "source": [
        "# **IR-5 QS-1 : Prepare a pdf file which contains some table format. Using any language extract only the table data from the pdf file.**"
      ]
    },
    {
      "cell_type": "code",
      "metadata": {
        "id": "AosiqAWINRme",
        "colab": {
          "base_uri": "https://localhost:8080/"
        },
        "outputId": "d873a63b-8f0e-484a-df09-572557234ab7"
      },
      "source": [
        "from tabula import read_pdf\n",
        "data_pd=read_pdf('table_data.pdf',pages='all')[0] #As Pandas Dataframe\n",
        "data_list=read_pdf('table_data.pdf',pages='all') #As list\n",
        "print(data_pd)"
      ],
      "execution_count": 29,
      "outputs": [
        {
          "output_type": "stream",
          "text": [
            "Got stderr: Aug 01, 2021 4:30:38 AM org.apache.pdfbox.pdmodel.font.FileSystemFontProvider loadDiskCache\n",
            "WARNING: New fonts found, font cache will be re-built\n",
            "Aug 01, 2021 4:30:38 AM org.apache.pdfbox.pdmodel.font.FileSystemFontProvider <init>\n",
            "WARNING: Building on-disk font cache, this may take a while\n",
            "Aug 01, 2021 4:30:38 AM org.apache.pdfbox.pdmodel.font.FileSystemFontProvider <init>\n",
            "WARNING: Finished building on-disk font cache, found 17 fonts\n",
            "\n"
          ],
          "name": "stderr"
        },
        {
          "output_type": "stream",
          "text": [
            "   Serial no.               Particulars            Type     Cost (in INR)\n",
            "0         1.0          Registration fee        One-time             5,000\n",
            "1         2.0          Dedicated Server        One-time            15,000\n",
            "2         3.0              Office space  One-time (down            35,000\n",
            "3         NaN                       NaN        payment)               NaN\n",
            "4         4.0     IP address for server        One-time               649\n",
            "5         5.0  Installation of internet        One-time             2,000\n",
            "6         6.0         Storage space for  One-time (down  18,000 per space\n",
            "7         NaN   medicines (5 storages)*        payment)               NaN\n",
            "8         NaN                       NaN           TOTAL          4,58,245\n"
          ],
          "name": "stdout"
        }
      ]
    },
    {
      "cell_type": "code",
      "metadata": {
        "colab": {
          "base_uri": "https://localhost:8080/"
        },
        "id": "CZVygEKo31xg",
        "outputId": "9719300c-bec4-4489-ff2f-5aa1f1baf2aa"
      },
      "source": [
        "print(data_list)"
      ],
      "execution_count": 30,
      "outputs": [
        {
          "output_type": "stream",
          "text": [
            "[   Serial no.               Particulars            Type     Cost (in INR)\n",
            "0         1.0          Registration fee        One-time             5,000\n",
            "1         2.0          Dedicated Server        One-time            15,000\n",
            "2         3.0              Office space  One-time (down            35,000\n",
            "3         NaN                       NaN        payment)               NaN\n",
            "4         4.0     IP address for server        One-time               649\n",
            "5         5.0  Installation of internet        One-time             2,000\n",
            "6         6.0         Storage space for  One-time (down  18,000 per space\n",
            "7         NaN   medicines (5 storages)*        payment)               NaN\n",
            "8         NaN                       NaN           TOTAL          4,58,245]\n"
          ],
          "name": "stdout"
        }
      ]
    },
    {
      "cell_type": "markdown",
      "metadata": {
        "id": "kLzh3uEI2-Lo"
      },
      "source": [
        "# **IR-6 QS-1 : Implement the Representation of a Text Document in Vector Space Model and Computing Similarity between two documents.**"
      ]
    },
    {
      "cell_type": "code",
      "metadata": {
        "id": "V-fol75z3JoH",
        "colab": {
          "base_uri": "https://localhost:8080/"
        },
        "outputId": "7b181ad7-2c3f-4693-e3a7-360c5f0b3547"
      },
      "source": [
        "import nltk\n",
        "\n",
        "# Build the corpus\n",
        "doc=[]\n",
        "doc.append(\"Elon Musk's Boring Co to build high-speed airport link in Chicago\")\n",
        "doc.append(\"Elon Musk's Boring Company to build high-speed Chicago airport link\")\n",
        "doc.append(\"Elon Musk's Boring Company approved to build high-speed transit between downtown Chicago and O’Hare Airport\")\n",
        "doc.append(\"Both apple and orange are fruit\")\n",
        "\n",
        "# Remove punctuation and case folding\n",
        "from nltk.tokenize import RegexpTokenizer\n",
        "tokenizer=RegexpTokenizer(r'\\w+')\n",
        "text=[]\n",
        "for i in doc :\n",
        "  i=i.lower()\n",
        "  text.append(tokenizer.tokenize(i))\n",
        "\n",
        "# Lemmatize each doc and store seperately as sets\n",
        "nltk.download('wordnet')\n",
        "words=[]\n",
        "lemmatizer=nltk.stem.WordNetLemmatizer()\n",
        "for i in range(len(text)) :\n",
        "  for j in range(len(text[i])) :\n",
        "    text[i][j]=lemmatizer.lemmatize(text[i][j])\n",
        "  words.append(set(text[i]))\n",
        "\n",
        "# Calculate the Jaccard's Coeff of each pair or docs\n",
        "for i in range(len(words)):\n",
        "  for j in range(i,len(words)):\n",
        "    jaccard=len(words[i].intersection(words[j]))/(len(words[i].union(words[j])))\n",
        "    print(f'Doc{i+1} and Doc{j+1} : {jaccard}')"
      ],
      "execution_count": 31,
      "outputs": [
        {
          "output_type": "stream",
          "text": [
            "[nltk_data] Downloading package wordnet to /root/nltk_data...\n",
            "[nltk_data]   Package wordnet is already up-to-date!\n",
            "Doc1 and Doc1 : 1.0\n",
            "Doc1 and Doc2 : 0.7857142857142857\n",
            "Doc1 and Doc3 : 0.47619047619047616\n",
            "Doc1 and Doc4 : 0.0\n",
            "Doc2 and Doc2 : 1.0\n",
            "Doc2 and Doc3 : 0.5789473684210527\n",
            "Doc2 and Doc4 : 0.0\n",
            "Doc3 and Doc3 : 1.0\n",
            "Doc3 and Doc4 : 0.043478260869565216\n",
            "Doc4 and Doc4 : 1.0\n"
          ],
          "name": "stdout"
        }
      ]
    },
    {
      "cell_type": "markdown",
      "metadata": {
        "id": "qm4TNeFh3KT2"
      },
      "source": [
        "# **IR-6 QS-2 : Write a program to remove stop words from the tokens of the source code of a URL.**"
      ]
    },
    {
      "cell_type": "code",
      "metadata": {
        "id": "7akVr9T33TEk",
        "colab": {
          "base_uri": "https://localhost:8080/"
        },
        "outputId": "c7c4a335-29f9-4763-9c18-df9ca85fbbb4"
      },
      "source": [
        "import requests as req\n",
        "import nltk\n",
        "\n",
        "url=\"https://gate2cse.blogspot.com/\"\n",
        "r=req.get(url)\n",
        "code=r.text\n",
        "#code=code.split('\\n')\n",
        "\n",
        "nltk.download('punkt')\n",
        "wtokens=nltk.word_tokenize(code)\n",
        "for i in range(len(wtokens)) :\n",
        "  wtokens[i]=wtokens[i].lower()\n",
        "\n",
        "nltk.download('stopwords')\n",
        "stop_words = set(nltk.corpus.stopwords.words('english'))\n",
        "filtered = [] \n",
        "for w in wtokens : \n",
        "\tif w not in stop_words : \n",
        "\t\tfiltered.append(w)\n",
        "print(filtered)"
      ],
      "execution_count": 32,
      "outputs": [
        {
          "output_type": "stream",
          "text": [
            "[nltk_data] Downloading package punkt to /root/nltk_data...\n",
            "[nltk_data]   Package punkt is already up-to-date!\n",
            "[nltk_data] Downloading package stopwords to /root/nltk_data...\n",
            "[nltk_data]   Package stopwords is already up-to-date!\n",
            "['<', '!', 'doctype', 'html', '>', '<', 'html', \"dir='ltr\", \"'\", \"lang='en\", \"'\", '>', '<', 'head', '>', '<', 'meta', \"content='width=device-width\", ',', 'initial-scale=1', \"'\", \"name='viewport'/\", '>', '<', 'title', '>', 'gate', '2', 'cse', '<', '/title', '>', '<', 'meta', \"content='text/html\", ';', 'charset=utf-8', \"'\", \"http-equiv='content-type'/\", '>', '<', '!', '--', 'chrome', ',', 'firefox', 'os', 'opera', '--', '>', '<', 'meta', 'content=', \"'\", '#', 'e4ecef', \"'\", \"name='theme-color'/\", '>', '<', '!', '--', 'windows', 'phone', '--', '>', '<', 'meta', 'content=', \"'\", '#', 'e4ecef', \"'\", \"name='msapplication-navbutton-color'/\", '>', '<', 'meta', \"content='blogger\", \"'\", \"name='generator'/\", '>', '<', 'link', \"href='https\", ':', '//gate2cse.blogspot.com/favicon.ico', \"'\", \"rel='icon\", \"'\", \"type='image/x-icon'/\", '>', '<', 'link', \"href='https\", ':', '//gate2cse.blogspot.com/', \"'\", \"rel='canonical'/\", '>', '<', 'link', 'rel=', \"''\", 'alternate', \"''\", 'type=', \"''\", 'application/atom+xml', \"''\", 'title=', \"''\", 'gate', '2', 'cse', '-', 'atom', \"''\", 'href=', \"''\", 'https', ':', '//gate2cse.blogspot.com/feeds/posts/default', \"''\", '/', '>', '<', 'link', 'rel=', \"''\", 'alternate', \"''\", 'type=', \"''\", 'application/rss+xml', \"''\", 'title=', \"''\", 'gate', '2', 'cse', '-', 'rss', \"''\", 'href=', \"''\", 'https', ':', '//gate2cse.blogspot.com/feeds/posts/default', '?', 'alt=rss', \"''\", '/', '>', '<', 'link', 'rel=', \"''\", 'service.post', \"''\", 'type=', \"''\", 'application/atom+xml', \"''\", 'title=', \"''\", 'gate', '2', 'cse', '-', 'atom', \"''\", 'href=', \"''\", 'https', ':', '//www.blogger.com/feeds/7143236966222162812/posts/default', \"''\", '/', '>', '<', 'link', 'rel=', \"''\", \"''\", 'href=', \"''\", 'https', ':', '//www.blogger.com/profile/05753022452574883859', \"''\", '/', '>', '<', '!', '--', 'ca', \"n't\", 'find', 'substitution', 'tag', '[', 'blog.iecssretrofitlinks', ']', '--', '>', '<', 'meta', \"content='https\", ':', '//gate2cse.blogspot.com/', \"'\", \"property='og\", ':', \"url'/\", '>', '<', 'meta', \"content='gate\", '2', 'cse', \"'\", \"property='og\", ':', \"title'/\", '>', '<', 'meta', \"content='perfect\", 'destination', 'cs', 'grads', \"'\", \"property='og\", ':', \"description'/\", '>', '<', 'meta', \"content='https\", ':', '//1.bp.blogspot.com/-t5tpkjojzqe/yo72x2ijtpi/aaaaaaabhra/vfzmz9qc7ceryjg2nt4pabupfigjbcp3qclcbgasyhq/w1200-h630-p-k-no-nu/iiit-g.jpg', \"'\", \"property='og\", ':', \"image'/\", '>', '<', 'meta', \"content='https\", ':', '//1.bp.blogspot.com/-zyvjkaucyrc/ypd7p2dfgmi/aaaaaaabhvm/x0lgu-7rowifgedwdipmyf1_zw19af43gclcbgasyhq/w1200-h630-p-k-no-nu/tezpur', '%', '2buniv.jpg', \"'\", \"property='og\", ':', \"image'/\", '>', '<', 'meta', \"content='https\", ':', '//1.bp.blogspot.com/-rftgs8qluwi/you34awoubi/aaaaaaabg7e/spxipt3brtm4m3gg0o31kdzrwjdlqeq9qclcbgasyhq/w1200-h630-p-k-no-nu/nitw.jpg', \"'\", \"property='og\", ':', \"image'/\", '>', '<', 'meta', \"content='https\", ':', '//1.bp.blogspot.com/-ka5rnbl1-_u/ynsws0kbtii/aaaaaaabgce/cvisoagf57q_wzzjsborqoz_bwxilv57aclcbgasyhq/w1200-h630-p-k-no-nu/iiit', '%', '2branchi.jpeg', \"'\", \"property='og\", ':', \"image'/\", '>', '<', 'meta', \"content='https\", ':', '//1.bp.blogspot.com/-9g7rcpitq-m/ynqlfhfbgyi/aaaaaaabgao/2fzumtfjsq0ms7-jvjrme2hkoz8fsihnwclcbgasyhq/w1200-h630-p-k-no-nu/iitj.png', \"'\", \"property='og\", ':', \"image'/\", '>', '<', 'meta', \"content='https\", ':', '//1.bp.blogspot.com/-l-_wi1bapa8/yna1xmoj6hi/aaaaaaabgza/snotojhic_enzjeukmedgzpohs6x-ptdqclcbgasyhq/w1200-h630-p-k-no-nu/nerist-0.jpg', \"'\", \"property='og\", ':', \"image'/\", '>', '<', 'meta', \"content='https\", ':', '//1.bp.blogspot.com/-4tkmb9jnutq/ym3pnojz36i/aaaaaaabgxs/mgzgrb50a8s0br5x6kx7wwral9pyabqdqclcbgasyhq/w1200-h630-p-k-no-nu/iiit', '%', '2bbhagalpur.jpg', \"'\", \"property='og\", ':', \"image'/\", '>', '<', '!', '--', '[', 'ie', ']', '>', '<', 'script', '>', '(', 'function', '(', ')', '{', 'var', 'html5', '=', '(', '``', 'abbr', ',', 'article', ',', 'aside', ',', 'audio', ',', 'canvas', ',', 'datalist', ',', 'details', ',', \"''\", '+', '``', 'figure', ',', 'footer', ',', 'header', ',', 'hgroup', ',', 'mark', ',', 'menu', ',', 'meter', ',', 'nav', ',', 'output', ',', \"''\", '+', '``', 'progress', ',', 'section', ',', 'time', ',', 'video', \"''\", ')', '.split', '(', \"'\", ',', \"'\", ')', ';', '(', 'var', '=', '0', ';', '<', 'html5.length', ';', 'i++', ')', '{', 'document.createelement', '(', 'html5', '[', ']', ')', ';', '}', 'try', '{', 'document.execcommand', '(', \"'backgroundimagecache\", \"'\", ',', 'false', ',', 'true', ')', ';', '}', 'catch', '(', 'e', ')', '{', '}', '}', ')', '(', ')', ';', '<', '/script', '>', '<', '!', '[', 'endif', ']', '--', '>', '<', 'style', \"type='text/css\", \"'\", '>', '@', 'font-face', '{', 'font-family', ':', \"'allerta\", \"'\", ';', 'font-style', ':', 'normal', ';', 'font-weight:400', ';', 'src', ':', 'url', '(', '//fonts.gstatic.com/s/allerta/v11/twmo-iahrlkbx940ynyxtq.ttf', ')', 'format', '(', \"'truetype\", \"'\", ')', ';', '}', '@', 'font-face', '{', 'font-family', ':', \"'arvo\", \"'\", ';', 'font-style', ':', 'normal', ';', 'font-weight:400', ';', 'src', ':', 'url', '(', '//fonts.gstatic.com/s/arvo/v14/tdbd2owug0mkqscq6a.ttf', ')', 'format', '(', \"'truetype\", \"'\", ')', ';', '}', '@', 'font-face', '{', 'font-family', ':', \"'lora\", \"'\", ';', 'font-style', ':', 'normal', ';', 'font-weight:400', ';', 'src', ':', 'url', '(', '//fonts.gstatic.com/s/lora/v17/0qi6mx1d_jougqbt0gvtjpa787weuxjbkqg.ttf', ')', 'format', '(', \"'truetype\", \"'\", ')', ';', '}', '@', 'font-face', '{', 'font-family', ':', \"'open\", 'sans', \"'\", ';', 'font-style', ':', 'italic', ';', 'font-weight:600', ';', 'src', ':', 'url', '(', '//fonts.gstatic.com/s/opensans/v20/memnyags126mizpba-ufukxgudhriqy.ttf', ')', 'format', '(', \"'truetype\", \"'\", ')', ';', '}', '@', 'font-face', '{', 'font-family', ':', \"'open\", 'sans', \"'\", ';', 'font-style', ':', 'normal', ';', 'font-weight:400', ';', 'src', ':', 'url', '(', '//fonts.gstatic.com/s/opensans/v20/mem8yags126mizpba-ufvz0e.ttf', ')', 'format', '(', \"'truetype\", \"'\", ')', ';', '}', '@', 'font-face', '{', 'font-family', ':', \"'open\", 'sans', \"'\", ';', 'font-style', ':', 'normal', ';', 'font-weight:600', ';', 'src', ':', 'url', '(', '//fonts.gstatic.com/s/opensans/v20/mem5yags126mizpba-unirkouuhs.ttf', ')', 'format', '(', \"'truetype\", \"'\", ')', ';', '}', '@', 'font-face', '{', 'font-family', ':', \"'open\", 'sans', \"'\", ';', 'font-style', ':', 'normal', ';', 'font-weight:700', ';', 'src', ':', 'url', '(', '//fonts.gstatic.com/s/opensans/v20/mem5yags126mizpba-un7rgouuhs.ttf', ')', 'format', '(', \"'truetype\", \"'\", ')', ';', '}', '<', '/style', '>', '<', 'style', \"id='page-skin-1\", \"'\", \"type='text/css\", \"'\", '>', '<', '!', '--', '/*', '!', 'normalize.css', 'v3.0.1', '|', 'mit', 'license', '|', 'git.io/normalize', '*/html', '{', 'font-family', ':', 'sans-serif', ';', '-ms-text-size-adjust:100', '%', ';', '-webkit-text-size-adjust:100', '%', '}', 'body', '{', 'margin:0', '}', 'article', ',', 'aside', ',', 'details', ',', 'figcaption', ',', 'figure', ',', 'footer', ',', 'header', ',', 'hgroup', ',', 'main', ',', 'nav', ',', 'section', ',', 'summary', '{', 'display', ':', 'block', '}', 'audio', ',', 'canvas', ',', 'progress', ',', 'video', '{', 'display', ':', 'inline-block', ';', 'vertical-align', ':', 'baseline', '}', 'audio', ':', '(', '[', 'controls', ']', ')', '{', 'display', ':', 'none', ';', 'height:0', '}', '[', 'hidden', ']', ',', 'template', '{', 'display', ':', 'none', '}', '{', 'background', ':', 'transparent', '}', ':', 'active', ',', ':', 'hover', '{', 'outline:0', '}', 'abbr', '[', 'title', ']', '{', 'border-bottom:1px', 'dotted', '}', 'b', ',', 'strong', '{', 'font-weight', ':', 'bold', '}', 'dfn', '{', 'font-style', ':', 'italic', '}', 'h1', '{', 'font-size:2em', ';', 'margin', ':', '.67em', '0', '}', 'mark', '{', 'background', ':', '#', 'ff0', ';', 'color', ':', '#', '000', '}', 'small', '{', 'font-size:80', '%', '}', 'sub', ',', 'sup', '{', 'font-size:75', '%', ';', 'line-height:0', ';', 'position', ':', 'relative', ';', 'vertical-align', ':', 'baseline', '}', 'sup', '{', 'top', ':', '-0.5em', '}', 'sub', '{', 'bottom', ':', '-0.25em', '}', 'img', '{', 'border:0', '}', 'svg', ':', '(', ':', 'root', ')', '{', 'overflow', ':', 'hidden', '}', 'figure', '{', 'margin:1em', '40px', '}', 'hr', '{', '-moz-box-sizing', ':', 'content-box', ';', 'box-sizing', ':', 'content-box', ';', 'height:0', '}', 'pre', '{', 'overflow', ':', 'auto', '}', 'code', ',', 'kbd', ',', 'pre', ',', 'samp', '{', 'font-family', ':', 'monospace', ',', 'monospace', ';', 'font-size:1em', '}', 'button', ',', 'input', ',', 'optgroup', ',', 'select', ',', 'textarea', '{', 'color', ':', 'inherit', ';', 'font', ':', 'inherit', ';', 'margin:0', '}', 'button', '{', 'overflow', ':', 'visible', '}', 'button', ',', 'select', '{', 'text-transform', ':', 'none', '}', 'button', ',', 'html', 'input', '[', 'type=', \"''\", 'button', \"''\", ']', ',', 'input', '[', 'type=', \"''\", 'reset', \"''\", ']', ',', 'input', '[', 'type=', \"''\", 'submit', \"''\", ']', '{', '-webkit-appearance', ':', 'button', ';', 'cursor', ':', 'pointer', '}', 'button', '[', 'disabled', ']', ',', 'html', 'input', '[', 'disabled', ']', '{', 'cursor', ':', 'default', '}', 'button', ':', ':-moz-focus-inner', ',', 'input', ':', ':-moz-focus-inner', '{', 'border:0', ';', 'padding:0', '}', 'input', '{', 'line-height', ':', 'normal', '}', 'input', '[', 'type=', \"''\", 'checkbox', \"''\", ']', ',', 'input', '[', 'type=', \"''\", 'radio', \"''\", ']', '{', 'box-sizing', ':', 'border-box', ';', 'padding:0', '}', 'input', '[', 'type=', \"''\", 'number', \"''\", ']', ':', ':-webkit-inner-spin-button', ',', 'input', '[', 'type=', \"''\", 'number', \"''\", ']', ':', ':-webkit-outer-spin-button', '{', 'height', ':', 'auto', '}', 'input', '[', 'type=', \"''\", 'search', \"''\", ']', '{', '-webkit-appearance', ':', 'textfield', ';', '-moz-box-sizing', ':', 'content-box', ';', '-webkit-box-sizing', ':', 'content-box', ';', 'box-sizing', ':', 'content-box', '}', 'input', '[', 'type=', \"''\", 'search', \"''\", ']', ':', ':-webkit-search-cancel-button', ',', 'input', '[', 'type=', \"''\", 'search', \"''\", ']', ':', ':-webkit-search-decoration', '{', '-webkit-appearance', ':', 'none', '}', 'fieldset', '{', 'border:1px', 'solid', '#', 'c0c0c0', ';', 'margin:0', '2px', ';', 'padding', ':', '.35em', '.625em', '.75em', '}', 'legend', '{', 'border:0', ';', 'padding:0', '}', 'textarea', '{', 'overflow', ':', 'auto', '}', 'optgroup', '{', 'font-weight', ':', 'bold', '}', 'table', '{', 'border-collapse', ':', 'collapse', ';', 'border-spacing:0', '}', 'td', ',', 'th', '{', 'padding:0', '}', 'body', '{', 'overflow-wrap', ':', 'break-word', ';', 'word-break', ':', 'break-word', ';', 'word-wrap', ':', 'break-word', '}', '.hidden', '{', 'display', ':', 'none', '}', '.invisible', '{', 'visibility', ':', 'hidden', '}', '.container', ':', ':after', ',', '.float-container', ':', ':after', '{', 'clear', ':', ';', 'content', ':', \"''\", \"''\", ';', 'display', ':', 'table', '}', '.clearboth', '{', 'clear', ':', '}', '#', 'comments', '.comment', '.comment-actions', ',', '.subscribe-popup', '.followbyemail', '.follow-by-email-submit', ',', '.widget.profile', '.profile-link', '{', 'background:0', '0', ';', 'border:0', ';', 'box-shadow', ':', 'none', ';', 'color', ':', '#', '3367d6', ';', 'cursor', ':', 'pointer', ';', 'font-size:14px', ';', 'font-weight:700', ';', 'outline:0', ';', 'text-decoration', ':', 'none', ';', 'text-transform', ':', 'uppercase', ';', 'width', ':', 'auto', '}', '.dim-overlay', '{', 'background-color', ':', 'rgba', '(', '0,0,0', ',', '.54', ')', ';', 'height:100vh', ';', 'left:0', ';', 'position', ':', 'fixed', ';', 'top:0', ';', 'width:100', '%', '}', '#', 'sharing-dim-overlay', '{', 'background-color', ':', 'transparent', '}', 'input', ':', ':-ms-clear', '{', 'display', ':', 'none', '}', '.blogger-logo', ',', '.svg-icon-24.blogger-logo', '{', 'fill', ':', '#', 'ff9800', ';', 'opacity:1', '}', '.loading-spinner-large', '{', '-webkit-animation', ':', 'mspin-rotate', '1.568s', 'infinite', 'linear', ';', 'animation', ':', 'mspin-rotate', '1.568s', 'infinite', 'linear', ';', 'height:48px', ';', 'overflow', ':', 'hidden', ';', 'position', ':', 'absolute', ';', 'width:48px', ';', 'z-index:200', '}', '.loading-spinner-large', '>', 'div', '{', '-webkit-animation', ':', 'mspin-revrot', '5332ms', 'infinite', 'steps', '(', '4', ')', ';', 'animation', ':', 'mspin-revrot', '5332ms', 'infinite', 'steps', '(', '4', ')', '}', '.loading-spinner-large', '>', 'div', '>', 'div', '{', '-webkit-animation', ':', 'mspin-singlecolor-large-film', '1333ms', 'infinite', 'steps', '(', '81', ')', ';', 'animation', ':', 'mspin-singlecolor-large-film', '1333ms', 'infinite', 'steps', '(', '81', ')', ';', 'background-size:100', '%', ';', 'height:48px', ';', 'width:3888px', '}', '.mspin-black-large', '>', 'div', '>', 'div', ',', '.mspin-grey_54-large', '>', 'div', '>', 'div', '{', 'background-image', ':', 'url', '(', 'https', ':', '//www.blogblog.com/indie/mspin_black_large.svg', ')', '}', '.mspin-white-large', '>', 'div', '>', 'div', '{', 'background-image', ':', 'url', '(', 'https', ':', '//www.blogblog.com/indie/mspin_white_large.svg', ')', '}', '.mspin-grey_54-large', '{', 'opacity', ':', '.54', '}', '@', '-webkit-keyframes', 'mspin-singlecolor-large-film', '{', '{', '-webkit-transform', ':', 'translatex', '(', '0', ')', ';', 'transform', ':', 'translatex', '(', '0', ')', '}', '{', '-webkit-transform', ':', 'translatex', '(', '-3888px', ')', ';', 'transform', ':', 'translatex', '(', '-3888px', ')', '}', '}', '@', 'keyframes', 'mspin-singlecolor-large-film', '{', '{', '-webkit-transform', ':', 'translatex', '(', '0', ')', ';', 'transform', ':', 'translatex', '(', '0', ')', '}', '{', '-webkit-transform', ':', 'translatex', '(', '-3888px', ')', ';', 'transform', ':', 'translatex', '(', '-3888px', ')', '}', '}', '@', '-webkit-keyframes', 'mspin-rotate', '{', '{', '-webkit-transform', ':', 'rotate', '(', '0', ')', ';', 'transform', ':', 'rotate', '(', '0', ')', '}', '{', '-webkit-transform', ':', 'rotate', '(', '360deg', ')', ';', 'transform', ':', 'rotate', '(', '360deg', ')', '}', '}', '@', 'keyframes', 'mspin-rotate', '{', '{', '-webkit-transform', ':', 'rotate', '(', '0', ')', ';', 'transform', ':', 'rotate', '(', '0', ')', '}', '{', '-webkit-transform', ':', 'rotate', '(', '360deg', ')', ';', 'transform', ':', 'rotate', '(', '360deg', ')', '}', '}', '@', '-webkit-keyframes', 'mspin-revrot', '{', '{', '-webkit-transform', ':', 'rotate', '(', '0', ')', ';', 'transform', ':', 'rotate', '(', '0', ')', '}', '{', '-webkit-transform', ':', 'rotate', '(', '-360deg', ')', ';', 'transform', ':', 'rotate', '(', '-360deg', ')', '}', '}', '@', 'keyframes', 'mspin-revrot', '{', '{', '-webkit-transform', ':', 'rotate', '(', '0', ')', ';', 'transform', ':', 'rotate', '(', '0', ')', '}', '{', '-webkit-transform', ':', 'rotate', '(', '-360deg', ')', ';', 'transform', ':', 'rotate', '(', '-360deg', ')', '}', '}', '.skip-navigation', '{', 'background-color', ':', '#', 'fff', ';', 'box-sizing', ':', 'border-box', ';', 'color', ':', '#', '000', ';', 'display', ':', 'block', ';', 'height:0', ';', 'left:0', ';', 'line-height:50px', ';', 'overflow', ':', 'hidden', ';', 'padding-top:0', ';', 'position', ':', 'fixed', ';', 'text-align', ':', 'center', ';', 'top:0', ';', '-webkit-transition', ':', 'box-shadow', '.3s', ',', 'height', '.3s', ',', 'padding-top', '.3s', ';', 'transition', ':', 'box-shadow', '.3s', ',', 'height', '.3s', ',', 'padding-top', '.3s', ';', 'width:100', '%', ';', 'z-index:900', '}', '.skip-navigation', ':', 'focus', '{', 'box-shadow:0', '4px', '5px', '0', 'rgba', '(', '0,0,0', ',', '.14', ')', ',0', '1px', '10px', '0', 'rgba', '(', '0,0,0', ',', '.12', ')', ',0', '2px', '4px', '-1px', 'rgba', '(', '0,0,0', ',', '.2', ')', ';', 'height:50px', '}', '#', 'main', '{', 'outline:0', '}', '.main-heading', '{', 'position', ':', 'absolute', ';', 'clip', ':', 'rect', '(', '1px,1px,1px,1px', ')', ';', 'padding:0', ';', 'border:0', ';', 'height:1px', ';', 'width:1px', ';', 'overflow', ':', 'hidden', '}', '.attribution', '{', 'margin-top:1em', ';', 'text-align', ':', 'center', '}', '.attribution', '.blogger', 'img', ',', '.attribution', '.blogger', 'svg', '{', 'vertical-align', ':', 'bottom', '}', '.attribution', '.blogger', 'img', '{', 'margin-right', ':', '.5em', '}', '.attribution', 'div', '{', 'line-height:24px', ';', 'margin-top', ':', '.5em', '}', '.attribution', '.copyright', ',', '.attribution', '.image-attribution', '{', 'font-size', ':', '.7em', ';', 'margin-top:1.5em', '}', '.blog_mobile_video_class', '{', 'display', ':', 'none', '}', '.bg-photo', '{', 'background-attachment', ':', 'scroll', '!', 'important', '}', 'body', '.css_lightbox', '{', 'z-index:900', '}', '.extendable', '.show-less', ',', '.extendable', '.show-more', '{', 'border-color', ':', '#', '3367d6', ';', 'color', ':', '#', '3367d6', ';', 'margin-top:8px', '}', '.extendable', '.show-less.hidden', ',', '.extendable', '.show-more.hidden', '{', 'display', ':', 'none', '}', '.inline-ad', '{', 'display', ':', 'none', ';', 'max-width:100', '%', ';', 'overflow', ':', 'hidden', '}', '.adsbygoogle', '{', 'display', ':', 'block', '}', '#', 'cookiechoiceinfo', '{', 'bottom:0', ';', 'top', ':', 'auto', '}', 'iframe.b-hbp-video', '{', 'border:0', '}', '.post-body', 'img', '{', 'max-width:100', '%', '}', '.post-body', 'iframe', '{', 'max-width:100', '%', '}', '.post-body', '[', 'imageanchor=', \"''\", '1', \"''\", ']', '{', 'display', ':', 'inline-block', '}', '.byline', '{', 'margin-right:1em', '}', '.byline', ':', 'last-child', '{', 'margin-right:0', '}', '.link-copied-dialog', '{', 'max-width:520px', ';', 'outline:0', '}', '.link-copied-dialog', '.modal-dialog-buttons', '{', 'margin-top:8px', '}', '.link-copied-dialog', '.goog-buttonset-default', '{', 'background:0', '0', ';', 'border:0', '}', '.link-copied-dialog', '.goog-buttonset-default', ':', 'focus', '{', 'outline:0', '}', '.paging-control-container', '{', 'margin-bottom:16px', '}', '.paging-control-container', '.paging-control', '{', 'display', ':', 'inline-block', '}', '.paging-control-container', '.comment-range-text', ':', ':after', ',', '.paging-control-container', '.paging-control', '{', 'color', ':', '#', '3367d6', '}', '.paging-control-container', '.comment-range-text', ',', '.paging-control-container', '.paging-control', '{', 'margin-right:8px', '}', '.paging-control-container', '.comment-range-text', ':', ':after', ',', '.paging-control-container', '.paging-control', ':', ':after', '{', 'content', ':', \"''\", '\\\\b7', \"''\", ';', 'cursor', ':', 'default', ';', 'padding-left:8px', ';', 'pointer-events', ':', 'none', '}', '.paging-control-container', '.comment-range-text', ':', 'last-child', ':', ':after', ',', '.paging-control-container', '.paging-control', ':', 'last-child', ':', ':after', '{', 'content', ':', 'none', '}', '.byline.reactions', 'iframe', '{', 'height:20px', '}', '.b-notification', '{', 'color', ':', '#', '000', ';', 'background-color', ':', '#', 'fff', ';', 'border-bottom', ':', 'solid', '1px', '#', '000', ';', 'box-sizing', ':', 'border-box', ';', 'padding:16px', '32px', ';', 'text-align', ':', 'center', '}', '.b-notification.visible', '{', '-webkit-transition', ':', 'margin-top', '.3s', 'cubic-bezier', '(', '.4,0', ',', '.2,1', ')', ';', 'transition', ':', 'margin-top', '.3s', 'cubic-bezier', '(', '.4,0', ',', '.2,1', ')', '}', '.b-notification.invisible', '{', 'position', ':', 'absolute', '}', '.b-notification-close', '{', 'position', ':', 'absolute', ';', 'right:8px', ';', 'top:8px', '}', '.no-posts-message', '{', 'line-height:40px', ';', 'text-align', ':', 'center', '}', '@', 'media', 'screen', '(', 'max-width:968px', ')', '{', 'body.item-view', '.post-body', '[', 'imageanchor=', \"''\", '1', \"''\", ']', '[', 'style*=', \"''\", 'float', ':', 'left', ';', \"''\", ']', ',', 'body.item-view', '.post-body', '[', 'imageanchor=', \"''\", '1', \"''\", ']', '[', 'style*=', \"''\", 'float', ':', 'right', ';', \"''\", ']', '{', 'float', ':', 'none', '!', 'important', ';', 'clear', ':', 'none', '!', 'important', '}', 'body.item-view', '.post-body', '[', 'imageanchor=', \"''\", '1', \"''\", ']', 'img', '{', 'display', ':', 'block', ';', 'height', ':', 'auto', ';', 'margin:0', 'auto', '}', 'body.item-view', '.post-body', '>', '.separator', ':', 'first-child', '>', '[', 'imageanchor=', \"''\", '1', \"''\", ']', ':', 'first-child', '{', 'margin-top:20px', '}', '.post-body', '[', 'imageanchor', ']', '{', 'display', ':', 'block', '}', 'body.item-view', '.post-body', '[', 'imageanchor=', \"''\", '1', \"''\", ']', '{', 'margin-left:0', '!', 'important', ';', 'margin-right:0', '!', 'important', '}', 'body.item-view', '.post-body', '[', 'imageanchor=', \"''\", '1', \"''\", ']', '+a', '[', 'imageanchor=', \"''\", '1', \"''\", ']', '{', 'margin-top:16px', '}', '}', '.item-control', '{', 'display', ':', 'none', '}', '#', 'comments', '{', 'border-top:1px', 'dashed', 'rgba', '(', '0,0,0', ',', '.54', ')', ';', 'margin-top:20px', ';', 'padding:20px', '}', '#', 'comments', '.comment-thread', 'ol', '{', 'margin:0', ';', 'padding-left:0', ';', 'padding-left:0', '}', '#', 'comments', '.comment', '.comment-replybox-single', ',', '#', 'comments', '.comment-thread', '.comment-replies', '{', 'margin-left:60px', '}', '#', 'comments', '.comment-thread', '.thread-count', '{', 'display', ':', 'none', '}', '#', 'comments', '.comment', '{', 'list-style-type', ':', 'none', ';', 'padding:0', '0', '30px', ';', 'position', ':', 'relative', '}', '#', 'comments', '.comment', '.comment', '{', 'padding-bottom:8px', '}', '.comment', '.avatar-image-container', '{', 'position', ':', 'absolute', '}', '.comment', '.avatar-image-container', 'img', '{', 'border-radius:50', '%', '}', '.avatar-image-container', 'svg', ',', '.comment', '.avatar-image-container', '.avatar-icon', '{', 'border-radius:50', '%', ';', 'border', ':', 'solid', '1px', '#', '227796', ';', 'box-sizing', ':', 'border-box', ';', 'fill', ':', '#', '227796', ';', 'height:35px', ';', 'margin:0', ';', 'padding:7px', ';', 'width:35px', '}', '.comment', '.comment-block', '{', 'margin-top:10px', ';', 'margin-left:60px', ';', 'padding-bottom:0', '}', '#', 'comments', '.comment-author-header-wrapper', '{', 'margin-left:40px', '}', '#', 'comments', '.comment', '.thread-expanded', '.comment-block', '{', 'padding-bottom:20px', '}', '#', 'comments', '.comment', '.comment-header', '.user', ',', '#', 'comments', '.comment', '.comment-header', '.user', '{', 'color', ':', '#', '000000', ';', 'font-style', ':', 'normal', ';', 'font-weight:700', '}', '#', 'comments', '.comment', '.comment-actions', '{', 'bottom:0', ';', 'margin-bottom:15px', ';', 'position', ':', 'absolute', '}', '#', 'comments', '.comment', '.comment-actions', '>', '*', '{', 'margin-right:8px', '}', '#', 'comments', '.comment', '.comment-header', '.datetime', '{', 'bottom:0', ';', 'color', ':', 'rgba', '(', '0,0,0,0.537', ')', ';', 'display', ':', 'inline-block', ';', 'font-size:13px', ';', 'font-style', ':', 'italic', ';', 'margin-left:8px', '}', '#', 'comments', '.comment', '.comment-footer', '.comment-timestamp', ',', '#', 'comments', '.comment', '.comment-header', '.datetime', '{', 'color', ':', 'rgba', '(', '0,0,0,0.537', ')', '}', '#', 'comments', '.comment', '.comment-content', ',', '.comment', '.comment-body', '{', 'margin-top:12px', ';', 'word-break', ':', 'break-word', '}', '.comment-body', '{', 'margin-bottom:12px', '}', '#', 'comments.embed', '[', 'data-num-comments=', \"''\", '0', \"''\", ']', '{', 'border:0', ';', 'margin-top:0', ';', 'padding-top:0', '}', '#', 'comments.embed', '[', 'data-num-comments=', \"''\", '0', \"''\", ']', '#', 'comment-post-message', ',', '#', 'comments.embed', '[', 'data-num-comments=', \"''\", '0', \"''\", ']', 'div.comment-form', '>', 'p', ',', '#', 'comments.embed', '[', 'data-num-comments=', \"''\", '0', \"''\", ']', 'p.comment-footer', '{', 'display', ':', 'none', '}', '#', 'comment-editor-src', '{', 'display', ':', 'none', '}', '.comments', '.comments-content', '.loadmore.loaded', '{', 'max-height:0', ';', 'opacity:0', ';', 'overflow', ':', 'hidden', '}', '.extendable', '.remaining-items', '{', 'height:0', ';', 'overflow', ':', 'hidden', ';', '-webkit-transition', ':', 'height', '.3s', 'cubic-bezier', '(', '.4,0', ',', '.2,1', ')', ';', 'transition', ':', 'height', '.3s', 'cubic-bezier', '(', '.4,0', ',', '.2,1', ')', '}', '.extendable', '.remaining-items.expanded', '{', 'height', ':', 'auto', '}', '.svg-icon-24', ',', '.svg-icon-24-button', '{', 'cursor', ':', 'pointer', ';', 'height:24px', ';', 'width:24px', ';', 'min-width:24px', '}', '.touch-icon', '{', 'margin', ':', '-12px', ';', 'padding:12px', '}', '.touch-icon', ':', 'active', ',', '.touch-icon', ':', 'focus', '{', 'background-color', ':', 'rgba', '(', '153,153,153', ',', '.4', ')', ';', 'border-radius:50', '%', '}', 'svg', ':', '(', ':', 'root', ')', '.touch-icon', '{', 'overflow', ':', 'visible', '}', 'html', '[', 'dir=rtl', ']', '.rtl-reversible-icon', '{', '-webkit-transform', ':', 'scalex', '(', '-1', ')', ';', '-ms-transform', ':', 'scalex', '(', '-1', ')', ';', 'transform', ':', 'scalex', '(', '-1', ')', '}', '.svg-icon-24-button', ',', '.touch-icon-button', '{', 'background:0', '0', ';', 'border:0', ';', 'margin:0', ';', 'outline:0', ';', 'padding:0', '}', '.touch-icon-button', '.touch-icon', ':', 'active', ',', '.touch-icon-button', '.touch-icon', ':', 'focus', '{', 'background-color', ':', 'transparent', '}', '.touch-icon-button', ':', 'active', '.touch-icon', ',', '.touch-icon-button', ':', 'focus', '.touch-icon', '{', 'background-color', ':', 'rgba', '(', '153,153,153', ',', '.4', ')', ';', 'border-radius:50', '%', '}', '.profile', '.default-avatar-wrapper', '.avatar-icon', '{', 'border-radius:50', '%', ';', 'border', ':', 'solid', '1px', '#', '000000', ';', 'box-sizing', ':', 'border-box', ';', 'fill', ':', '#', '000000', ';', 'margin:0', '}', '.profile', '.individual', '.default-avatar-wrapper', '.avatar-icon', '{', 'padding:25px', '}', '.profile', '.individual', '.avatar-icon', ',', '.profile', '.individual', '.profile-img', '{', 'height:120px', ';', 'width:120px', '}', '.profile', '.team', '.default-avatar-wrapper', '.avatar-icon', '{', 'padding:8px', '}', '.profile', '.team', '.avatar-icon', ',', '.profile', '.team', '.default-avatar-wrapper', ',', '.profile', '.team', '.profile-img', '{', 'height:40px', ';', 'width:40px', '}', '.snippet-container', '{', 'margin:0', ';', 'position', ':', 'relative', ';', 'overflow', ':', 'hidden', '}', '.snippet-fade', '{', 'bottom:0', ';', 'box-sizing', ':', 'border-box', ';', 'position', ':', 'absolute', ';', 'width:96px', '}', '.snippet-fade', '{', 'right:0', '}', '.snippet-fade', ':', '{', 'content', ':', \"''\", '\\\\2026', \"''\", '}', '.snippet-fade', ':', '{', 'float', ':', 'right', '}', '.post-bottom', '{', '-webkit-box-align', ':', 'center', ';', '-webkit-align-items', ':', 'center', ';', '-ms-flex-align', ':', 'center', ';', 'align-items', ':', 'center', ';', 'display', ':', '-webkit-box', ';', 'display', ':', '-webkit-flex', ';', 'display', ':', '-ms-flexbox', ';', 'display', ':', 'flex', ';', '-webkit-flex-wrap', ':', 'wrap', ';', '-ms-flex-wrap', ':', 'wrap', ';', 'flex-wrap', ':', 'wrap', '}', '.post-footer', '{', '-webkit-box-flex:1', ';', '-webkit-flex:1', '1', 'auto', ';', '-ms-flex:1', '1', 'auto', ';', 'flex:1', '1', 'auto', ';', '-webkit-flex-wrap', ':', 'wrap', ';', '-ms-flex-wrap', ':', 'wrap', ';', 'flex-wrap', ':', 'wrap', ';', '-webkit-box-ordinal-group:2', ';', '-webkit-order:1', ';', '-ms-flex-order:1', ';', 'order:1', '}', '.post-footer', '>', '*', '{', '-webkit-box-flex:0', ';', '-webkit-flex:0', '1', 'auto', ';', '-ms-flex:0', '1', 'auto', ';', 'flex:0', '1', 'auto', '}', '.post-footer', '.byline', ':', 'last-child', '{', 'margin-right:1em', '}', '.jump-link', '{', '-webkit-box-flex:0', ';', '-webkit-flex:0', '0', 'auto', ';', '-ms-flex:0', '0', 'auto', ';', 'flex:0', '0', 'auto', ';', '-webkit-box-ordinal-group:3', ';', '-webkit-order:2', ';', '-ms-flex-order:2', ';', 'order:2', '}', '.centered-top-container.sticky', '{', 'left:0', ';', 'position', ':', 'fixed', ';', 'right:0', ';', 'top:0', ';', 'width', ':', 'auto', ';', 'z-index:8', ';', '-webkit-transition-property', ':', 'opacity', ',', '-webkit-transform', ';', 'transition-property', ':', 'opacity', ',', '-webkit-transform', ';', 'transition-property', ':', 'transform', ',', 'opacity', ';', 'transition-property', ':', 'transform', ',', 'opacity', ',', '-webkit-transform', ';', '-webkit-transition-duration', ':', '.2s', ';', 'transition-duration', ':', '.2s', ';', '-webkit-transition-timing-function', ':', 'cubic-bezier', '(', '.4,0', ',', '.2,1', ')', ';', 'transition-timing-function', ':', 'cubic-bezier', '(', '.4,0', ',', '.2,1', ')', '}', '.centered-top-placeholder', '{', 'display', ':', 'none', '}', '.collapsed-header', '.centered-top-placeholder', '{', 'display', ':', 'block', '}', '.centered-top-container', '.header', '.replaced', 'h1', ',', '.centered-top-placeholder', '.header', '.replaced', 'h1', '{', 'display', ':', 'none', '}', '.centered-top-container.sticky', '.header', '.replaced', 'h1', '{', 'display', ':', 'block', '}', '.centered-top-container.sticky', '.header', '.header-widget', '{', 'background:0', '0', '}', '.centered-top-container.sticky', '.header', '.header-image-wrapper', '{', 'display', ':', 'none', '}', '.centered-top-container', 'img', ',', '.centered-top-placeholder', 'img', '{', 'max-width:100', '%', '}', '.collapsible', '{', '-webkit-transition', ':', 'height', '.3s', 'cubic-bezier', '(', '.4,0', ',', '.2,1', ')', ';', 'transition', ':', 'height', '.3s', 'cubic-bezier', '(', '.4,0', ',', '.2,1', ')', '}', '.collapsible', ',', '.collapsible', '>', 'summary', '{', 'display', ':', 'block', ';', 'overflow', ':', 'hidden', '}', '.collapsible', '>', ':', '(', 'summary', ')', '{', 'display', ':', 'none', '}', '.collapsible', '[', 'open', ']', '>', ':', '(', 'summary', ')', '{', 'display', ':', 'block', '}', '.collapsible', ':', 'focus', ',', '.collapsible', '>', 'summary', ':', 'focus', '{', 'outline:0', '}', '.collapsible', '>', 'summary', '{', 'cursor', ':', 'pointer', ';', 'display', ':', 'block', ';', 'padding:0', '}', '.collapsible', ':', 'focus', '>', 'summary', ',', '.collapsible', '>', 'summary', ':', 'focus', '{', 'background-color', ':', 'transparent', '}', '.collapsible', '>', 'summary', ':', ':-webkit-details-marker', '{', 'display', ':', 'none', '}', '.collapsible-title', '{', '-webkit-box-align', ':', 'center', ';', '-webkit-align-items', ':', 'center', ';', '-ms-flex-align', ':', 'center', ';', 'align-items', ':', 'center', ';', 'display', ':', '-webkit-box', ';', 'display', ':', '-webkit-flex', ';', 'display', ':', '-ms-flexbox', ';', 'display', ':', 'flex', '}', '.collapsible-title', '.title', '{', '-webkit-box-flex:1', ';', '-webkit-flex:1', '1', 'auto', ';', '-ms-flex:1', '1', 'auto', ';', 'flex:1', '1', 'auto', ';', '-webkit-box-ordinal-group:1', ';', '-webkit-order:0', ';', '-ms-flex-order:0', ';', 'order:0', ';', 'overflow', ':', 'hidden', ';', 'text-overflow', ':', 'ellipsis', ';', 'white-space', ':', 'nowrap', '}', '.collapsible-title', '.chevron-down', ',', '.collapsible', '[', 'open', ']', '.collapsible-title', '.chevron-up', '{', 'display', ':', 'block', '}', '.collapsible-title', '.chevron-up', ',', '.collapsible', '[', 'open', ']', '.collapsible-title', '.chevron-down', '{', 'display', ':', 'none', '}', '.overflowable-container', '{', 'max-height:48px', ';', 'overflow', ':', 'hidden', ';', 'position', ':', 'relative', '}', '.overflow-button', '{', 'cursor', ':', 'pointer', '}', '#', 'overflowable-dim-overlay', '{', 'background:0', '0', '}', '.overflow-popup', '{', 'box-shadow:0', '2px', '2px', '0', 'rgba', '(', '0,0,0', ',', '.14', ')', ',0', '3px', '1px', '-2px', 'rgba', '(', '0,0,0', ',', '.2', ')', ',0', '1px', '5px', '0', 'rgba', '(', '0,0,0', ',', '.12', ')', ';', 'background-color', ':', '#', 'e4ecef', ';', 'left:0', ';', 'max-width', ':', 'calc', '(', '100', '%', '-', '32px', ')', ';', 'position', ':', 'absolute', ';', 'top:0', ';', 'visibility', ':', 'hidden', ';', 'z-index:101', '}', '.overflow-popup', 'ul', '{', 'list-style', ':', 'none', '}', '.overflow-popup', '.tabs', 'li', ',', '.overflow-popup', 'li', '{', 'display', ':', 'block', ';', 'height', ':', 'auto', '}', '.overflow-popup', '.tabs', 'li', '{', 'padding-left:0', ';', 'padding-right:0', '}', '.overflow-button.hidden', ',', '.overflow-popup', '.tabs', 'li.hidden', ',', '.overflow-popup', 'li.hidden', '{', 'display', ':', 'none', '}', '.ripple', '{', 'position', ':', 'relative', '}', '.ripple', '>', '*', '{', 'z-index:1', '}', '.splash-wrapper', '{', 'bottom:0', ';', 'left:0', ';', 'overflow', ':', 'hidden', ';', 'pointer-events', ':', 'none', ';', 'position', ':', 'absolute', ';', 'right:0', ';', 'top:0', ';', 'z-index:0', '}', '.splash', '{', 'background', ':', '#', 'ccc', ';', 'border-radius:100', '%', ';', 'display', ':', 'block', ';', 'opacity', ':', '.6', ';', 'position', ':', 'absolute', ';', '-webkit-transform', ':', 'scale', '(', '0', ')', ';', '-ms-transform', ':', 'scale', '(', '0', ')', ';', 'transform', ':', 'scale', '(', '0', ')', '}', '.splash.animate', '{', '-webkit-animation', ':', 'ripple-effect', '.4s', 'linear', ';', 'animation', ':', 'ripple-effect', '.4s', 'linear', '}', '@', '-webkit-keyframes', 'ripple-effect', '{', '100', '%', '{', 'opacity:0', ';', '-webkit-transform', ':', 'scale', '(', '2.5', ')', ';', 'transform', ':', 'scale', '(', '2.5', ')', '}', '}', '@', 'keyframes', 'ripple-effect', '{', '100', '%', '{', 'opacity:0', ';', '-webkit-transform', ':', 'scale', '(', '2.5', ')', ';', 'transform', ':', 'scale', '(', '2.5', ')', '}', '}', '.search', '{', 'display', ':', '-webkit-box', ';', 'display', ':', '-webkit-flex', ';', 'display', ':', '-ms-flexbox', ';', 'display', ':', 'flex', ';', 'line-height:24px', ';', 'width:24px', '}', '.search.focused', '{', 'width:100', '%', '}', '.search.focused', '.section', '{', 'width:100', '%', '}', '.search', 'form', '{', 'z-index:101', '}', '.search', 'h3', '{', 'display', ':', 'none', '}', '.search', 'form', '{', 'display', ':', '-webkit-box', ';', 'display', ':', '-webkit-flex', ';', 'display', ':', '-ms-flexbox', ';', 'display', ':', 'flex', ';', '-webkit-box-flex:1', ';', '-webkit-flex:1', '0', '0', ';', '-ms-flex:1', '0', '0px', ';', 'flex:1', '0', '0', ';', 'border-bottom', ':', 'solid', '1px', 'transparent', ';', 'padding-bottom:8px', '}', '.search', 'form', '>', '*', '{', 'display', ':', 'none', '}', '.search.focused', 'form', '>', '*', '{', 'display', ':', 'block', '}', '.search', '.search-input', 'label', '{', 'display', ':', 'none', '}', '.centered-top-placeholder.cloned', '.search', 'form', '{', 'z-index:30', '}', '.search.focused', 'form', '{', 'border-color', ':', '#', '000000', ';', 'position', ':', 'relative', ';', 'width', ':', 'auto', '}', '.collapsed-header', '.centered-top-container', '.search.focused', 'form', '{', 'border-bottom-color', ':', 'transparent', '}', '.search-expand', '{', '-webkit-box-flex:0', ';', '-webkit-flex:0', '0', 'auto', ';', '-ms-flex:0', '0', 'auto', ';', 'flex:0', '0', 'auto', '}', '.search-expand-text', '{', 'display', ':', 'none', '}', '.search-close', '{', 'display', ':', 'inline', ';', 'vertical-align', ':', 'middle', '}', '.search-input', '{', '-webkit-box-flex:1', ';', '-webkit-flex:1', '0', '1px', ';', '-ms-flex:1', '0', '1px', ';', 'flex:1', '0', '1px', '}', '.search-input', 'input', '{', 'background:0', '0', ';', 'border:0', ';', 'box-sizing', ':', 'border-box', ';', 'color', ':', '#', '000000', ';', 'display', ':', 'inline-block', ';', 'outline:0', ';', 'width', ':', 'calc', '(', '100', '%', '-', '48px', ')', '}', '.search-input', 'input.no-cursor', '{', 'color', ':', 'transparent', ';', 'text-shadow:0', '0', '0', '#', '000000', '}', '.collapsed-header', '.centered-top-container', '.search-action', ',', '.collapsed-header', '.centered-top-container', '.search-input', 'input', '{', 'color', ':', '#', '000000', '}', '.collapsed-header', '.centered-top-container', '.search-input', 'input.no-cursor', '{', 'color', ':', 'transparent', ';', 'text-shadow:0', '0', '0', '#', '000000', '}', '.collapsed-header', '.centered-top-container', '.search-input', 'input.no-cursor', ':', 'focus', ',', '.search-input', 'input.no-cursor', ':', 'focus', '{', 'outline:0', '}', '.search-focused', '>', '*', '{', 'visibility', ':', 'hidden', '}', '.search-focused', '.search', ',', '.search-focused', '.search-icon', '{', 'visibility', ':', 'visible', '}', '.search.focused', '.search-action', '{', 'display', ':', 'block', '}', '.search.focused', '.search-action', ':', 'disabled', '{', 'opacity', ':', '.3', '}', '.sidebar-container', '{', 'background-color', ':', '#', 'f7f7f7', ';', 'max-width:320px', ';', 'overflow-y', ':', 'auto', ';', '-webkit-transition-property', ':', '-webkit-transform', ';', 'transition-property', ':', '-webkit-transform', ';', 'transition-property', ':', 'transform', ';', 'transition-property', ':', 'transform', ',', '-webkit-transform', ';', '-webkit-transition-duration', ':', '.3s', ';', 'transition-duration', ':', '.3s', ';', '-webkit-transition-timing-function', ':', 'cubic-bezier', '(', '0,0', ',', '.2,1', ')', ';', 'transition-timing-function', ':', 'cubic-bezier', '(', '0,0', ',', '.2,1', ')', ';', 'width:320px', ';', 'z-index:101', ';', '-webkit-overflow-scrolling', ':', 'touch', '}', '.sidebar-container', '.navigation', '{', 'line-height:0', ';', 'padding:16px', '}', '.sidebar-container', '.sidebar-back', '{', 'cursor', ':', 'pointer', '}', '.sidebar-container', '.widget', '{', 'background:0', '0', ';', 'margin:0', '16px', ';', 'padding:16px', '0', '}', '.sidebar-container', '.widget', '.title', '{', 'color', ':', '#', '000000', ';', 'margin:0', '}', '.sidebar-container', '.widget', 'ul', '{', 'list-style', ':', 'none', ';', 'margin:0', ';', 'padding:0', '}', '.sidebar-container', '.widget', 'ul', 'ul', '{', 'margin-left:1em', '}', '.sidebar-container', '.widget', 'li', '{', 'font-size:16px', ';', 'line-height', ':', 'normal', '}', '.sidebar-container', '.widget+.widget', '{', 'border-top:1px', 'dashed', '#', '000000', '}', '.blogarchive', 'li', '{', 'margin:16px', '0', '}', '.blogarchive', 'li', ':', 'last-child', '{', 'margin-bottom:0', '}', '.label', 'li', '{', 'display', ':', 'inline-block', '}', '.blogarchive', '.post-count', ',', '.label', '.label-count', '{', 'float', ':', 'right', ';', 'margin-left', ':', '.25em', '}', '.blogarchive', '.post-count', ':', ':before', ',', '.label', '.label-count', ':', ':before', '{', 'content', ':', \"''\", '(', '``', '}', '.blogarchive', '.post-count', ':', ':after', ',', '.label', '.label-count', ':', ':after', '{', 'content', ':', \"''\", ')', \"''\", '}', '.widget.translate', '.skiptranslate', '>', 'div', '{', 'display', ':', 'block', '!', 'important', '}', '.widget.profile', '.profile-link', '{', 'display', ':', '-webkit-box', ';', 'display', ':', '-webkit-flex', ';', 'display', ':', '-ms-flexbox', ';', 'display', ':', 'flex', '}', '.widget.profile', '.team-member', '.default-avatar-wrapper', ',', '.widget.profile', '.team-member', '.profile-img', '{', '-webkit-box-flex:0', ';', '-webkit-flex:0', '0', 'auto', ';', '-ms-flex:0', '0', 'auto', ';', 'flex:0', '0', 'auto', ';', 'margin-right:1em', '}', '.widget.profile', '.individual', '.profile-link', '{', '-webkit-box-orient', ':', 'vertical', ';', '-webkit-box-direction', ':', 'normal', ';', '-webkit-flex-direction', ':', 'column', ';', '-ms-flex-direction', ':', 'column', ';', 'flex-direction', ':', 'column', '}', '.widget.profile', '.team', '.profile-link', '.profile-name', '{', '-webkit-align-self', ':', 'center', ';', '-ms-flex-item-align', ':', 'center', ';', 'align-self', ':', 'center', ';', 'display', ':', 'block', ';', '-webkit-box-flex:1', ';', '-webkit-flex:1', '1', 'auto', ';', '-ms-flex:1', '1', 'auto', ';', 'flex:1', '1', 'auto', '}', '.dim-overlay', '{', 'background-color', ':', 'rgba', '(', '0,0,0', ',', '.54', ')', ';', 'z-index:100', '}', 'body.sidebar-visible', '{', 'overflow-y', ':', 'hidden', '}', '@', 'media', 'screen', '(', 'max-width:1619px', ')', '{', '.sidebar-container', '{', 'bottom:0', ';', 'position', ':', 'fixed', ';', 'top:0', ';', 'left', ':', 'auto', ';', 'right:0', '}', '.sidebar-container.sidebar-invisible', '{', '-webkit-transition-timing-function', ':', 'cubic-bezier', '(', '.4,0', ',', '.6,1', ')', ';', 'transition-timing-function', ':', 'cubic-bezier', '(', '.4,0', ',', '.6,1', ')', ';', '-webkit-transform', ':', 'translatex', '(', '320px', ')', ';', '-ms-transform', ':', 'translatex', '(', '320px', ')', ';', 'transform', ':', 'translatex', '(', '320px', ')', '}', '}', '.dialog', '{', 'box-shadow:0', '2px', '2px', '0', 'rgba', '(', '0,0,0', ',', '.14', ')', ',0', '3px', '1px', '-2px', 'rgba', '(', '0,0,0', ',', '.2', ')', ',0', '1px', '5px', '0', 'rgba', '(', '0,0,0', ',', '.12', ')', ';', 'background', ':', '#', 'e4ecef', ';', 'box-sizing', ':', 'border-box', ';', 'color', ':', '#', '000000', ';', 'padding:30px', ';', 'position', ':', 'fixed', ';', 'text-align', ':', 'center', ';', 'width', ':', 'calc', '(', '100', '%', '-', '24px', ')', ';', 'z-index:101', '}', '.dialog', 'input', '[', 'type=email', ']', ',', '.dialog', 'input', '[', 'type=text', ']', '{', 'background-color', ':', 'transparent', ';', 'border:0', ';', 'border-bottom', ':', 'solid', '1px', 'rgba', '(', '0,0,0', ',', '.12', ')', ';', 'color', ':', '#', '000000', ';', 'display', ':', 'block', ';', 'font-family', ':', 'arvo', ';', 'font-size:16px', ';', 'line-height:24px', ';', 'margin', ':', 'auto', ';', 'padding-bottom:7px', ';', 'outline:0', ';', 'text-align', ':', 'center', ';', 'width:100', '%', '}', '.dialog', 'input', '[', 'type=email', ']', ':', ':-webkit-input-placeholder', ',', '.dialog', 'input', '[', 'type=text', ']', ':', ':-webkit-input-placeholder', '{', 'color', ':', '#', '000000', '}', '.dialog', 'input', '[', 'type=email', ']', ':', ':-moz-placeholder', ',', '.dialog', 'input', '[', 'type=text', ']', ':', ':-moz-placeholder', '{', 'color', ':', '#', '000000', '}', '.dialog', 'input', '[', 'type=email', ']', ':', '-ms-input-placeholder', ',', '.dialog', 'input', '[', 'type=text', ']', ':', '-ms-input-placeholder', '{', 'color', ':', '#', '000000', '}', '.dialog', 'input', '[', 'type=email', ']', ':', ':-ms-input-placeholder', ',', '.dialog', 'input', '[', 'type=text', ']', ':', ':-ms-input-placeholder', '{', 'color', ':', '#', '000000', '}', '.dialog', 'input', '[', 'type=email', ']', ':', ':placeholder', ',', '.dialog', 'input', '[', 'type=text', ']', ':', ':placeholder', '{', 'color', ':', '#', '000000', '}', '.dialog', 'input', '[', 'type=email', ']', ':', 'focus', ',', '.dialog', 'input', '[', 'type=text', ']', ':', 'focus', '{', 'border-bottom', ':', 'solid', '2px', '#', '3367d6', ';', 'padding-bottom:6px', '}', '.dialog', 'input.no-cursor', '{', 'color', ':', 'transparent', ';', 'text-shadow:0', '0', '0', '#', '000000', '}', '.dialog', 'input.no-cursor', ':', 'focus', '{', 'outline:0', '}', '.dialog', 'input.no-cursor', ':', 'focus', '{', 'outline:0', '}', '.dialog', 'input', '[', 'type=submit', ']', '{', 'font-family', ':', 'arvo', '}', '.dialog', '.goog-buttonset-default', '{', 'color', ':', '#', '3367d6', '}', '.subscribe-popup', '{', 'max-width:364px', '}', '.subscribe-popup', 'h3', '{', 'color', ':', '#', 'ffffff', ';', 'font-size:1.8em', ';', 'margin-top:0', '}', '.subscribe-popup', '.followbyemail', 'h3', '{', 'display', ':', 'none', '}', '.subscribe-popup', '.followbyemail', '.follow-by-email-submit', '{', 'color', ':', '#', '3367d6', ';', 'display', ':', 'inline-block', ';', 'margin:0', 'auto', ';', 'margin-top:24px', ';', 'width', ':', 'auto', ';', 'white-space', ':', 'normal', '}', '.subscribe-popup', '.followbyemail', '.follow-by-email-submit', ':', 'disabled', '{', 'cursor', ':', 'default', ';', 'opacity', ':', '.3', '}', '@', 'media', '(', 'max-width:800px', ')', '{', '.blog-name', 'div.widget.subscribe', '{', 'margin-bottom:16px', '}', 'body.item-view', '.blog-name', 'div.widget.subscribe', '{', 'margin:8px', 'auto', '16px', 'auto', ';', 'width:100', '%', '}', '}', 'body', '#', 'layout', '.bg-photo', ',', 'body', '#', 'layout', '.bg-photo-overlay', '{', 'display', ':', 'none', '}', 'body', '#', 'layout', '.page_body', '{', 'padding:0', ';', 'position', ':', 'relative', ';', 'top:0', '}', 'body', '#', 'layout', '.page', '{', 'display', ':', 'inline-block', ';', 'left', ':', 'inherit', ';', 'position', ':', 'relative', ';', 'vertical-align', ':', 'top', ';', 'width:540px', '}', 'body', '#', 'layout', '.centered', '{', 'max-width:954px', '}', 'body', '#', 'layout', '.navigation', '{', 'display', ':', 'none', '}', 'body', '#', 'layout', '.sidebar-container', '{', 'display', ':', 'inline-block', ';', 'width:40', '%', '}', 'body', '#', 'layout', '.hamburger-menu', ',', 'body', '#', 'layout', '.search', '{', 'display', ':', 'none', '}', '.widget.sharing', '.sharing-button', '{', 'display', ':', 'none', '}', '.widget.sharing', '.sharing-buttons', 'li', '{', 'padding:0', '}', '.widget.sharing', '.sharing-buttons', 'li', 'span', '{', 'display', ':', 'none', '}', '.post-share-buttons', '{', 'position', ':', 'relative', '}', '.centered-bottom', '.share-buttons', '.svg-icon-24', ',', '.share-buttons', '.svg-icon-24', '{', 'fill', ':', '#', '227796', '}', '.sharing-open.touch-icon-button', ':', 'active', '.touch-icon', ',', '.sharing-open.touch-icon-button', ':', 'focus', '.touch-icon', '{', 'background-color', ':', 'transparent', '}', '.share-buttons', '{', 'background-color', ':', '#', 'e4ecef', ';', 'border-radius:2px', ';', 'box-shadow:0', '2px', '2px', '0', 'rgba', '(', '0,0,0', ',', '.14', ')', ',0', '3px', '1px', '-2px', 'rgba', '(', '0,0,0', ',', '.2', ')', ',0', '1px', '5px', '0', 'rgba', '(', '0,0,0', ',', '.12', ')', ';', 'color', ':', '#', '227796', ';', 'list-style', ':', 'none', ';', 'margin:0', ';', 'padding:8px', '0', ';', 'position', ':', 'absolute', ';', 'top', ':', '-11px', ';', 'min-width:200px', ';', 'z-index:101', '}', '.share-buttons.hidden', '{', 'display', ':', 'none', '}', '.sharing-button', '{', 'background:0', '0', ';', 'border:0', ';', 'margin:0', ';', 'outline:0', ';', 'padding:0', ';', 'cursor', ':', 'pointer', '}', '.share-buttons', 'li', '{', 'margin:0', ';', 'height:48px', '}', '.share-buttons', 'li', ':', 'last-child', '{', 'margin-bottom:0', '}', '.share-buttons', 'li', '.sharing-platform-button', '{', 'box-sizing', ':', 'border-box', ';', 'cursor', ':', 'pointer', ';', 'display', ':', 'block', ';', 'height:100', '%', ';', 'margin-bottom:0', ';', 'padding:0', '16px', ';', 'position', ':', 'relative', ';', 'width:100', '%', '}', '.share-buttons', 'li', '.sharing-platform-button', ':', 'focus', ',', '.share-buttons', 'li', '.sharing-platform-button', ':', 'hover', '{', 'background-color', ':', 'rgba', '(', '128,128,128', ',', '.1', ')', ';', 'outline:0', '}', '.share-buttons', 'li', 'svg', '[', 'class*=', \"''\", 'sharing-', \"''\", ']', ',', '.share-buttons', 'li', 'svg', '[', 'class^=sharing-', ']', '{', 'position', ':', 'absolute', ';', 'top:10px', '}', '.share-buttons', 'li', 'span.sharing-platform-button', '{', 'position', ':', 'relative', ';', 'top:0', '}', '.share-buttons', 'li', '.platform-sharing-text', '{', 'display', ':', 'block', ';', 'font-size:16px', ';', 'line-height:48px', ';', 'white-space', ':', 'nowrap', '}', '.share-buttons', 'li', '.platform-sharing-text', '{', 'margin-left:56px', '}', '.flat-button', '{', 'cursor', ':', 'pointer', ';', 'display', ':', 'inline-block', ';', 'font-weight:700', ';', 'text-transform', ':', 'uppercase', ';', 'border-radius:2px', ';', 'padding:8px', ';', 'margin', ':', '-8px', '}', '.flat-icon-button', '{', 'background:0', '0', ';', 'border:0', ';', 'margin:0', ';', 'outline:0', ';', 'padding:0', ';', 'margin', ':', '-12px', ';', 'padding:12px', ';', 'cursor', ':', 'pointer', ';', 'box-sizing', ':', 'content-box', ';', 'display', ':', 'inline-block', ';', 'line-height:0', '}', '.flat-icon-button', ',', '.flat-icon-button', '.splash-wrapper', '{', 'border-radius:50', '%', '}', '.flat-icon-button', '.splash.animate', '{', '-webkit-animation-duration', ':', '.3s', ';', 'animation-duration', ':', '.3s', '}', 'h1', ',', 'h2', ',', 'h3', ',', 'h4', ',', 'h5', ',', 'h6', '{', 'margin:0', '}', '.post-body', 'h1', ',', '.post-body', 'h2', ',', '.post-body', 'h3', ',', '.post-body', 'h4', ',', '.post-body', 'h5', ',', '.post-body', 'h6', '{', 'margin:1em', '0', '}', '.action-link', ',', '{', 'color', ':', '#', '3367d6', ';', 'cursor', ':', 'pointer', ';', 'text-decoration', ':', 'none', '}', '.action-link', ':', 'visited', ',', ':', 'visited', '{', 'color', ':', '#', 'ba67c8', '}', '.action-link', ':', 'hover', ',', ':', 'hover', '{', 'color', ':', '#', 'f7cb4d', '}', 'body', '{', 'background-color', ':', '#', 'e4ecef', ';', 'color', ':', '#', '000000', ';', 'font', ':', 'normal', 'normal', '20px', 'arvo', ';', 'margin:0', 'auto', '}', '.unused', '{', 'background', ':', '#', 'e4ecef', 'none', 'repeat', 'scroll', 'top', 'left', '}', '.dim-overlay', '{', 'z-index:100', '}', '.all-container', '{', 'min-height:100vh', ';', 'display', ':', '-webkit-box', ';', 'display', ':', '-webkit-flex', ';', 'display', ':', '-ms-flexbox', ';', 'display', ':', 'flex', ';', '-webkit-box-orient', ':', 'vertical', ';', '-webkit-box-direction', ':', 'normal', ';', '-webkit-flex-direction', ':', 'column', ';', '-ms-flex-direction', ':', 'column', ';', 'flex-direction', ':', 'column', '}', 'body.sidebar-visible', '.all-container', '{', 'overflow-y', ':', 'scroll', '}', '.page', '{', 'max-width:1280px', ';', 'width:100', '%', '}', '.blog', '{', 'padding:0', ';', 'padding-left:136px', '}', '.main_content_container', '{', '-webkit-box-flex:0', ';', '-webkit-flex:0', '0', 'auto', ';', '-ms-flex:0', '0', 'auto', ';', 'flex:0', '0', 'auto', ';', 'margin:0', 'auto', ';', 'max-width:1600px', ';', 'width:100', '%', '}', '.centered-top-container', '{', '-webkit-box-flex:0', ';', '-webkit-flex:0', '0', 'auto', ';', '-ms-flex:0', '0', 'auto', ';', 'flex:0', '0', 'auto', '}', '.centered-top', ',', '.centered-top-placeholder', '{', 'box-sizing', ':', 'border-box', ';', 'width:100', '%', '}', '.centered-top', '{', 'box-sizing', ':', 'border-box', ';', 'margin:0', 'auto', ';', 'max-width:1280px', ';', 'padding:44px', '136px', '32px', '136px', ';', 'width:100', '%', '}', '.centered-top', 'h3', '{', 'color', ':', 'rgba', '(', '0,0,0,0.537', ')', ';', 'font:600', '14px', 'open', 'sans', ',', 'sans-serif', '}', '.centered', '{', 'width:100', '%', '}', '.centered-top-firstline', '{', 'display', ':', '-webkit-box', ';', 'display', ':', '-webkit-flex', ';', 'display', ':', '-ms-flexbox', ';', 'display', ':', 'flex', ';', 'position', ':', 'relative', ';', 'width:100', '%', '}', '.main_header_elements', '{', 'display', ':', '-webkit-box', ';', 'display', ':', '-webkit-flex', ';', 'display', ':', '-ms-flexbox', ';', 'display', ':', 'flex', ';', '-webkit-box-flex:0', ';', '-webkit-flex:0', '1', 'auto', ';', '-ms-flex:0', '1', 'auto', ';', 'flex:0', '1', 'auto', ';', '-webkit-box-ordinal-group:2', ';', '-webkit-order:1', ';', '-ms-flex-order:1', ';', 'order:1', ';', 'overflow-x', ':', 'hidden', ';', 'width:100', '%', '}', 'html', '[', 'dir=rtl', ']', '.main_header_elements', '{', '-webkit-box-ordinal-group:3', ';', '-webkit-order:2', ';', '-ms-flex-order:2', ';', 'order:2', '}', 'body.search-view', '.centered-top.search-focused', '.blog-name', '{', 'display', ':', 'none', '}', '.widget.header', 'img', '{', 'max-width:100', '%', '}', '.blog-name', '{', '-webkit-box-flex:1', ';', '-webkit-flex:1', '1', 'auto', ';', '-ms-flex:1', '1', 'auto', ';', 'flex:1', '1', 'auto', ';', 'min-width:0', ';', '-webkit-box-ordinal-group:2', ';', '-webkit-order:1', ';', '-ms-flex-order:1', ';', 'order:1', ';', '-webkit-transition', ':', 'opacity', '.2s', 'cubic-bezier', '(', '.4,0', ',', '.2,1', ')', ';', 'transition', ':', 'opacity', '.2s', 'cubic-bezier', '(', '.4,0', ',', '.2,1', ')', '}', '.subscribe-section-container', '{', '-webkit-box-flex:0', ';', '-webkit-flex:0', '0', 'auto', ';', '-ms-flex:0', '0', 'auto', ';', 'flex:0', '0', 'auto', ';', '-webkit-box-ordinal-group:3', ';', '-webkit-order:2', ';', '-ms-flex-order:2', ';', 'order:2', '}', '.search', '{', '-webkit-box-flex:0', ';', '-webkit-flex:0', '0', 'auto', ';', '-ms-flex:0', '0', 'auto', ';', 'flex:0', '0', 'auto', ';', '-webkit-box-ordinal-group:4', ';', '-webkit-order:3', ';', '-ms-flex-order:3', ';', 'order:3', ';', 'line-height:30px', '}', '.search', 'svg', '{', 'margin-bottom:3px', ';', 'margin-top:3px', ';', 'padding-bottom:0', ';', 'padding-top:0', '}', '.search', ',', '.search.focused', '{', 'display', ':', 'block', ';', 'width', ':', 'auto', '}', '.search', '.section', '{', 'opacity:0', ';', 'position', ':', 'absolute', ';', 'right:0', ';', 'top:0', ';', '-webkit-transition', ':', 'opacity', '.2s', 'cubic-bezier', '(', '.4,0', ',', '.2,1', ')', ';', 'transition', ':', 'opacity', '.2s', 'cubic-bezier', '(', '.4,0', ',', '.2,1', ')', '}', '.search-expand', '{', 'background:0', '0', ';', 'border:0', ';', 'margin:0', ';', 'outline:0', ';', 'padding:0', ';', 'display', ':', 'block', '}', '.search.focused', '.search-expand', '{', 'visibility', ':', 'hidden', '}', '.hamburger-menu', '{', 'float', ':', 'right', ';', 'height:30px', '}', '.search-expand', ',', '.subscribe-section-container', '{', 'margin-left:44px', '}', '.hamburger-section', '{', '-webkit-box-flex:1', ';', '-webkit-flex:1', '0', 'auto', ';', '-ms-flex:1', '0', 'auto', ';', 'flex:1', '0', 'auto', ';', 'margin-left:44px', ';', '-webkit-box-ordinal-group:3', ';', '-webkit-order:2', ';', '-ms-flex-order:2', ';', 'order:2', '}', 'html', '[', 'dir=rtl', ']', '.hamburger-section', '{', '-webkit-box-ordinal-group:2', ';', '-webkit-order:1', ';', '-ms-flex-order:1', ';', 'order:1', '}', '.search-expand-icon', '{', 'display', ':', 'none', '}', '.search-expand-text', '{', 'display', ':', 'block', '}', '.search-input', '{', 'width:100', '%', '}', '.search-focused', '.hamburger-section', '{', 'visibility', ':', 'visible', '}', '.centered-top-secondline', '.pagelist', 'ul', '{', 'margin:0', ';', 'max-height:288px', ';', 'overflow-y', ':', 'hidden', '}', '.centered-top-secondline', '.pagelist', 'li', '{', 'margin-right:30px', '}', '.centered-top-secondline', '.pagelist', 'li', ':', 'first-child', '{', 'padding-left:0', '}', '.centered-top-secondline', '.pagelist', '.overflow-popup', 'ul', '{', 'overflow-y', ':', 'auto', '}', '.centered-top-secondline', '.pagelist', '.overflow-popup', 'li', '{', 'display', ':', 'block', '}', '.centered-top-secondline', '.pagelist', '.overflow-popup', 'li.hidden', '{', 'display', ':', 'none', '}', '.overflowable-contents', 'li', '{', 'display', ':', 'inline-block', ';', 'height:48px', '}', '.sticky', '.blog-name', '{', 'overflow', ':', 'hidden', '}', '.sticky', '.blog-name', '.widget.header', 'h1', '{', 'overflow', ':', 'hidden', ';', 'text-overflow', ':', 'ellipsis', ';', 'white-space', ':', 'nowrap', '}', '.sticky', '.blog-name', '.widget.header', 'p', ',', '.sticky', '.centered-top-secondline', '{', 'display', ':', 'none', '}', '.centered-top-container', ',', '.centered-top-placeholder', '{', 'background', ':', '#', 'ffffff', 'none', 'repeat', 'scroll', 'top', 'left', '}', '.centered-top', '.svg-icon-24', '{', 'fill', ':', '#', '227796', '}', '.blog-name', 'h1', ',', '.blog-name', 'h1', '{', 'color', ':', '#', '000000', ';', 'font', ':', 'normal', '700', '30px', 'allerta', ';', 'line-height:30px', ';', 'text-transform', ':', 'uppercase', '}', '.widget.header', '.header-widget', 'p', '{', 'font:400', '14px', 'open', 'sans', ',', 'sans-serif', ';', 'font-style', ':', 'italic', ';', 'color', ':', 'rgba', '(', '0,0,0,0.537', ')', ';', 'line-height:1.6', ';', 'max-width:676px', '}', '.centered-top', '.flat-button', '{', 'color', ':', '#', '227796', ';', 'cursor', ':', 'pointer', ';', 'font:600', '14px', 'open', 'sans', ',', 'sans-serif', ';', 'line-height:30px', ';', 'text-transform', ':', 'uppercase', ';', '-webkit-transition', ':', 'opacity', '.2s', 'cubic-bezier', '(', '.4,0', ',', '.2,1', ')', ';', 'transition', ':', 'opacity', '.2s', 'cubic-bezier', '(', '.4,0', ',', '.2,1', ')', '}', '.subscribe-button', '{', 'background:0', '0', ';', 'border:0', ';', 'margin:0', ';', 'outline:0', ';', 'padding:0', ';', 'display', ':', 'block', '}', 'html', '[', 'dir=ltr', ']', '.search', 'form', '{', 'margin-right:12px', '}', '.search.focused', '.section', '{', 'opacity:1', ';', 'margin-right:36px', ';', 'width', ':', 'calc', '(', '100', '%', '-', '36px', ')', '}', '.search', 'input', '{', 'border:0', ';', 'color', ':', 'rgba', '(', '0,0,0,0.537', ')', ';', 'font:600', '16px', 'open', 'sans', ',', 'sans-serif', ';', 'line-height:30px', ';', 'outline:0', ';', 'width:100', '%', '}', '.search', 'form', '{', 'padding-bottom:0', '}', '.search', 'input', '[', 'type=submit', ']', '{', 'display', ':', 'none', '}', '.search', 'input', ':', ':-webkit-input-placeholder', '{', 'text-transform', ':', 'uppercase', '}', '.search', 'input', ':', ':-moz-placeholder', '{', 'text-transform', ':', 'uppercase', '}', '.search', 'input', ':', '-ms-input-placeholder', '{', 'text-transform', ':', 'uppercase', '}', '.search', 'input', ':', ':-ms-input-placeholder', '{', 'text-transform', ':', 'uppercase', '}', '.search', 'input', ':', ':placeholder', '{', 'text-transform', ':', 'uppercase', '}', '.centered-top-secondline', '.dim-overlay', ',', '.search', '.dim-overlay', '{', 'background:0', '0', '}', '.centered-top-secondline', '.pagelist', '.overflow-button', ',', '.centered-top-secondline', '.pagelist', 'li', '{', 'color', ':', '#', '227796', ';', 'font:600', '14px', 'open', 'sans', ',', 'sans-serif', ';', 'line-height:48px', ';', 'padding:12px', '}', '.centered-top-secondline', '.pagelist', 'li.selected', '{', 'color', ':', '#', '227796', '}', '.centered-top-secondline', '.overflow-popup', '.pagelist', 'li', '{', 'color', ':', '#', '000000', '}', '.pagelist', 'ul', '{', 'padding:0', '}', '.sticky', '.search', 'form', '{', 'border:0', '}', '.sticky', '{', 'box-shadow:0', '0', '20px', '0', 'rgba', '(', '0,0,0', ',', '.7', ')', '}', '.sticky', '.centered-top', '{', 'padding-bottom:0', ';', 'padding-top:0', '}', '.sticky', '.blog-name', 'h1', ',', '.sticky', '.search', ',', '.sticky', '.search-expand', ',', '.sticky', '.subscribe-button', '{', 'line-height:46px', '}', '.sticky', '.hamburger-section', ',', '.sticky', '.search-expand', ',', '.sticky', '.search.focused', '.search-submit', '{', '-webkit-box-align', ':', 'center', ';', '-webkit-align-items', ':', 'center', ';', '-ms-flex-align', ':', 'center', ';', 'align-items', ':', 'center', ';', 'display', ':', '-webkit-box', ';', 'display', ':', '-webkit-flex', ';', 'display', ':', '-ms-flexbox', ';', 'display', ':', 'flex', ';', 'height:46px', '}', '.subscribe-popup', 'h3', '{', 'color', ':', 'rgba', '(', '0,0,0,0.839', ')', ';', 'font:700', '24px', 'open', 'sans', ',', 'sans-serif', ';', 'margin-bottom:24px', '}', '.subscribe-popup', 'div.widget.followbyemail', '.follow-by-email-address', '{', 'color', ':', 'rgba', '(', '0,0,0,0.839', ')', ';', 'font:400', '14px', 'open', 'sans', ',', 'sans-serif', '}', '.subscribe-popup', 'div.widget.followbyemail', '.follow-by-email-submit', '{', 'color', ':', '#', '227796', ';', 'font:600', '14px', 'open', 'sans', ',', 'sans-serif', ';', 'margin-top:24px', '}', '.post-content', '{', '-webkit-box-flex:0', ';', '-webkit-flex:0', '1', 'auto', ';', '-ms-flex:0', '1', 'auto', ';', 'flex:0', '1', 'auto', ';', '-webkit-box-ordinal-group:2', ';', '-webkit-order:1', ';', '-ms-flex-order:1', ';', 'order:1', ';', 'margin-right:76px', ';', 'max-width:676px', ';', 'width:100', '%', '}', '.post-filter-message', '{', 'background-color', ':', '#', '3367d6', ';', 'color', ':', '#', 'e4ecef', ';', 'display', ':', '-webkit-box', ';', 'display', ':', '-webkit-flex', ';', 'display', ':', '-ms-flexbox', ';', 'display', ':', 'flex', ';', 'font:600', '16px', 'open', 'sans', ',', 'sans-serif', ';', 'margin:40px', '136px', '48px', '136px', ';', 'padding:10px', ';', 'position', ':', 'relative', '}', '.post-filter-message', '>', '*', '{', '-webkit-box-flex:0', ';', '-webkit-flex:0', '0', 'auto', ';', '-ms-flex:0', '0', 'auto', ';', 'flex:0', '0', 'auto', '}', '.post-filter-message', '.search-query', '{', 'font-style', ':', 'italic', ';', 'quotes', ':', \"''\", '\\\\201c', \"''\", '``', '\\\\201d', \"''\", '``', '\\\\2018', \"''\", '``', '\\\\2019', \"''\", '}', '.post-filter-message', '.search-query', ':', ':before', '{', 'content', ':', 'open-quote', '}', '.post-filter-message', '.search-query', ':', ':after', '{', 'content', ':', 'close-quote', '}', '.post-filter-message', 'div', '{', 'display', ':', 'inline-block', '}', '.post-filter-message', '{', 'color', ':', '#', 'e4ecef', ';', 'display', ':', 'inline-block', ';', 'text-transform', ':', 'uppercase', '}', '.post-filter-description', '{', '-webkit-box-flex:1', ';', '-webkit-flex:1', '1', 'auto', ';', '-ms-flex:1', '1', 'auto', ';', 'flex:1', '1', 'auto', ';', 'margin-right:16px', '}', '.post-title', '{', 'margin-top:0', '}', 'body.feed-view', '.post-outer-container', '{', 'margin-top:85px', '}', 'body.feed-view', '.feed-message+.post-outer-container', ',', 'body.feed-view', '.post-outer-container', ':', 'first-child', '{', 'margin-top:0', '}', '.post-outer', '{', 'display', ':', '-webkit-box', ';', 'display', ':', '-webkit-flex', ';', 'display', ':', '-ms-flexbox', ';', 'display', ':', 'flex', ';', 'position', ':', 'relative', '}', '.post-outer', '.snippet-thumbnail', '{', '-webkit-box-align', ':', 'center', ';', '-webkit-align-items', ':', 'center', ';', '-ms-flex-align', ':', 'center', ';', 'align-items', ':', 'center', ';', 'background', ':', '#', '000', ';', 'display', ':', '-webkit-box', ';', 'display', ':', '-webkit-flex', ';', 'display', ':', '-ms-flexbox', ';', 'display', ':', 'flex', ';', '-webkit-box-flex:0', ';', '-webkit-flex:0', '0', 'auto', ';', '-ms-flex:0', '0', 'auto', ';', 'flex:0', '0', 'auto', ';', 'height:256px', ';', '-webkit-box-pack', ':', 'center', ';', '-webkit-justify-content', ':', 'center', ';', '-ms-flex-pack', ':', 'center', ';', 'justify-content', ':', 'center', ';', 'margin-right:136px', ';', 'overflow', ':', 'hidden', ';', '-webkit-box-ordinal-group:3', ';', '-webkit-order:2', ';', '-ms-flex-order:2', ';', 'order:2', ';', 'position', ':', 'relative', ';', 'width:256px', '}', '.post-outer', '.thumbnail-empty', '{', 'background:0', '0', '}', '.post-outer', '.snippet-thumbnail-img', '{', 'background-position', ':', 'center', ';', 'background-repeat', ':', 'no-repeat', ';', 'background-size', ':', 'cover', ';', 'width:100', '%', ';', 'height:100', '%', '}', '.post-outer', '.snippet-thumbnail', 'img', '{', 'max-height:100', '%', '}', '.post-title-container', '{', 'margin-bottom:16px', '}', '.post-bottom', '{', '-webkit-box-align', ':', 'baseline', ';', '-webkit-align-items', ':', 'baseline', ';', '-ms-flex-align', ':', 'baseline', ';', 'align-items', ':', 'baseline', ';', 'display', ':', '-webkit-box', ';', 'display', ':', '-webkit-flex', ';', 'display', ':', '-ms-flexbox', ';', 'display', ':', 'flex', ';', '-webkit-box-pack', ':', 'justify', ';', '-webkit-justify-content', ':', 'space-between', ';', '-ms-flex-pack', ':', 'justify', ';', 'justify-content', ':', 'space-between', '}', '.post-share-buttons-bottom', '{', 'float', ':', 'left', '}', '.footer', '{', '-webkit-box-flex:0', ';', '-webkit-flex:0', '0', 'auto', ';', '-ms-flex:0', '0', 'auto', ';', 'flex:0', '0', 'auto', ';', 'margin', ':', 'auto', 'auto', '0', 'auto', ';', 'padding-bottom:32px', ';', 'width', ':', 'auto', '}', '.post-header-container', '{', 'margin-bottom:12px', '}', '.post-header-container', '.post-share-buttons-top', '{', 'float', ':', 'right', '}', '.post-header-container', '.post-header', '{', 'float', ':', 'left', '}', '.byline', '{', 'display', ':', 'inline-block', ';', 'margin-bottom:8px', '}', '.byline', ',', '.byline', ',', '.flat-button', '{', 'color', ':', '#', '227796', ';', 'font:600', '14px', 'open', 'sans', ',', 'sans-serif', '}', '.flat-button.ripple', '.splash', '{', 'background-color', ':', 'rgba', '(', '34,119,150', ',', '.4', ')', '}', '.flat-button.ripple', ':', 'hover', '{', 'background-color', ':', 'rgba', '(', '34,119,150', ',', '.12', ')', '}', '.post-footer', '.byline', '{', 'text-transform', ':', 'uppercase', '}', '.post-comment-link', '{', 'line-height:1', '}', '.blog-pager', '{', 'float', ':', 'right', ';', 'margin-right:468px', ';', 'margin-top:48px', '}', '.featuredpost', '{', 'margin-bottom:56px', '}', '.featuredpost', 'h3', '{', 'margin:16px', '136px', '8px', '136px', '}', '.shown-ad', '{', 'margin-bottom:85px', ';', 'margin-top:85px', '}', '.shown-ad', '.inline-ad', '{', 'display', ':', 'block', ';', 'max-width:676px', '}', 'body.feed-view', '.shown-ad', ':', 'last-child', '{', 'display', ':', 'none', '}', '.post-title', ',', '.post-title', '{', 'color', ':', '#', '227796', ';', 'font:700', '36px', 'open', 'sans', ',', 'sans-serif', ';', 'line-height:1.3333333333', '}', '.feed-message', '{', 'color', ':', 'rgba', '(', '0,0,0,0.537', ')', ';', 'font:600', '16px', 'open', 'sans', ',', 'sans-serif', ';', 'margin-bottom:52px', '}', '.post-header-container', '.byline', ',', '.post-header-container', '.byline', '{', 'color', ':', 'rgba', '(', '0,0,0,0.537', ')', ';', 'font:600', '16px', 'open', 'sans', ',', 'sans-serif', '}', '.post-header-container', '.byline.post-author', ':', '(', ':', 'last-child', ')', ':', ':after', '{', 'content', ':', \"''\", '\\\\b7', \"''\", '}', '.post-header-container', '.byline.post-author', ':', '(', ':', 'last-child', ')', '{', 'margin-right:0', '}', '.post-snippet-container', '{', 'font:400', '20px', 'lora', ',', 'serif', '}', '.sharing-button', '{', 'text-transform', ':', 'uppercase', ';', 'word-break', ':', 'normal', '}', '.post-outer-container', '.svg-icon-24', '{', 'fill', ':', '#', '227796', '}', '.post-body', '{', 'color', ':', 'rgba', '(', '0,0,0,0.839', ')', ';', 'font:400', '20px', 'lora', ',', 'serif', ';', 'line-height:2', ';', 'margin-bottom:24px', '}', '.blog-pager', '.blog-pager-older-link', '{', 'color', ':', '#', '227796', ';', 'float', ':', 'right', ';', 'font:600', '14px', 'open', 'sans', ',', 'sans-serif', ';', 'text-transform', ':', 'uppercase', '}', '.no-posts-message', '{', 'margin:32px', '}', 'body.item-view', '.blog', '.post-title-container', '{', 'background-color', ':', '#', '227796', ';', 'box-sizing', ':', 'border-box', ';', 'margin-bottom', ':', '-1px', ';', 'padding-bottom:86px', ';', 'padding-right:290px', ';', 'padding-left:140px', ';', 'padding-top:124px', ';', 'width:100', '%', '}', 'body.item-view', '.blog', '.post-title', ',', 'body.item-view', '.blog', '.post-title', '{', 'color', ':', '#', 'ffffff', ';', 'font:600', '48px', 'open', 'sans', ',', 'sans-serif', ';', 'line-height:1.4166666667', ';', 'margin-bottom:0', '}', 'body.item-view', '.blog', '{', 'margin:0', ';', 'margin-bottom:85px', ';', 'padding:0', '}', 'body.item-view', '.blog', '.post-content', '{', 'margin-right:0', ';', 'max-width', ':', 'none', '}', 'body.item-view', '.comments', ',', 'body.item-view', '.shown-ad', ',', 'body.item-view', '.widget.blog', '.post-bottom', '{', 'margin-bottom:0', ';', 'margin-right:400px', ';', 'margin-left:140px', ';', 'margin-top:0', '}', 'body.item-view', '.widget.header', 'header', 'p', '{', 'max-width:740px', '}', 'body.item-view', '.shown-ad', '{', 'margin-bottom:24px', ';', 'margin-top:24px', '}', 'body.item-view', '.blog', '.post-header-container', '{', 'padding-left:140px', '}', 'body.item-view', '.blog', '.post-header-container', '.post-author-profile-pic-container', '{', 'background-color', ':', '#', '227796', ';', 'border-top:1px', 'solid', '#', '227796', ';', 'float', ':', 'left', ';', 'height:84px', ';', 'margin-right:24px', ';', 'margin-left', ':', '-140px', ';', 'padding-left:140px', '}', 'body.item-view', '.blog', '.post-author-profile-pic', '{', 'max-height:100', '%', '}', 'body.item-view', '.blog', '.post-header', '{', 'float', ':', 'left', ';', 'height:84px', '}', 'body.item-view', '.blog', '.post-header', '>', '*', '{', 'position', ':', 'relative', ';', 'top:50', '%', ';', '-webkit-transform', ':', 'translatey', '(', '-50', '%', ')', ';', '-ms-transform', ':', 'translatey', '(', '-50', '%', ')', ';', 'transform', ':', 'translatey', '(', '-50', '%', ')', '}', 'body.item-view', '.post-body', '{', 'color', ':', '#', '000000', ';', 'font', ':', 'normal', 'normal', '20px', 'arvo', ';', 'line-height:2', '}', 'body.item-view', '.blog', '.post-body-container', '{', 'padding-right:290px', ';', 'position', ':', 'relative', ';', 'margin-left:140px', ';', 'margin-top:20px', ';', 'margin-bottom:32px', '}', 'body.item-view', '.blog', '.post-body', '{', 'margin-bottom:0', ';', 'margin-right:110px', '}', 'body.item-view', '.blog', '.post-body', ':', ':first-letter', '{', 'float', ':', 'left', ';', 'font-size:80px', ';', 'font-weight:600', ';', 'line-height:1', ';', 'margin-right:16px', '}', 'body.item-view', '.blog', '.post-body', 'div', '[', 'style*=', \"''\", 'text-align', ':', 'center', \"''\", ']', ':', ':first-letter', '{', 'float', ':', 'none', ';', 'font-size', ':', 'inherit', ';', 'font-weight', ':', 'inherit', ';', 'line-height', ':', 'inherit', ';', 'margin-right:0', '}', 'body.item-view', '.blog', '.post-body', ':', ':first-line', '{', 'color', ':', '#', '227796', '}', 'body.item-view', '.blog', '.post-body-container', '.post-sidebar', '{', 'right:0', ';', 'position', ':', 'absolute', ';', 'top:0', ';', 'width:290px', '}', 'body.item-view', '.blog', '.post-body-container', '.post-sidebar', '.sharing-button', '{', 'display', ':', 'inline-block', '}', '.widget.attribution', '{', 'clear', ':', ';', 'font:600', '14px', 'open', 'sans', ',', 'sans-serif', ';', 'padding-top:2em', '}', '.widget.attribution', '.blogger', '{', 'margin:12px', '}', '.widget.attribution', 'svg', '{', 'fill', ':', 'rgba', '(', '0,0,0,0.537', ')', '}', 'body.item-view', '.popularposts', '{', 'margin-left:140px', '}', 'body.item-view', '.popularposts', '.widget-content', '>', 'ul', '{', 'padding-left:0', '}', 'body.item-view', '.popularposts', '.widget-content', '>', 'ul', '>', 'li', '{', 'display', ':', 'block', '}', 'body.item-view', '.popularposts', '.post-content', '{', 'margin-right:76px', ';', 'max-width:664px', '}', 'body.item-view', '.popularposts', '.post', ':', '(', ':', 'last-child', ')', '{', 'margin-bottom:85px', '}', 'body.item-view', '.post-body-container', 'img', '{', 'height', ':', 'auto', ';', 'max-width:100', '%', '}', 'body.item-view', '.popularposts', '>', '.title', '{', 'color', ':', 'rgba', '(', '0,0,0,0.537', ')', ';', 'font:600', '16px', 'open', 'sans', ',', 'sans-serif', ';', 'margin-bottom:36px', '}', 'body.item-view', '.post-sidebar', '.post-labels-sidebar', '{', 'margin-top:48px', ';', 'min-width:150px', '}', 'body.item-view', '.post-sidebar', '.post-labels-sidebar', 'h3', '{', 'color', ':', '#', '000000', ';', 'font:600', '14px', 'open', 'sans', ',', 'sans-serif', ';', 'margin-bottom:16px', '}', 'body.item-view', '.post-sidebar', '.post-labels-sidebar', '{', 'color', ':', '#', '227796', ';', 'display', ':', 'block', ';', 'font:400', '14px', 'open', 'sans', ',', 'sans-serif', ';', 'font-style', ':', 'italic', ';', 'line-height:2', '}', 'body.item-view', 'blockquote', '{', 'font', ':', 'italic', '600', '44px', 'open', 'sans', ',', 'sans-serif', ';', 'font-style', ':', 'italic', ';', 'quotes', ':', \"''\", '\\\\201c', \"''\", '``', '\\\\201d', \"''\", '``', '\\\\2018', \"''\", '``', '\\\\2019', \"''\", '}', 'body.item-view', 'blockquote', ':', ':before', '{', 'content', ':', 'open-quote', '}', 'body.item-view', 'blockquote', ':', ':after', '{', 'content', ':', 'close-quote', '}', 'body.item-view', '.post-bottom', '{', 'display', ':', '-webkit-box', ';', 'display', ':', '-webkit-flex', ';', 'display', ':', '-ms-flexbox', ';', 'display', ':', 'flex', ';', 'float', ':', 'none', '}', 'body.item-view', '.widget.blog', '.post-share-buttons-bottom', '{', '-webkit-box-flex:0', ';', '-webkit-flex:0', '1', 'auto', ';', '-ms-flex:0', '1', 'auto', ';', 'flex:0', '1', 'auto', ';', '-webkit-box-ordinal-group:3', ';', '-webkit-order:2', ';', '-ms-flex-order:2', ';', 'order:2', '}', 'body.item-view', '.widget.blog', '.post-footer', '{', 'line-height:1', ';', 'margin-right:24px', '}', '.widget.blog', 'body.item-view', '.post-bottom', '{', 'margin-right:0', ';', 'margin-bottom:80px', '}', 'body.item-view', '.post-footer', '.post-labels', '.byline-label', '{', 'color', ':', '#', '000000', ';', 'font:600', '14px', 'open', 'sans', ',', 'sans-serif', '}', 'body.item-view', '.post-footer', '.post-labels', '{', 'color', ':', '#', '227796', ';', 'display', ':', 'inline-block', ';', 'font:400', '14px', 'open', 'sans', ',', 'sans-serif', ';', 'line-height:2', '}', 'body.item-view', '.post-footer', '.post-labels', ':', '(', ':', 'last-child', ')', ':', ':after', '{', 'content', ':', \"''\", ',', '``', '}', 'body.item-view', '#', 'comments', '{', 'border-top:0', ';', 'padding:0', '}', 'body.item-view', '#', 'comments', 'h3.title', '{', 'color', ':', 'rgba', '(', '0,0,0,0.537', ')', ';', 'font:600', '16px', 'open', 'sans', ',', 'sans-serif', ';', 'margin-bottom:48px', '}', 'body.item-view', '#', 'comments', '.comment-form', 'h4', '{', 'position', ':', 'absolute', ';', 'clip', ':', 'rect', '(', '1px,1px,1px,1px', ')', ';', 'padding:0', ';', 'border:0', ';', 'height:1px', ';', 'width:1px', ';', 'overflow', ':', 'hidden', '}', '.heropost', '{', 'display', ':', '-webkit-box', ';', 'display', ':', '-webkit-flex', ';', 'display', ':', '-ms-flexbox', ';', 'display', ':', 'flex', ';', 'position', ':', 'relative', '}', '.widget.blog', '.heropost', '{', 'margin-left', ':', '-136px', '}', '.heropost', '.big-post-title', '.post-snippet', '{', 'color', ':', '#', 'ffffff', '}', '.heropost.noimage', '.post-snippet', '{', 'color', ':', '#', '000000', '}', '.heropost', '.big-post-image-top', '{', 'display', ':', 'none', ';', 'background-size', ':', 'cover', ';', 'background-position', ':', 'center', '}', '.heropost', '.big-post-title', '{', 'background-color', ':', '#', '227796', ';', 'box-sizing', ':', 'border-box', ';', '-webkit-box-flex:1', ';', '-webkit-flex:1', '1', 'auto', ';', '-ms-flex:1', '1', 'auto', ';', 'flex:1', '1', 'auto', ';', 'max-width:888px', ';', 'min-width:0', ';', 'padding-bottom:84px', ';', 'padding-right:76px', ';', 'padding-left:136px', ';', 'padding-top:76px', '}', '.heropost.noimage', '.big-post-title', '{', '-webkit-box-flex:1', ';', '-webkit-flex:1', '0', 'auto', ';', '-ms-flex:1', '0', 'auto', ';', 'flex:1', '0', 'auto', ';', 'max-width:480px', ';', 'width:480px', '}', '.heropost', '.big-post-title', 'h3', '{', 'margin:0', '0', '24px', '}', '.heropost', '.big-post-title', 'h3', '{', 'color', ':', '#', 'ffffff', '}', '.heropost', '.big-post-title', '.post-body', '{', 'color', ':', '#', 'ffffff', '}', '.heropost', '.big-post-title', '.item-byline', '{', 'color', ':', '#', 'ffffff', ';', 'margin-bottom:24px', '}', '.heropost', '.big-post-title', '.item-byline', '.post-timestamp', '{', 'display', ':', 'block', '}', '.heropost', '.big-post-title', '.item-byline', '{', 'color', ':', '#', 'ffffff', '}', '.heropost', '.byline', ',', '.heropost', '.byline', ',', '.heropost', '.flat-button', '{', 'color', ':', '#', 'ffffff', '}', '.heropost', '.flat-button.ripple', '.splash', '{', 'background-color', ':', 'rgba', '(', '255,255,255', ',', '.4', ')', '}', '.heropost', '.flat-button.ripple', ':', 'hover', '{', 'background-color', ':', 'rgba', '(', '255,255,255', ',', '.12', ')', '}', '.heropost', '.big-post-image', '{', 'background-position', ':', 'center', ';', 'background-repeat', ':', 'no-repeat', ';', 'background-size', ':', 'cover', ';', '-webkit-box-flex:0', ';', '-webkit-flex:0', '0', 'auto', ';', '-ms-flex:0', '0', 'auto', ';', 'flex:0', '0', 'auto', ';', 'width:392px', '}', '.heropost', '.big-post-text', '{', 'background-color', ':', '#', 'e4ecef', ';', 'box-sizing', ':', 'border-box', ';', 'color', ':', '#', '000000', ';', '-webkit-box-flex:1', ';', '-webkit-flex:1', '1', 'auto', ';', '-ms-flex:1', '1', 'auto', ';', 'flex:1', '1', 'auto', ';', 'min-width:0', ';', 'padding:48px', '}', '.heropost', '.big-post-text', '.post-snippet-fade', '{', 'color', ':', '#', '000000', ';', 'background', ':', '-webkit-linear-gradient', '(', 'right', ',', '#', 'e4ecef', ',', 'rgba', '(', '228', ',', '236', ',', '239', ',', '0', ')', ')', ';', 'background', ':', 'linear-gradient', '(', 'left', ',', '#', 'e4ecef', ',', 'rgba', '(', '228', ',', '236', ',', '239', ',', '0', ')', ')', '}', '.heropost', '.big-post-text', '.byline', ',', '.heropost', '.big-post-text', '.byline', ',', '.heropost', '.big-post-text', '.jump-link', ',', '.heropost', '.big-post-text', '.sharing-button', '{', 'color', ':', '#', '227796', '}', '.heropost', '.big-post-text', '.snippet-item', ':', ':first-letter', '{', 'color', ':', '#', '227796', ';', 'float', ':', 'left', ';', 'font-weight:700', ';', 'margin-right:12px', '}', '.sidebar-container', '{', 'background-color', ':', '#', 'e4ecef', '}', 'body.sidebar-visible', '.sidebar-container', '{', 'box-shadow:0', '0', '20px', '0', 'rgba', '(', '0,0,0', ',', '.7', ')', '}', '.sidebar-container', '.svg-icon-24', '{', 'fill', ':', '#', '000000', '}', '.sidebar-container', '.navigation', '.sidebar-back', '{', 'float', ':', 'right', '}', '.sidebar-container', '.widget', '{', 'padding-right:16px', ';', 'margin-right:0', ';', 'margin-left:38px', '}', '.sidebar-container', '.widget+.widget', '{', 'border-top', ':', 'solid', '1px', '#', 'bdbdbd', '}', '.sidebar-container', '.widget', '.title', '{', 'font:400', '16px', 'open', 'sans', ',', 'sans-serif', '}', '.collapsible', '{', 'width:100', '%', '}', '.widget.profile', '{', 'border-top:0', ';', 'margin:0', ';', 'margin-left:38px', ';', 'margin-top:24px', ';', 'padding-right:0', '}', 'body.sidebar-visible', '.widget.profile', '{', 'margin-left:0', '}', '.widget.profile', 'h2', '{', 'display', ':', 'none', '}', '.widget.profile', 'h3.title', '{', 'color', ':', '#', '000000', ';', 'margin:16px', '32px', '}', '.widget.profile', '.individual', '{', 'text-align', ':', 'center', '}', '.widget.profile', '.individual', '.default-avatar-wrapper', '.avatar-icon', '{', 'margin', ':', 'auto', '}', '.widget.profile', '.team', '{', 'margin-bottom:32px', ';', 'margin-left:32px', ';', 'margin-right:32px', '}', '.widget.profile', 'ul', '{', 'list-style', ':', 'none', ';', 'padding:0', '}', '.widget.profile', 'li', '{', 'margin:10px', '0', ';', 'text-align', ':', 'left', '}', '.widget.profile', '.profile-img', '{', 'border-radius:50', '%', ';', 'float', ':', 'none', '}', '.widget.profile', '.profile-info', '{', 'margin-bottom:12px', '}', '.profile-snippet-fade', '{', 'background', ':', '-webkit-linear-gradient', '(', 'right', ',', '#', 'e4ecef', '0', ',', '#', 'e4ecef', '20', '%', ',', 'rgba', '(', '228', ',', '236', ',', '239', ',', '0', ')', '100', '%', ')', ';', 'background', ':', 'linear-gradient', '(', 'left', ',', '#', 'e4ecef', '0', ',', '#', 'e4ecef', '20', '%', ',', 'rgba', '(', '228', ',', '236', ',', '239', ',', '0', ')', '100', '%', ')', ';', 'height:1.7em', ';', 'position', ':', 'absolute', ';', 'right:16px', ';', 'top:11.7em', ';', 'width:96px', '}', '.profile-snippet-fade', ':', ':after', '{', 'content', ':', \"''\", '\\\\2026', \"''\", ';', 'float', ':', 'right', '}', '.widget.profile', '.profile-location', '{', 'color', ':', '#', '000000', ';', 'font-size:16px', ';', 'margin:0', ';', 'opacity', ':', '.74', '}', '.widget.profile', '.team-member', '.profile-link', ':', ':after', '{', 'clear', ':', ';', 'content', ':', \"''\", \"''\", ';', 'display', ':', 'table', '}', '.widget.profile', '.team-member', '.profile-name', '{', 'word-break', ':', 'break-word', '}', '.widget.profile', '.profile-datablock', '.profile-link', '{', 'color', ':', '#', '000000', ';', 'font:600', '16px', 'open', 'sans', ',', 'sans-serif', ';', 'font-size:24px', ';', 'text-transform', ':', 'none', ';', 'word-break', ':', 'break-word', '}', '.widget.profile', '.profile-datablock', '.profile-link+div', '{', 'margin-top:16px', '!', 'important', '}', '.widget.profile', '.profile-link', '{', 'font:600', '16px', 'open', 'sans', ',', 'sans-serif', ';', 'font-size:14px', '}', '.widget.profile', '.profile-textblock', '{', 'color', ':', '#', '000000', ';', 'font-size:14px', ';', 'line-height:24px', ';', 'margin:0', '18px', ';', 'opacity', ':', '.74', ';', 'overflow', ':', 'hidden', ';', 'position', ':', 'relative', ';', 'word-break', ':', 'break-word', '}', '.widget.label', '.list-label-widget-content', 'li', '{', 'width:100', '%', ';', 'word-wrap', ':', 'break-word', '}', '.extendable', '.show-less', ',', '.extendable', '.show-more', '{', 'font:600', '16px', 'open', 'sans', ',', 'sans-serif', ';', 'font-size:14px', ';', 'margin:0', '-8px', '}', '.widget.blogarchive', '.post-count', '{', 'color', ':', '#', '000000', '}', '.label', 'li', '{', 'margin:16px', '0', '}', '.label', 'li', ':', 'last-child', '{', 'margin-bottom:0', '}', '.post-snippet.snippet-container', '{', 'max-height:160px', '}', '.post-snippet', '.snippet-item', '{', 'line-height:40px', '}', '.post-snippet', '.snippet-fade', '{', 'background', ':', '-webkit-linear-gradient', '(', 'left', ',', '#', 'e4ecef', '0', ',', '#', 'e4ecef', '20', '%', ',', 'rgba', '(', '228', ',', '236', ',', '239', ',', '0', ')', '100', '%', ')', ';', 'background', ':', 'linear-gradient', '(', 'left', ',', '#', 'e4ecef', '0', ',', '#', 'e4ecef', '20', '%', ',', 'rgba', '(', '228', ',', '236', ',', '239', ',', '0', ')', '100', '%', ')', ';', 'color', ':', '#', '000000', ';', 'height:40px', '}', '.hero-post-snippet.snippet-container', '{', 'max-height:160px', '}', '.hero-post-snippet', '.snippet-item', '{', 'line-height:40px', '}', '.hero-post-snippet', '.snippet-fade', '{', 'background', ':', '-webkit-linear-gradient', '(', 'left', ',', '#', '227796', '0', ',', '#', '227796', '20', '%', ',', 'rgba', '(', '34', ',', '119', ',', '150', ',', '0', ')', '100', '%', ')', ';', 'background', ':', 'linear-gradient', '(', 'left', ',', '#', '227796', '0', ',', '#', '227796', '20', '%', ',', 'rgba', '(', '34', ',', '119', ',', '150', ',', '0', ')', '100', '%', ')', ';', 'color', ':', '#', 'ffffff', ';', 'height:40px', '}', '.hero-post-snippet', '{', 'color', ':', '#', '000000', '}', '.hero-post-noimage-snippet.snippet-container', '{', 'max-height:320px', '}', '.hero-post-noimage-snippet', '.snippet-item', '{', 'line-height:40px', '}', '.hero-post-noimage-snippet', '.snippet-fade', '{', 'background', ':', '-webkit-linear-gradient', '(', 'left', ',', '#', 'e4ecef', '0', ',', '#', 'e4ecef', '20', '%', ',', 'rgba', '(', '228', ',', '236', ',', '239', ',', '0', ')', '100', '%', ')', ';', 'background', ':', 'linear-gradient', '(', 'left', ',', '#', 'e4ecef', '0', ',', '#', 'e4ecef', '20', '%', ',', 'rgba', '(', '228', ',', '236', ',', '239', ',', '0', ')', '100', '%', ')', ';', 'color', ':', '#', '000000', ';', 'height:40px', '}', '.popular-posts-snippet.snippet-container', '{', 'max-height:160px', '}', '.popular-posts-snippet', '.snippet-item', '{', 'line-height:40px', '}', '.popular-posts-snippet', '.snippet-fade', '{', 'background', ':', '-webkit-linear-gradient', '(', 'left', ',', '#', 'e4ecef', '0', ',', '#', 'e4ecef', '20', '%', ',', 'rgba', '(', '228', ',', '236', ',', '239', ',', '0', ')', '100', '%', ')', ';', 'background', ':', 'linear-gradient', '(', 'left', ',', '#', 'e4ecef', '0', ',', '#', 'e4ecef', '20', '%', ',', 'rgba', '(', '228', ',', '236', ',', '239', ',', '0', ')', '100', '%', ')', ';', 'color', ':', '#', '000000', ';', 'height:40px', '}', '.profile-snippet.snippet-container', '{', 'max-height:192px', '}', '.profile-snippet', '.snippet-item', '{', 'line-height:24px', '}', '.profile-snippet', '.snippet-fade', '{', 'background', ':', '-webkit-linear-gradient', '(', 'left', ',', '#', 'e4ecef', '0', ',', '#', 'e4ecef', '20', '%', ',', 'rgba', '(', '228', ',', '236', ',', '239', ',', '0', ')', '100', '%', ')', ';', 'background', ':', 'linear-gradient', '(', 'left', ',', '#', 'e4ecef', '0', ',', '#', 'e4ecef', '20', '%', ',', 'rgba', '(', '228', ',', '236', ',', '239', ',', '0', ')', '100', '%', ')', ';', 'color', ':', '#', '000000', ';', 'height:24px', '}', '.hero-post-noimage-snippet', '.snippet-item', ':', ':first-letter', '{', 'font-size:80px', ';', 'line-height:80px', '}', '#', 'comments', ',', '#', 'comments', 'cite', ',', '#', 'comments', 'div', '{', 'font-size:16px', ';', 'line-height:1.4', '}', '#', 'comments', '.comment', '.comment-header', '.user', ',', '#', 'comments', '.comment', '.comment-header', '.user', '{', 'color', ':', '#', '000000', ';', 'font:600', '14px', 'open', 'sans', ',', 'sans-serif', '}', '#', 'comments', '.comment', '.comment-header', '.datetime', '{', 'color', ':', 'rgba', '(', '0,0,0,0.537', ')', ';', 'font:600', '14px', 'open', 'sans', ',', 'sans-serif', '}', '#', 'comments', '.comment', '.comment-header', '.datetime', ':', ':before', '{', 'content', ':', \"''\", '\\\\b7', '``', '}', '#', 'comments', '.comment', '.comment-content', '{', 'margin-top:6px', '}', '#', 'comments', '.comment', '.comment-actions', '{', 'color', ':', '#', '227796', ';', 'font:600', '14px', 'open', 'sans', ',', 'sans-serif', '}', '#', 'comments', '.continue', '{', 'display', ':', 'none', '}', '#', 'comments', '.comment-footer', '{', 'margin-top:8px', '}', '.cmt_iframe_holder', '{', 'margin-left:140px', '!', 'important', '}', 'body.variant-rockpool_deep_orange', '.centered-top-secondline', '.pagelist', '.overflow-popup', 'li', '{', 'color', ':', '#', '000', '}', 'body.variant-rockpool_pink', '.blog-name', 'h1', ',', 'body.variant-rockpool_pink', '.blog-name', 'h1', '{', 'text-transform', ':', 'none', '}', 'body.variant-rockpool_deep_orange', '.post-filter-message', '{', 'background-color', ':', '#', 'ffffff', '}', '@', 'media', 'screen', '(', 'max-width:1619px', ')', '{', '.page', '{', 'float', ':', 'none', ';', 'margin:0', 'auto', ';', 'max-width', ':', 'none', '!', 'important', '}', '.page_body', '{', 'max-width:1280px', ';', 'margin:0', 'auto', '}', '}', '@', 'media', 'screen', '(', 'max-width:1280px', ')', '{', '.heropost', '.big-post-image', '{', 'display', ':', 'table-cell', ';', 'left', ':', 'auto', ';', 'position', ':', 'static', ';', 'top', ':', 'auto', '}', '.heropost', '.big-post-title', '{', 'display', ':', 'table-cell', '}', '}', '@', 'media', 'screen', '(', 'max-width:1168px', ')', '{', '.centered-top-container', ',', '.centered-top-placeholder', '{', 'padding:24px', '24px', '32px', '24px', '}', '.sticky', '{', 'padding:0', '24px', '}', '.subscribe-section-container', '{', 'margin-left:48px', '}', '.hamburger-section', '{', 'margin-left:48px', '}', '.big-post-text-inner', ',', '.big-post-title-inner', '{', 'margin:0', 'auto', ';', 'max-width:920px', '}', '.centered-top', '{', 'padding:0', ';', 'max-width:920px', '}', '.blog', '{', 'padding:0', '}', 'body.item-view', '.blog', '{', 'padding:0', '24px', ';', 'margin:0', 'auto', ';', 'max-width:920px', '}', '.post-filter-description', '{', 'margin-right:36px', '}', '.post-outer', '{', 'display', ':', 'block', '}', '.post-content', '{', 'max-width', ':', 'none', ';', 'margin:0', '}', '.post-outer', '.snippet-thumbnail', '{', 'width:920px', ';', 'height:613.3333333333px', ';', 'margin-bottom:16px', '}', '.post-outer', '.snippet-thumbnail.thumbnail-empty', '{', 'display', ':', 'none', '}', '.shown-ad', '.inline-ad', '{', 'max-width:100', '%', '}', 'body.item-view', '.blog', '{', 'padding:0', ';', 'max-width', ':', 'none', '}', '.post-filter-message', '{', 'margin:24px', 'calc', '(', '(', '100', '%', '-', '920px', ')', '/', '2', ')', ';', 'max-width', ':', 'none', '}', '.featuredpost', 'h3', ',', 'body.feed-view', '.blog-posts', ',', 'body.feed-view', '.feed-message', '{', 'margin-left', ':', 'calc', '(', '(', '100', '%', '-', '920px', ')', '/', '2', ')', ';', 'margin-right', ':', 'calc', '(', '(', '100', '%', '-', '920px', ')', '/', '2', ')', '}', 'body.item-view', '.blog', '.post-title-container', '{', 'padding:62px', 'calc', '(', '(', '100', '%', '-', '920px', ')', '/', '2', ')', '24px', '}', 'body.item-view', '.blog', '.post-header-container', '{', 'padding-left', ':', 'calc', '(', '(', '100', '%', '-', '920px', ')', '/', '2', ')', '}', 'body.item-view', '.blog', '.post-body-container', ',', 'body.item-view', '.comments', ',', 'body.item-view', '.post-outer-container', '>', '.shown-ad', ',', 'body.item-view', '.widget.blog', '.post-bottom', '{', 'margin:32px', 'calc', '(', '(', '100', '%', '-', '920px', ')', '/', '2', ')', ';', 'padding:0', '}', 'body.item-view', '.cmt_iframe_holder', '{', 'margin:32px', '24px', '!', 'important', '}', '.blog-pager', '{', 'margin-left', ':', 'calc', '(', '(', '100', '%', '-', '920px', ')', '/', '2', ')', ';', 'margin-right', ':', 'calc', '(', '(', '100', '%', '-', '920px', ')', '/', '2', ')', '}', 'body.item-view', '.post-bottom', '{', 'margin:0', 'auto', ';', 'max-width:968px', '}', 'body.item-view', '.popularposts', '.post-content', '{', 'max-width:100', '%', ';', 'margin-right:0', '}', 'body.item-view', '.blog', '.post-body', '{', 'margin-right:0', '}', 'body.item-view', '.blog', '.post-sidebar', '{', 'display', ':', 'none', '}', 'body.item-view', '.widget.blog', '.post-share-buttons-bottom', '{', 'margin-right:24px', '}', 'body.item-view', '.popularposts', '{', 'margin:0', 'auto', ';', 'max-width:920px', '}', 'body.item-view', '.comment-thread-title', '{', 'margin-left', ':', 'calc', '(', '(', '100', '%', '-', '920px', ')', '/', '2', ')', '}', '.heropost', '{', 'display', ':', 'block', '}', '.heropost', '.big-post-title', '{', 'display', ':', 'block', ';', 'max-width', ':', 'none', ';', 'padding:24px', '}', '.heropost', '.big-post-image', '{', 'display', ':', 'none', '}', '.heropost', '.big-post-image-top', '{', 'display', ':', 'block', ';', 'height:613.3333333333px', ';', 'margin:0', 'auto', ';', 'max-width:920px', '}', '.heropost', '.big-post-image-top-container', '{', 'background-color', ':', '#', '227796', '}', '.heropost.noimage', '.big-post-title', '{', 'max-width', ':', 'none', ';', 'width:100', '%', '}', '.heropost.noimage', '.big-post-text', '{', 'position', ':', 'static', ';', 'width:100', '%', '}', '.heropost', '.big-post-text', '{', 'padding:24px', '}', '}', '@', 'media', 'screen', '(', 'max-width:968px', ')', '{', 'body', '{', 'font-size:14px', '}', '.post-header-container', '.byline', ',', '.post-header-container', '.byline', '{', 'font-size:14px', '}', '.post-title', ',', '.post-title', '{', 'font-size:24px', '}', '.post-outer', '.snippet-thumbnail', '{', 'width:100', '%', ';', 'height', ':', 'calc', '(', '(', '100vw', '-', '48px', ')', '*', '2', '/', '3', ')', '}', 'body.item-view', '.blog', '.post-title-container', '{', 'padding:62px', '24px', '24px', '24px', '}', 'body.item-view', '.blog', '.post-header-container', '{', 'padding-left:24px', '}', 'body.item-view', '.blog', '.post-body-container', ',', 'body.item-view', '.popularposts', ',', 'body.item-view', '.comments', ',', 'body.item-view', '.post-outer-container', '>', '.shown-ad', ',', 'body.item-view', '.widget.blog', '.post-bottom', '{', 'margin:32px', '24px', ';', 'padding:0', '}', '.featuredpost', 'h3', ',', 'body.feed-view', '.blog-posts', ',', 'body.feed-view', '.feed-message', '{', 'margin-left:24px', ';', 'margin-right:24px', '}', '.post-filter-message', '{', 'margin:24px', '24px', '48px', '24px', '}', 'body.item-view', 'blockquote', '{', 'font-size:18px', '}', 'body.item-view', '.blog', '.post-title', '{', 'font-size:24px', '}', 'body.item-view', '.blog', '.post-body', '{', 'font-size:14px', '}', 'body.item-view', '.blog', '.post-body', ':', ':first-letter', '{', 'font-size:56px', ';', 'line-height:56px', '}', '.main_header_elements', '{', 'position', ':', 'relative', ';', 'display', ':', 'block', '}', '.search.focused', '.section', '{', 'margin-right:0', ';', 'width:100', '%', '}', 'html', '[', 'dir=ltr', ']', '.search', 'form', '{', 'margin-right:0', '}', '.hamburger-section', '{', 'margin-left:24px', '}', '.search-expand-icon', '{', 'display', ':', 'block', ';', 'float', ':', 'left', ';', 'height:24px', ';', 'margin-top', ':', '-12px', '}', '.search-expand-text', '{', 'display', ':', 'none', '}', '.subscribe-section-container', '{', 'margin-top:12px', '}', '.subscribe-section-container', '{', 'float', ':', 'left', ';', 'margin-left:0', '}', '.search-expand', '{', 'position', ':', 'absolute', ';', 'right:0', ';', 'top:0', '}', 'html', '[', 'dir=ltr', ']', '.search-expand', '{', 'margin-left:24px', '}', '.centered-top.search-focused', '.subscribe-section-container', '{', 'opacity:0', '}', '.blog-name', '{', 'float', ':', 'none', '}', '.blog-name', '{', 'margin-right:36px', '}', '.centered-top-secondline', '.pagelist', 'li', '{', 'margin-right:24px', '}', '.centered-top.search-focused', '.subscribe-button', ',', '.centered-top.search-focused', '.subscribe-section-container', '{', 'opacity:1', '}', 'body.item-view', '.comment-thread-title', '{', 'margin-left:24px', '}', '.blog-pager', '{', 'margin-left:24px', ';', 'margin-right:24px', '}', '.heropost', '.big-post-image-top', '{', 'width:100', '%', ';', 'height', ':', 'calc', '(', '100vw', '*', '2', '/', '3', ')', '}', '.popular-posts-snippet.snippet-container', ',', '.post-snippet.snippet-container', '{', 'font-size:14px', ';', 'max-height:112px', '}', '.popular-posts-snippet', '.snippet-item', ',', '.post-snippet', '.snippet-item', '{', 'line-height:2', '}', '.popular-posts-snippet', '.snippet-fade', ',', '.post-snippet', '.snippet-fade', '{', 'height:28px', '}', '.hero-post-snippet.snippet-container', '{', 'font-size:14px', ';', 'max-height:112px', '}', '.hero-post-snippet', '.snippet-item', '{', 'line-height:2', '}', '.hero-post-snippet', '.snippet-fade', '{', 'height:28px', '}', '.hero-post-noimage-snippet.snippet-container', '{', 'font-size:14px', ';', 'line-height:2', ';', 'max-height:224px', '}', '.hero-post-noimage-snippet', '.snippet-item', '{', 'line-height:2', '}', '.hero-post-noimage-snippet', '.snippet-fade', '{', 'height:28px', '}', '.hero-post-noimage-snippet', '.snippet-item', ':', ':first-letter', '{', 'font-size:56px', ';', 'line-height', ':', 'normal', '}', 'body.item-view', '.post-body-container', '.separator', '[', 'style*=', \"''\", 'text-align', ':', 'center', \"''\", ']', '[', 'imageanchor=', \"''\", '1', \"''\", ']', '{', 'margin-left', ':', '-24px', '!', 'important', ';', 'margin-right', ':', '-24px', '!', 'important', '}', 'body.item-view', '.post-body-container', '.separator', '[', 'style*=', \"''\", 'text-align', ':', 'center', \"''\", ']', '[', 'imageanchor=', \"''\", '1', \"''\", ']', '[', 'style*=', \"''\", 'float', ':', 'left', ';', \"''\", ']', ',', 'body.item-view', '.post-body-container', '.separator', '[', 'style*=', \"''\", 'text-align', ':', 'center', \"''\", ']', '[', 'imageanchor=', \"''\", '1', \"''\", ']', '[', 'style*=', \"''\", 'float', ':', 'right', ';', \"''\", ']', '{', 'margin-left:0', '!', 'important', ';', 'margin-right:0', '!', 'important', '}', 'body.item-view', '.post-body-container', '.separator', '[', 'style*=', \"''\", 'text-align', ':', 'center', \"''\", ']', '[', 'imageanchor=', \"''\", '1', \"''\", ']', '[', 'style*=', \"''\", 'float', ':', 'left', ';', \"''\", ']', 'img', ',', 'body.item-view', '.post-body-container', '.separator', '[', 'style*=', \"''\", 'text-align', ':', 'center', \"''\", ']', '[', 'imageanchor=', \"''\", '1', \"''\", ']', '[', 'style*=', \"''\", 'float', ':', 'right', ';', \"''\", ']', 'img', '{', 'max-width:100', '%', '}', '}', '@', 'media', 'screen', '(', 'min-width:1620px', ')', '{', '.page', '{', 'float', ':', 'left', '}', '.centered-top', '{', 'max-width:1600px', ';', 'padding:44px', '456px', '32px', '136px', '}', '.sidebar-container', '{', 'box-shadow', ':', 'none', ';', 'float', ':', 'right', ';', 'max-width:320px', ';', 'z-index:32', '}', '.sidebar-container', '.navigation', '{', 'display', ':', 'none', '}', '.hamburger-section', ',', '.sticky', '.hamburger-section', '{', 'display', ':', 'none', '}', '.search.focused', '.section', '{', 'margin-right:0', ';', 'width:100', '%', '}', '#', 'footer', '{', 'padding-right:320px', '}', '}', '--', '>', '<', '/style', '>', '<', 'style', \"id='template-skin-1\", \"'\", \"type='text/css\", \"'\", '>', '<', '!', '--', 'body', '#', 'layout', '.hidden', ',', 'body', '#', 'layout', '.invisible', '{', 'display', ':', 'inherit', ';', '}', 'body', '#', 'layout', '.navigation', '{', 'display', ':', 'none', ';', '}', 'body', '#', 'layout', '.page', '{', 'display', ':', 'inline-block', ';', 'vertical-align', ':', 'top', ';', 'width', ':', '55', '%', ';', '}', 'body', '#', 'layout', '.sidebar-container', '{', 'display', ':', 'inline-block', ';', 'float', ':', 'right', ';', 'width', ':', '40', '%', ';', '}', 'body', '#', 'layout', '.hamburger-menu', ',', 'body', '#', 'layout', '.search', '{', 'display', ':', 'none', ';', '}', '--', '>', '<', '/style', '>', '<', 'script', \"async='async\", \"'\", \"src='//pagead2.googlesyndication.com/pagead/js/adsbygoogle.js\", \"'\", '>', '<', '/script', '>', '<', 'script', \"async='async\", \"'\", \"src='https\", ':', '//www.gstatic.com/external_hosted/clipboardjs/clipboard.min.js', \"'\", '>', '<', '/script', '>', '<', '!', '--', 'data-ad-client=ca-pub-2316420413913358', '--', '>', '<', '/head', '>', '<', 'body', \"class='container\", 'feed-view', 'version-1-3-3', 'variant-rockpool_light', \"'\", '>', '<', \"class='skip-navigation\", \"'\", 'href=', \"'\", '#', 'main', \"'\", \"tabindex='0\", \"'\", '>', 'skip', 'main', 'content', '<', '/a', '>', '<', 'div', \"class='all-container\", \"'\", '>', '<', 'div', \"class='centered-top-placeholder\", \"'\", '>', '<', '/div', '>', '<', 'header', \"class='centered-top-container\", \"'\", \"role='banner\", \"'\", '>', '<', 'div', \"class='centered-top\", \"'\", '>', '<', 'div', \"class='centered-top-firstline\", 'container', \"'\", '>', '<', 'div', \"class='main_header_elements\", 'container', \"'\", '>', '<', '!', '--', 'blog', 'name', 'header', '--', '>', '<', 'div', \"class='blog-name\", \"'\", '>', '<', 'div', \"class='section\", \"'\", \"id='header\", \"'\", \"name='header\", \"'\", '>', '<', 'div', \"class='widget\", 'header', \"'\", \"data-version='2\", \"'\", \"id='header1\", \"'\", '>', '<', 'div', \"class='header-widget\", \"'\", '>', '<', 'div', '>', '<', 'h1', '>', 'gate', '2', 'cse', '<', '/h1', '>', '<', '/div', '>', '<', 'p', '>', 'perfect', 'destination', 'cs', 'grads', '<', '/p', '>', '<', '/div', '>', '<', '/div', '>', '<', '/div', '>', '<', '/div', '>', '<', '!', '--', 'end', 'blog', 'name', 'header', '--', '>', '<', '!', '--', 'subscribe', '--', '>', '<', 'section', \"class='subscribe-section-container\", \"'\", '>', '<', 'button', \"class='flat-button\", 'subscribe-button', \"'\", '>', 'subscribe', '<', '/button', '>', '<', 'div', \"class='subscribe-popup-container\", \"'\", '>', '<', 'div', \"aria-labelledby='subscribe-title\", \"'\", \"class='subscribe-popup\", 'dialog', 'hidden', \"'\", \"role='dialog\", \"'\", \"tabindex='-1\", \"'\", '>', '<', 'div', \"role='document\", \"'\", '>', '<', 'h3', \"class='subscribe-title\", \"'\", \"id='subscribe-title\", \"'\", '>', 'subscribe', 'blog', '<', '/h3', '>', '<', 'div', \"class='section\", \"'\", \"id='subscription\", \"'\", \"name='subscription\", \"'\", '>', '<', 'div', \"class='widget\", 'followbyemail', \"'\", \"data-version='2\", \"'\", \"id='followbyemail1\", \"'\", '>', '<', 'h3', \"class='title\", \"'\", '>', 'follow', 'email', '<', '/h3', '>', '<', 'div', \"class='widget-content\", \"'\", '>', '<', 'div', \"class='follow-by-email-inner\", \"'\", '>', '<', 'form', \"action='https\", ':', '//feedburner.google.com/fb/a/mailverify', \"'\", \"method='post\", \"'\", \"onsubmit='window.open\", '(', '``', 'https', ':', '//feedburner.google.com/fb/a/mailverify', '?', 'uri=blogspot/souig', \"''\", ',', '``', 'popupwindow', \"''\", ',', '``', 'scrollbars=yes', ',', 'width=550', ',', 'height=520', \"''\", ')', ';', 'return', 'true', \"'\", \"target='popupwindow\", \"'\", '>', '<', 'input', \"autocomplete='off\", \"'\", \"class='follow-by-email-address\", \"'\", \"name='email\", \"'\", \"placeholder='email\", 'address', \"'\", \"type='email'/\", '>', '<', 'input', \"class='follow-by-email-submit\", \"'\", \"type='submit\", \"'\", \"value='get\", 'email', \"notifications'/\", '>', '<', 'input', \"name='uri\", \"'\", \"type='hidden\", \"'\", \"value='blogspot/souig'/\", '>', '<', 'input', \"name='loc\", \"'\", \"type='hidden\", \"'\", \"value='en_us'/\", '>', '<', '/form', '>', '<', '/div', '>', '<', '/div', '>', '<', '/div', '>', '<', '/div', '>', '<', '/div', '>', '<', '/div', '>', '<', '/div', '>', '<', '/section', '>', '<', '!', '--', 'end', 'subscribe', '--', '>', '<', '!', '--', 'search', '--', '>', '<', 'div', \"class='search\", \"'\", '>', '<', 'button', \"aria-label='search\", \"'\", \"class='flat-button\", 'search-expand', 'touch-icon-button', \"'\", '>', '<', 'div', \"class='search-expand-text\", \"'\", '>', 'search', '<', '/div', '>', '<', 'div', \"class='search-expand-icon\", 'flat-icon-button', \"'\", '>', '<', 'svg', \"class='svg-icon-24\", \"'\", '>', '<', 'use', 'xlink', ':', \"href='/responsive/sprite_v1_6.css.svg\", '#', 'ic_search_black_24dp', \"'\", 'xmlns', ':', \"xlink='http\", ':', '//www.w3.org/1999/xlink', \"'\", '>', '<', '/use', '>', '<', '/svg', '>', '<', '/div', '>', '<', '/button', '>', '<', 'div', \"class='section\", \"'\", \"id='search_top\", \"'\", \"name='search\", '(', 'top', ')', \"'\", '>', '<', 'div', \"class='widget\", 'blogsearch', \"'\", \"data-version='2\", \"'\", \"id='blogsearch1\", \"'\", '>', '<', 'h3', \"class='title\", \"'\", '>', 'search', 'blog', '<', '/h3', '>', '<', 'div', \"class='widget-content\", \"'\", \"role='search\", \"'\", '>', '<', 'form', \"action='https\", ':', '//gate2cse.blogspot.com/search', \"'\", \"target='_top\", \"'\", '>', '<', 'div', \"class='search-input\", \"'\", '>', '<', 'input', \"aria-label='search\", 'blog', \"'\", \"autocomplete='off\", \"'\", \"name='q\", \"'\", \"placeholder='search\", 'blog', \"'\", 'value=', \"''\", '/', '>', '<', '/div', '>', '<', 'label', \"class='search-submit\", \"'\", '>', '<', 'input', \"type='submit'/\", '>', '<', 'div', \"class='flat-icon-button\", 'ripple', \"'\", '>', '<', 'svg', \"class='svg-icon-24\", 'search-icon', \"'\", '>', '<', 'use', 'xlink', ':', \"href='/responsive/sprite_v1_6.css.svg\", '#', 'ic_search_black_24dp', \"'\", 'xmlns', ':', \"xlink='http\", ':', '//www.w3.org/1999/xlink', \"'\", '>', '<', '/use', '>', '<', '/svg', '>', '<', '/div', '>', '<', '/label', '>', '<', '/form', '>', '<', '/div', '>', '<', '/div', '>', '<', '/div', '>', '<', '/div', '>', '<', '/div', '>', '<', '!', '--', 'hamburger', 'menu', '--', '>', '<', 'div', \"class='hamburger-section\", 'container', \"'\", '>', '<', 'button', \"class='svg-icon-24-button\", 'hamburger-menu', 'flat-icon-button', 'ripple', \"'\", '>', '<', 'svg', \"class='svg-icon-24\", \"'\", '>', '<', 'use', 'xlink', ':', \"href='/responsive/sprite_v1_6.css.svg\", '#', 'ic_menu_black_24dp', \"'\", 'xmlns', ':', \"xlink='http\", ':', '//www.w3.org/1999/xlink', \"'\", '>', '<', '/use', '>', '<', '/svg', '>', '<', '/button', '>', '<', '/div', '>', '<', '!', '--', 'end', 'hamburger', 'menu', '--', '>', '<', '/div', '>', '<', 'nav', \"role='navigation\", \"'\", '>', '<', 'div', \"class='centered-top-secondline\", 'no-items', 'section', \"'\", \"id='page_list_top\", \"'\", \"name='page\", 'list', '(', 'top', ')', \"'\", '>', '<', '/div', '>', '<', '/nav', '>', '<', '/div', '>', '<', '/header', '>', '<', 'div', \"class='main_content_container\", 'clearfix', \"'\", '>', '<', 'div', \"class='page\", \"'\", '>', '<', 'div', \"class='page_body\", \"'\", '>', '<', 'div', \"class='centered\", \"'\", '>', '<', 'main', \"class='centered-bottom\", \"'\", \"id='main\", \"'\", \"role='main\", \"'\", \"tabindex='-1\", \"'\", '>', '<', 'h2', \"class='main-heading\", \"'\", '>', 'posts', '<', '/h2', '>', '<', 'div', \"class='main\", 'section', \"'\", \"id='page_body\", \"'\", \"name='page\", 'body', \"'\", '>', '<', 'div', \"class='widget\", 'featuredpost', \"'\", \"data-version='2\", \"'\", \"id='featuredpost1\", \"'\", '>', '<', 'div', \"class='widget-content\", \"'\", '>', '<', 'div', \"class='heropost\", \"'\", '>', '<', 'div', \"class='big-post-image-top-container\", \"'\", '>', '<', 'style', '>', '.big-post-image-top', '{', 'background-image', ':', 'url', '(', 'https\\\\', ':', '\\\\/\\\\/1.bp.blogspot.com\\\\/-9g7rcpitq-m\\\\/ynqlfhfbgyi\\\\/aaaaaaabgao\\\\/2fzumtfjsq0ms7-jvjrme2hkoz8fsihnwclcbgasyhq\\\\/w640-h270\\\\/iitj.png', ')', ';', '}', '@', 'media', '(', 'max-width', ':', '480px', ')', '{', '.big-post-image-top', '{', 'background-image', ':', 'url', '(', 'https\\\\', ':', '\\\\/\\\\/1.bp.blogspot.com\\\\/-9g7rcpitq-m\\\\/ynqlfhfbgyi\\\\/aaaaaaabgao\\\\/2fzumtfjsq0ms7-jvjrme2hkoz8fsihnwclcbgasyhq\\\\/w480-h320-p-k-no-nu\\\\/iitj.png', ')', ';', '}', '}', '@', 'media', '(', 'max-width', ':', '640px', ')', '(', 'min-width', ':', '481px', ')', '{', '.big-post-image-top', '{', 'background-image', ':', 'url', '(', 'https\\\\', ':', '\\\\/\\\\/1.bp.blogspot.com\\\\/-9g7rcpitq-m\\\\/ynqlfhfbgyi\\\\/aaaaaaabgao\\\\/2fzumtfjsq0ms7-jvjrme2hkoz8fsihnwclcbgasyhq\\\\/w640-h426-p-k-no-nu\\\\/iitj.png', ')', ';', '}', '}', '@', 'media', '(', 'max-width', ':', '800px', ')', '(', 'min-width', ':', '641px', ')', '{', '.big-post-image-top', '{', 'background-image', ':', 'url', '(', 'https\\\\', ':', '\\\\/\\\\/1.bp.blogspot.com\\\\/-9g7rcpitq-m\\\\/ynqlfhfbgyi\\\\/aaaaaaabgao\\\\/2fzumtfjsq0ms7-jvjrme2hkoz8fsihnwclcbgasyhq\\\\/w800-h533-p-k-no-nu\\\\/iitj.png', ')', ';', '}', '}', '/*', 'last', 'tag', 'covers', 'anything', 'one', 'higher', 'previous', 'max-size', 'cap', '.', '*/', '@', 'media', '(', 'min-width', ':', '801px', ')', '{', '.big-post-image-top', '{', 'background-image', ':', 'url', '(', 'https\\\\', ':', '\\\\/\\\\/1.bp.blogspot.com\\\\/-9g7rcpitq-m\\\\/ynqlfhfbgyi\\\\/aaaaaaabgao\\\\/2fzumtfjsq0ms7-jvjrme2hkoz8fsihnwclcbgasyhq\\\\/w1200-h800-p-k-no-nu\\\\/iitj.png', ')', ';', '}', '}', '<', '/style', '>', '<', \"class='big-post-image-top\", \"'\", \"href='https\", ':', '//gate2cse.blogspot.com/2021/06/mtech-cse-and-ai-interview-experience.html', \"'\", '>', '<', '/a', '>', '<', '/div', '>', '<', 'div', \"class='big-post-title\", \"'\", '>', '<', 'div', \"class='big-post-title-inner\", \"'\", '>', '<', 'h3', \"class='post-title\", \"'\", '>', '<', \"href='https\", ':', '//gate2cse.blogspot.com/2021/06/mtech-cse-and-ai-interview-experience.html', \"'\", '>', 'iit', 'jodhpur', ':', 'm.tech', '.', 'cse', 'ai', 'interview', 'experience', '2021-22', '<', '/a', '>', '<', '/h3', '>', '<', 'div', \"class='post-header\", \"'\", '>', '<', 'div', \"class='post-header-line-1\", \"'\", '>', '<', 'span', \"class='byline\", 'post-timestamp', \"'\", '>', '<', 'meta', \"content='https\", ':', \"//gate2cse.blogspot.com/2021/06/mtech-cse-and-ai-interview-experience.html'/\", '>', '<', \"class='timestamp-link\", \"'\", \"href='https\", ':', '//gate2cse.blogspot.com/2021/06/mtech-cse-and-ai-interview-experience.html', \"'\", \"rel='bookmark\", \"'\", \"title='permanent\", 'link', \"'\", '>', '<', 'time', \"class='published\", \"'\", \"datetime='2021-06-24t03:20:00-07:00\", \"'\", \"title='2021-06-24t03:20:00-07:00\", \"'\", '>', 'june', '24', ',', '2021', '<', '/time', '>', '<', '/a', '>', '<', '/span', '>', '<', '/div', '>', '<', '/div', '>', '<', 'div', \"class='container\", 'post-body', 'entry-content', \"'\", \"id='post-snippet-9146680672247516294\", \"'\", '>', '<', 'div', \"class='hero-post-snippet\", 'snippet-container', 'r-snippet-container', \"'\", '>', '<', 'div', \"class='snippet-item\", 'r-snippetized', \"'\", '>', 'indian', 'institute', 'technology', 'jodhpur', '(', 'iitj', ')', 'one', '23', 'iits', 'located', 'across', 'india', 'one', '8', 'new', 'iits', 'established', 'ministry', 'human', 'resource', 'development', ',', 'government', 'india', '.', 'iit', 'jodhpur', 'founded', '2008', 'started', 'operating', 'iit', 'kanpur', 'temporary', 'campus', '.', 'later', '2017', ',', 'shifted', 'permanent', 'residential', 'campus', 'outskirts', 'jodhpur', ',', 'shift', 'transit', 'campus', 'identified', 'mbm', 'engineering', 'college', ',', 'jodhpur', '2010', '2017', '.', 'iit', 'jodhpur', '(', 'source', ':', 'google', 'photos', ')', 'm.tech', '.', 'department', 'cse', 'department', 'computer', 'science', 'engineering', 'iit', 'jodhpur', 'offers', 'various', 'post', 'graduate', 'programs', 'varoius', 'categories', '2', 'streams', '-', 'computer', 'science', 'engineering', '(', 'cse', ')', 'artificial', 'intelligence', '(', 'ai', ')', '.', 'programs', 'offered', 'm.tech', '.', '(', 'cse', 'ai', ')', 'm.tech', '.', '-', 'phd', 'dual', 'degree', '(', 'cse', 'ai', ')', 'doctor', 'philosophy', '(', 'phd', ')', 'cse', 'executive', 'm.tech', '.', 'ai', '(', 'working', 'professionals', ')', 'modes', 'admission', 'full', 'time', 'regular', 'mode', 'scholarship', '(', 'valid', 'gate', 'sco', '<', '/div', '>', '<', \"class='snippet-fade\", 'r-snippet-fade', 'hidden', \"'\", 'href=', \"''\", '>', '<', '/a', '>', '<', '/div', '>', '<', '/div', '>', '<', 'div', \"class='post-bottom\", \"'\", '>', '<', 'div', \"class='post-footer\", \"'\", '>', '<', 'div', \"class='post-footer-line\", 'post-footer-line-0', \"'\", '>', '<', 'div', \"class='byline\", 'post-share-buttons', 'goog-inline-block', \"'\", '>', '<', 'div', \"aria-owns='sharing-popup-featuredpost1-footer-0-9146680672247516294\", \"'\", \"class='sharing\", \"'\", \"data-title='iit\", 'jodhpur', ':', 'm.tech', '.', 'cse', 'ai', 'interview', 'experience', '2021-22', \"'\", '>', '<', 'button', \"aria-controls='sharing-popup-featuredpost1-footer-0-9146680672247516294\", \"'\", \"aria-label='share\", \"'\", \"class='sharing-button\", 'touch-icon-button', 'flat-button', 'ripple', \"'\", \"id='sharing-button-featuredpost1-footer-0-9146680672247516294\", \"'\", \"role='button\", \"'\", '>', 'share', '<', '/button', '>', '<', 'div', \"class='share-buttons-container\", \"'\", '>', '<', 'ul', \"aria-hidden='true\", \"'\", \"aria-label='share\", \"'\", \"class='share-buttons\", 'hidden', \"'\", \"id='sharing-popup-featuredpost1-footer-0-9146680672247516294\", \"'\", \"role='menu\", \"'\", '>', '<', 'li', '>', '<', 'span', \"aria-label='get\", 'link', \"'\", \"class='sharing-platform-button\", 'sharing-element-link', \"'\", \"data-href='https\", ':', '//www.blogger.com/share-post.g', '?', 'blogid=7143236966222162812', '&', 'postid=9146680672247516294', '&', 'target=', \"'\", \"data-url='https\", ':', '//gate2cse.blogspot.com/2021/06/mtech-cse-and-ai-interview-experience.html', \"'\", \"role='menuitem\", \"'\", \"tabindex='-1\", \"'\", \"title='get\", 'link', \"'\", '>', '<', 'svg', \"class='svg-icon-24\", 'touch-icon', 'sharing-link', \"'\", '>', '<', 'use', 'xlink', ':', \"href='/responsive/sprite_v1_6.css.svg\", '#', 'ic_24_link_dark', \"'\", 'xmlns', ':', \"xlink='http\", ':', '//www.w3.org/1999/xlink', \"'\", '>', '<', '/use', '>', '<', '/svg', '>', '<', 'span', \"class='platform-sharing-text\", \"'\", '>', 'get', 'link', '<', '/span', '>', '<', '/span', '>', '<', '/li', '>', '<', 'li', '>', '<', 'span', \"aria-label='share\", 'facebook', \"'\", \"class='sharing-platform-button\", 'sharing-element-facebook', \"'\", \"data-href='https\", ':', '//www.blogger.com/share-post.g', '?', 'blogid=7143236966222162812', '&', 'postid=9146680672247516294', '&', 'target=facebook', \"'\", \"data-url='https\", ':', '//gate2cse.blogspot.com/2021/06/mtech-cse-and-ai-interview-experience.html', \"'\", \"role='menuitem\", \"'\", \"tabindex='-1\", \"'\", \"title='share\", 'facebook', \"'\", '>', '<', 'svg', \"class='svg-icon-24\", 'touch-icon', 'sharing-facebook', \"'\", '>', '<', 'use', 'xlink', ':', \"href='/responsive/sprite_v1_6.css.svg\", '#', 'ic_24_facebook_dark', \"'\", 'xmlns', ':', \"xlink='http\", ':', '//www.w3.org/1999/xlink', \"'\", '>', '<', '/use', '>', '<', '/svg', '>', '<', 'span', \"class='platform-sharing-text\", \"'\", '>', 'facebook', '<', '/span', '>', '<', '/span', '>', '<', '/li', '>', '<', 'li', '>', '<', 'span', \"aria-label='share\", 'twitter', \"'\", \"class='sharing-platform-button\", 'sharing-element-twitter', \"'\", \"data-href='https\", ':', '//www.blogger.com/share-post.g', '?', 'blogid=7143236966222162812', '&', 'postid=9146680672247516294', '&', 'target=twitter', \"'\", \"data-url='https\", ':', '//gate2cse.blogspot.com/2021/06/mtech-cse-and-ai-interview-experience.html', \"'\", \"role='menuitem\", \"'\", \"tabindex='-1\", \"'\", \"title='share\", 'twitter', \"'\", '>', '<', 'svg', \"class='svg-icon-24\", 'touch-icon', 'sharing-twitter', \"'\", '>', '<', 'use', 'xlink', ':', \"href='/responsive/sprite_v1_6.css.svg\", '#', 'ic_24_twitter_dark', \"'\", 'xmlns', ':', \"xlink='http\", ':', '//www.w3.org/1999/xlink', \"'\", '>', '<', '/use', '>', '<', '/svg', '>', '<', 'span', \"class='platform-sharing-text\", \"'\", '>', 'twitter', '<', '/span', '>', '<', '/span', '>', '<', '/li', '>', '<', 'li', '>', '<', 'span', \"aria-label='share\", 'pinterest', \"'\", \"class='sharing-platform-button\", 'sharing-element-pinterest', \"'\", \"data-href='https\", ':', '//www.blogger.com/share-post.g', '?', 'blogid=7143236966222162812', '&', 'postid=9146680672247516294', '&', 'target=pinterest', \"'\", \"data-url='https\", ':', '//gate2cse.blogspot.com/2021/06/mtech-cse-and-ai-interview-experience.html', \"'\", \"role='menuitem\", \"'\", \"tabindex='-1\", \"'\", \"title='share\", 'pinterest', \"'\", '>', '<', 'svg', \"class='svg-icon-24\", 'touch-icon', 'sharing-pinterest', \"'\", '>', '<', 'use', 'xlink', ':', \"href='/responsive/sprite_v1_6.css.svg\", '#', 'ic_24_pinterest_dark', \"'\", 'xmlns', ':', \"xlink='http\", ':', '//www.w3.org/1999/xlink', \"'\", '>', '<', '/use', '>', '<', '/svg', '>', '<', 'span', \"class='platform-sharing-text\", \"'\", '>', 'pinterest', '<', '/span', '>', '<', '/span', '>', '<', '/li', '>', '<', 'li', '>', '<', 'span', \"aria-label='email\", \"'\", \"class='sharing-platform-button\", 'sharing-element-email', \"'\", \"data-href='https\", ':', '//www.blogger.com/share-post.g', '?', 'blogid=7143236966222162812', '&', 'postid=9146680672247516294', '&', 'target=email', \"'\", \"data-url='https\", ':', '//gate2cse.blogspot.com/2021/06/mtech-cse-and-ai-interview-experience.html', \"'\", \"role='menuitem\", \"'\", \"tabindex='-1\", \"'\", \"title='email\", \"'\", '>', '<', 'svg', \"class='svg-icon-24\", 'touch-icon', 'sharing-email', \"'\", '>', '<', 'use', 'xlink', ':', \"href='/responsive/sprite_v1_6.css.svg\", '#', 'ic_24_email_dark', \"'\", 'xmlns', ':', \"xlink='http\", ':', '//www.w3.org/1999/xlink', \"'\", '>', '<', '/use', '>', '<', '/svg', '>', '<', 'span', \"class='platform-sharing-text\", \"'\", '>', 'email', '<', '/span', '>', '<', '/span', '>', '<', '/li', '>', '<', 'li', \"aria-hidden='true\", \"'\", \"class='hidden\", \"'\", '>', '<', 'span', \"aria-label='share\", 'apps', \"'\", \"class='sharing-platform-button\", 'sharing-element-other', \"'\", \"data-url='https\", ':', '//gate2cse.blogspot.com/2021/06/mtech-cse-and-ai-interview-experience.html', \"'\", \"role='menuitem\", \"'\", \"tabindex='-1\", \"'\", \"title='share\", 'apps', \"'\", '>', '<', 'svg', \"class='svg-icon-24\", 'touch-icon', 'sharing-sharingother', \"'\", '>', '<', 'use', 'xlink', ':', \"href='/responsive/sprite_v1_6.css.svg\", '#', 'ic_more_horiz_black_24dp', \"'\", 'xmlns', ':', \"xlink='http\", ':', '//www.w3.org/1999/xlink', \"'\", '>', '<', '/use', '>', '<', '/svg', '>', '<', 'span', \"class='platform-sharing-text\", \"'\", '>', 'apps', '<', '/span', '>', '<', '/span', '>', '<', '/li', '>', '<', '/ul', '>', '<', '/div', '>', '<', '/div', '>', '<', '/div', '>', '<', 'span', \"class='byline\", 'post-comment-link', 'container', \"'\", '>', '<', \"class='comment-link\", 'flat-button', 'ripple', \"'\", \"href='https\", ':', '//gate2cse.blogspot.com/2021/06/mtech-cse-and-ai-interview-experience.html', '#', 'comments', \"'\", 'onclick=', \"''\", '>', 'post', 'comment', '<', '/a', '>', '<', '/span', '>', '<', '/div', '>', '<', '/div', '>', '<', 'div', \"class='byline\", 'jump-link', \"'\", '>', '<', \"class='flat-button\", 'ripple', \"'\", \"href='https\", ':', '//gate2cse.blogspot.com/2021/06/mtech-cse-and-ai-interview-experience.html', '#', \"'\", \"title='iit\", 'jodhpur', ':', 'm.tech', '.', 'cse', 'ai', 'interview', 'experience', '2021-22', \"'\", '>', 'read', '<', '/a', '>', '<', '/div', '>', '<', '/div', '>', '<', '/div', '>', '<', '/div', '>', '<', \"class='big-post-image\", \"'\", \"href='https\", ':', '//gate2cse.blogspot.com/2021/06/mtech-cse-and-ai-interview-experience.html', \"'\", \"style='background-image\", ':', 'url', '(', '``', 'https', ':', '//1.bp.blogspot.com/-9g7rcpitq-m/ynqlfhfbgyi/aaaaaaabgao/2fzumtfjsq0ms7-jvjrme2hkoz8fsihnwclcbgasyhq/w612/iitj.png', \"''\", ')', ';', \"'\", '>', '<', '/a', '>', '<', '/div', '>', '<', '/div', '>', '<', '/div', '>', '<', 'div', \"class='widget\", 'blog', \"'\", \"data-version='2\", \"'\", \"id='blog1\", \"'\", '>', '<', 'div', \"class='feed-message\", \"'\", '>', 'recent', 'posts', '<', '/div', '>', '<', 'div', \"class='blog-posts\", 'hfeed', 'container', \"'\", '>', '<', 'article', \"class='post-outer-container\", \"'\", '>', '<', 'div', \"class='post-outer\", \"'\", '>', '<', \"class='snippet-thumbnail\", \"'\", \"href='https\", ':', '//gate2cse.blogspot.com/2021/07/mtech-cse-interview-experience-at-iiit.html', \"'\", '>', '<', 'span', \"class='snippet-thumbnail-img\", \"'\", \"id='snippet_thumbnail_id_7296436610010115162\", \"'\", '>', '<', '/span', '>', '<', 'style', '>', '@', 'media', '(', 'min-width', ':', '1168px', ')', '{', '#', 'snippet_thumbnail_id_7296436610010115162', '{', 'background-image', ':', 'url', '(', 'https\\\\', ':', '\\\\/\\\\/1.bp.blogspot.com\\\\/-t5tpkjojzqe\\\\/yo72x2ijtpi\\\\/aaaaaaabhra\\\\/vfzmz9qc7ceryjg2nt4pabupfigjbcp3qclcbgasyhq\\\\/w256-h256-p-k-no-nu\\\\/iiit-g.jpg', ')', ';', '}', '}', '@', 'media', '(', 'min-width', ':', '969px', ')', '(', 'max-width', ':', '1167px', ')', '{', '#', 'snippet_thumbnail_id_7296436610010115162', '{', 'background-image', ':', 'url', '(', 'https\\\\', ':', '\\\\/\\\\/1.bp.blogspot.com\\\\/-t5tpkjojzqe\\\\/yo72x2ijtpi\\\\/aaaaaaabhra\\\\/vfzmz9qc7ceryjg2nt4pabupfigjbcp3qclcbgasyhq\\\\/w1167-h778-p-k-no-nu\\\\/iiit-g.jpg', ')', ';', '}', '}', '@', 'media', '(', 'min-width', ':', '601px', ')', '(', 'max-width', ':', '968px', ')', '{', '#', 'snippet_thumbnail_id_7296436610010115162', '{', 'background-image', ':', 'url', '(', 'https\\\\', ':', '\\\\/\\\\/1.bp.blogspot.com\\\\/-t5tpkjojzqe\\\\/yo72x2ijtpi\\\\/aaaaaaabhra\\\\/vfzmz9qc7ceryjg2nt4pabupfigjbcp3qclcbgasyhq\\\\/w968-h645-p-k-no-nu\\\\/iiit-g.jpg', ')', ';', '}', '}', '@', 'media', '(', 'max-width', ':', '600px', ')', '{', '#', 'snippet_thumbnail_id_7296436610010115162', '{', 'background-image', ':', 'url', '(', 'https\\\\', ':', '\\\\/\\\\/1.bp.blogspot.com\\\\/-t5tpkjojzqe\\\\/yo72x2ijtpi\\\\/aaaaaaabhra\\\\/vfzmz9qc7ceryjg2nt4pabupfigjbcp3qclcbgasyhq\\\\/w600-h400-p-k-no-nu\\\\/iiit-g.jpg', ')', ';', '}', '}', '<', '/style', '>', '<', '/a', '>', '<', 'div', \"class='post-content\", 'container', \"'\", '>', '<', 'div', \"class='post-title-container\", \"'\", '>', '<', \"name='7296436610010115162\", \"'\", '>', '<', '/a', '>', '<', 'h3', \"class='post-title\", 'entry-title', \"'\", '>', '<', \"href='https\", ':', '//gate2cse.blogspot.com/2021/07/mtech-cse-interview-experience-at-iiit.html', \"'\", '>', 'm.tech', '.', 'cse', 'interview', 'experience', 'iiit', 'guwahati', '<', '/a', '>', '<', '/h3', '>', '<', '/div', '>', '<', 'div', \"class='post-header-container\", 'container', \"'\", '>', '<', 'div', \"class='post-header\", \"'\", '>', '<', 'div', \"class='post-header-line-1\", \"'\", '>', '<', 'span', \"class='byline\", 'post-timestamp', \"'\", '>', '<', 'meta', \"content='https\", ':', \"//gate2cse.blogspot.com/2021/07/mtech-cse-interview-experience-at-iiit.html'/\", '>', '<', \"class='timestamp-link\", \"'\", \"href='https\", ':', '//gate2cse.blogspot.com/2021/07/mtech-cse-interview-experience-at-iiit.html', \"'\", \"rel='bookmark\", \"'\", \"title='permanent\", 'link', \"'\", '>', '<', 'time', \"class='published\", \"'\", \"datetime='2021-07-23t08:14:00-07:00\", \"'\", \"title='2021-07-23t08:14:00-07:00\", \"'\", '>', 'july', '23', ',', '2021', '<', '/time', '>', '<', '/a', '>', '<', '/span', '>', '<', '/div', '>', '<', '/div', '>', '<', '/div', '>', '<', 'div', \"class='container\", 'post-body', 'entry-content', \"'\", \"id='post-snippet-7296436610010115162\", \"'\", '>', '<', 'div', \"class='post-snippet\", 'snippet-container', 'r-snippet-container', \"'\", '>', '<', 'div', \"class='snippet-item\", 'r-snippetized', \"'\", '>', 'indian', 'institute', 'information', 'technology', 'guwahati', 'one', '25', 'iiits', 'located', 'across', 'india', '.', 'institute', 'set', 'ministry', 'human', 'resource', 'development', ',', 'government', 'india', 'public-private', 'partnership', 'mode', '(', 'ppp', ')', '.', 'm.tech', '.', 'cse', 'department', 'cse', ',', 'iiit-g', 'offers', 'mtech', 'cse', 'program', '2', 'modes', '-', 'on-campus', 'mode', ':', 'regular', 'm.tech', '.', 'cse', 'program', 'students', 'need', 'visit', 'campus', 'classes', 'conducted', 'physical', 'classrooms', '.', 'details', ',', 'visit', 'link', '.', 'online', 'mode', ':', 'classes', 'held', 'mainly', 'online', 'mode', 'learning', 'management', 'system', 'portal', '.', 'programme', 'designed', 'students', 'different', 'academic', 'backgrounds', 'elective', 'options', 'supplement', 'core', 'cs', 'courses', '.', 'details', ',', 'visit', 'link', '.', 'year', ',', 'applied', 'mtech', 'program', 'computer', 'science', 'engineering', 'ay', '2021-22', '.', 'application', 'fee', '.', 'candidates', 'appear', 'online', 'interview', '.', 'iiit', 'guwahati', 'interview', 'first', ',', 'intim', '<', '/div', '>', '<', \"class='snippet-fade\", 'r-snippet-fade', 'hidden', \"'\", \"href='https\", ':', '//gate2cse.blogspot.com/2021/07/mtech-cse-interview-experience-at-iiit.html', \"'\", '>', '<', '/a', '>', '<', '/div', '>', '<', '/div', '>', '<', 'div', \"class='post-bottom\", \"'\", '>', '<', 'div', \"class='post-footer\", \"'\", '>', '<', 'div', \"class='post-footer-line\", 'post-footer-line-0', \"'\", '>', '<', 'div', \"class='byline\", 'post-share-buttons', 'goog-inline-block', \"'\", '>', '<', 'div', \"aria-owns='sharing-popup-blog1-footer-0-7296436610010115162\", \"'\", \"class='sharing\", \"'\", \"data-title='m.tech\", '.', 'cse', 'interview', 'experience', 'iiit', 'guwahati', \"'\", '>', '<', 'button', \"aria-controls='sharing-popup-blog1-footer-0-7296436610010115162\", \"'\", \"aria-label='share\", \"'\", \"class='sharing-button\", 'touch-icon-button', 'flat-button', 'ripple', \"'\", \"id='sharing-button-blog1-footer-0-7296436610010115162\", \"'\", \"role='button\", \"'\", '>', 'share', '<', '/button', '>', '<', 'div', \"class='share-buttons-container\", \"'\", '>', '<', 'ul', \"aria-hidden='true\", \"'\", \"aria-label='share\", \"'\", \"class='share-buttons\", 'hidden', \"'\", \"id='sharing-popup-blog1-footer-0-7296436610010115162\", \"'\", \"role='menu\", \"'\", '>', '<', 'li', '>', '<', 'span', \"aria-label='get\", 'link', \"'\", \"class='sharing-platform-button\", 'sharing-element-link', \"'\", \"data-href='https\", ':', '//www.blogger.com/share-post.g', '?', 'blogid=7143236966222162812', '&', 'postid=7296436610010115162', '&', 'target=', \"'\", \"data-url='https\", ':', '//gate2cse.blogspot.com/2021/07/mtech-cse-interview-experience-at-iiit.html', \"'\", \"role='menuitem\", \"'\", \"tabindex='-1\", \"'\", \"title='get\", 'link', \"'\", '>', '<', 'svg', \"class='svg-icon-24\", 'touch-icon', 'sharing-link', \"'\", '>', '<', 'use', 'xlink', ':', \"href='/responsive/sprite_v1_6.css.svg\", '#', 'ic_24_link_dark', \"'\", 'xmlns', ':', \"xlink='http\", ':', '//www.w3.org/1999/xlink', \"'\", '>', '<', '/use', '>', '<', '/svg', '>', '<', 'span', \"class='platform-sharing-text\", \"'\", '>', 'get', 'link', '<', '/span', '>', '<', '/span', '>', '<', '/li', '>', '<', 'li', '>', '<', 'span', \"aria-label='share\", 'facebook', \"'\", \"class='sharing-platform-button\", 'sharing-element-facebook', \"'\", \"data-href='https\", ':', '//www.blogger.com/share-post.g', '?', 'blogid=7143236966222162812', '&', 'postid=7296436610010115162', '&', 'target=facebook', \"'\", \"data-url='https\", ':', '//gate2cse.blogspot.com/2021/07/mtech-cse-interview-experience-at-iiit.html', \"'\", \"role='menuitem\", \"'\", \"tabindex='-1\", \"'\", \"title='share\", 'facebook', \"'\", '>', '<', 'svg', \"class='svg-icon-24\", 'touch-icon', 'sharing-facebook', \"'\", '>', '<', 'use', 'xlink', ':', \"href='/responsive/sprite_v1_6.css.svg\", '#', 'ic_24_facebook_dark', \"'\", 'xmlns', ':', \"xlink='http\", ':', '//www.w3.org/1999/xlink', \"'\", '>', '<', '/use', '>', '<', '/svg', '>', '<', 'span', \"class='platform-sharing-text\", \"'\", '>', 'facebook', '<', '/span', '>', '<', '/span', '>', '<', '/li', '>', '<', 'li', '>', '<', 'span', \"aria-label='share\", 'twitter', \"'\", \"class='sharing-platform-button\", 'sharing-element-twitter', \"'\", \"data-href='https\", ':', '//www.blogger.com/share-post.g', '?', 'blogid=7143236966222162812', '&', 'postid=7296436610010115162', '&', 'target=twitter', \"'\", \"data-url='https\", ':', '//gate2cse.blogspot.com/2021/07/mtech-cse-interview-experience-at-iiit.html', \"'\", \"role='menuitem\", \"'\", \"tabindex='-1\", \"'\", \"title='share\", 'twitter', \"'\", '>', '<', 'svg', \"class='svg-icon-24\", 'touch-icon', 'sharing-twitter', \"'\", '>', '<', 'use', 'xlink', ':', \"href='/responsive/sprite_v1_6.css.svg\", '#', 'ic_24_twitter_dark', \"'\", 'xmlns', ':', \"xlink='http\", ':', '//www.w3.org/1999/xlink', \"'\", '>', '<', '/use', '>', '<', '/svg', '>', '<', 'span', \"class='platform-sharing-text\", \"'\", '>', 'twitter', '<', '/span', '>', '<', '/span', '>', '<', '/li', '>', '<', 'li', '>', '<', 'span', \"aria-label='share\", 'pinterest', \"'\", \"class='sharing-platform-button\", 'sharing-element-pinterest', \"'\", \"data-href='https\", ':', '//www.blogger.com/share-post.g', '?', 'blogid=7143236966222162812', '&', 'postid=7296436610010115162', '&', 'target=pinterest', \"'\", \"data-url='https\", ':', '//gate2cse.blogspot.com/2021/07/mtech-cse-interview-experience-at-iiit.html', \"'\", \"role='menuitem\", \"'\", \"tabindex='-1\", \"'\", \"title='share\", 'pinterest', \"'\", '>', '<', 'svg', \"class='svg-icon-24\", 'touch-icon', 'sharing-pinterest', \"'\", '>', '<', 'use', 'xlink', ':', \"href='/responsive/sprite_v1_6.css.svg\", '#', 'ic_24_pinterest_dark', \"'\", 'xmlns', ':', \"xlink='http\", ':', '//www.w3.org/1999/xlink', \"'\", '>', '<', '/use', '>', '<', '/svg', '>', '<', 'span', \"class='platform-sharing-text\", \"'\", '>', 'pinterest', '<', '/span', '>', '<', '/span', '>', '<', '/li', '>', '<', 'li', '>', '<', 'span', \"aria-label='email\", \"'\", \"class='sharing-platform-button\", 'sharing-element-email', \"'\", \"data-href='https\", ':', '//www.blogger.com/share-post.g', '?', 'blogid=7143236966222162812', '&', 'postid=7296436610010115162', '&', 'target=email', \"'\", \"data-url='https\", ':', '//gate2cse.blogspot.com/2021/07/mtech-cse-interview-experience-at-iiit.html', \"'\", \"role='menuitem\", \"'\", \"tabindex='-1\", \"'\", \"title='email\", \"'\", '>', '<', 'svg', \"class='svg-icon-24\", 'touch-icon', 'sharing-email', \"'\", '>', '<', 'use', 'xlink', ':', \"href='/responsive/sprite_v1_6.css.svg\", '#', 'ic_24_email_dark', \"'\", 'xmlns', ':', \"xlink='http\", ':', '//www.w3.org/1999/xlink', \"'\", '>', '<', '/use', '>', '<', '/svg', '>', '<', 'span', \"class='platform-sharing-text\", \"'\", '>', 'email', '<', '/span', '>', '<', '/span', '>', '<', '/li', '>', '<', 'li', \"aria-hidden='true\", \"'\", \"class='hidden\", \"'\", '>', '<', 'span', \"aria-label='share\", 'apps', \"'\", \"class='sharing-platform-button\", 'sharing-element-other', \"'\", \"data-url='https\", ':', '//gate2cse.blogspot.com/2021/07/mtech-cse-interview-experience-at-iiit.html', \"'\", \"role='menuitem\", \"'\", \"tabindex='-1\", \"'\", \"title='share\", 'apps', \"'\", '>', '<', 'svg', \"class='svg-icon-24\", 'touch-icon', 'sharing-sharingother', \"'\", '>', '<', 'use', 'xlink', ':', \"href='/responsive/sprite_v1_6.css.svg\", '#', 'ic_more_horiz_black_24dp', \"'\", 'xmlns', ':', \"xlink='http\", ':', '//www.w3.org/1999/xlink', \"'\", '>', '<', '/use', '>', '<', '/svg', '>', '<', 'span', \"class='platform-sharing-text\", \"'\", '>', 'apps', '<', '/span', '>', '<', '/span', '>', '<', '/li', '>', '<', '/ul', '>', '<', '/div', '>', '<', '/div', '>', '<', '/div', '>', '<', 'span', \"class='byline\", 'post-comment-link', 'container', \"'\", '>', '<', \"class='comment-link\", 'flat-button', 'ripple', \"'\", \"href='https\", ':', '//gate2cse.blogspot.com/2021/07/mtech-cse-interview-experience-at-iiit.html', '#', 'comments', \"'\", 'onclick=', \"''\", '>', 'post', 'comment', '<', '/a', '>', '<', '/span', '>', '<', '/div', '>', '<', '/div', '>', '<', 'div', \"class='byline\", 'jump-link', \"'\", '>', '<', \"class='flat-button\", 'ripple', \"'\", \"href='https\", ':', '//gate2cse.blogspot.com/2021/07/mtech-cse-interview-experience-at-iiit.html', \"'\", \"title='m.tech\", '.', 'cse', 'interview', 'experience', 'iiit', 'guwahati', \"'\", '>', 'read', '<', '/a', '>', '<', '/div', '>', '<', '/div', '>', '<', '/div', '>', '<', '/div', '>', '<', '/article', '>', '<', 'article', \"class='post-outer-container\", \"'\", '>', '<', 'div', \"class='post-outer\", \"'\", '>', '<', \"class='snippet-thumbnail\", \"'\", \"href='https\", ':', '//gate2cse.blogspot.com/2021/07/tezpur-university-invites-mtech.html', \"'\", '>', '<', 'span', \"class='snippet-thumbnail-img\", \"'\", \"id='snippet_thumbnail_id_7424636713978551872\", \"'\", '>', '<', '/span', '>', '<', 'style', '>', '@', 'media', '(', 'min-width', ':', '1168px', ')', '{', '#', 'snippet_thumbnail_id_7424636713978551872', '{', 'background-image', ':', 'url', '(', 'https\\\\', ':', '\\\\/\\\\/1.bp.blogspot.com\\\\/-zyvjkaucyrc\\\\/ypd7p2dfgmi\\\\/aaaaaaabhvm\\\\/x0lgu-7rowifgedwdipmyf1_zw19af43gclcbgasyhq\\\\/w256-h256-p-k-no-nu\\\\/tezpur', '%', '2buniv.jpg', ')', ';', '}', '}', '@', 'media', '(', 'min-width', ':', '969px', ')', '(', 'max-width', ':', '1167px', ')', '{', '#', 'snippet_thumbnail_id_7424636713978551872', '{', 'background-image', ':', 'url', '(', 'https\\\\', ':', '\\\\/\\\\/1.bp.blogspot.com\\\\/-zyvjkaucyrc\\\\/ypd7p2dfgmi\\\\/aaaaaaabhvm\\\\/x0lgu-7rowifgedwdipmyf1_zw19af43gclcbgasyhq\\\\/w1167-h778-p-k-no-nu\\\\/tezpur', '%', '2buniv.jpg', ')', ';', '}', '}', '@', 'media', '(', 'min-width', ':', '601px', ')', '(', 'max-width', ':', '968px', ')', '{', '#', 'snippet_thumbnail_id_7424636713978551872', '{', 'background-image', ':', 'url', '(', 'https\\\\', ':', '\\\\/\\\\/1.bp.blogspot.com\\\\/-zyvjkaucyrc\\\\/ypd7p2dfgmi\\\\/aaaaaaabhvm\\\\/x0lgu-7rowifgedwdipmyf1_zw19af43gclcbgasyhq\\\\/w968-h645-p-k-no-nu\\\\/tezpur', '%', '2buniv.jpg', ')', ';', '}', '}', '@', 'media', '(', 'max-width', ':', '600px', ')', '{', '#', 'snippet_thumbnail_id_7424636713978551872', '{', 'background-image', ':', 'url', '(', 'https\\\\', ':', '\\\\/\\\\/1.bp.blogspot.com\\\\/-zyvjkaucyrc\\\\/ypd7p2dfgmi\\\\/aaaaaaabhvm\\\\/x0lgu-7rowifgedwdipmyf1_zw19af43gclcbgasyhq\\\\/w600-h400-p-k-no-nu\\\\/tezpur', '%', '2buniv.jpg', ')', ';', '}', '}', '<', '/style', '>', '<', '/a', '>', '<', 'div', \"class='post-content\", 'container', \"'\", '>', '<', 'div', \"class='post-title-container\", \"'\", '>', '<', \"name='7424636713978551872\", \"'\", '>', '<', '/a', '>', '<', 'h3', \"class='post-title\", 'entry-title', \"'\", '>', '<', \"href='https\", ':', '//gate2cse.blogspot.com/2021/07/tezpur-university-invites-mtech.html', \"'\", '>', 'tezpur', 'university', 'invites', 'm.tech', '.', 'application', '2021-22', '(', 'gate/non-gate', ')', '<', '/a', '>', '<', '/h3', '>', '<', '/div', '>', '<', 'div', \"class='post-header-container\", 'container', \"'\", '>', '<', 'div', \"class='post-header\", \"'\", '>', '<', 'div', \"class='post-header-line-1\", \"'\", '>', '<', 'span', \"class='byline\", 'post-timestamp', \"'\", '>', '<', 'meta', \"content='https\", ':', \"//gate2cse.blogspot.com/2021/07/tezpur-university-invites-mtech.html'/\", '>', '<', \"class='timestamp-link\", \"'\", \"href='https\", ':', '//gate2cse.blogspot.com/2021/07/tezpur-university-invites-mtech.html', \"'\", \"rel='bookmark\", \"'\", \"title='permanent\", 'link', \"'\", '>', '<', 'time', \"class='published\", \"'\", \"datetime='2021-07-15t21:06:00-07:00\", \"'\", \"title='2021-07-15t21:06:00-07:00\", \"'\", '>', 'july', '15', ',', '2021', '<', '/time', '>', '<', '/a', '>', '<', '/span', '>', '<', '/div', '>', '<', '/div', '>', '<', '/div', '>', '<', 'div', \"class='container\", 'post-body', 'entry-content', \"'\", \"id='post-snippet-7424636713978551872\", \"'\", '>', '<', 'div', \"class='post-snippet\", 'snippet-container', 'r-snippet-container', \"'\", '>', '<', 'div', \"class='snippet-item\", 'r-snippetized', \"'\", '>', 'tezpur', 'university', 'central', 'university', 'located', 'city', 'tezpur', 'north', 'eastern', 'state', 'assam', '.', 'tu', 'started', 'b.tech.', ',', 'm.tech', '.', 'ph.d', '.', 'admission', 'process', 'various', 'disciplines', 'school', 'engineering', '.', 'discussion', 'kept', 'limited', 'admission', 'm.tech', '.', 'department', 'computer', 'science', 'engineering', '.', '<', '/div', '>', '<', \"class='snippet-fade\", 'r-snippet-fade', 'hidden', \"'\", \"href='https\", ':', '//gate2cse.blogspot.com/2021/07/tezpur-university-invites-mtech.html', \"'\", '>', '<', '/a', '>', '<', '/div', '>', '<', '/div', '>', '<', 'div', \"class='post-bottom\", \"'\", '>', '<', 'div', \"class='post-footer\", \"'\", '>', '<', 'div', \"class='post-footer-line\", 'post-footer-line-0', \"'\", '>', '<', 'div', \"class='byline\", 'post-share-buttons', 'goog-inline-block', \"'\", '>', '<', 'div', \"aria-owns='sharing-popup-blog1-footer-0-7424636713978551872\", \"'\", \"class='sharing\", \"'\", \"data-title='tezpur\", 'university', 'invites', 'm.tech', '.', 'application', '2021-22', '(', 'gate/non-gate', ')', \"'\", '>', '<', 'button', \"aria-controls='sharing-popup-blog1-footer-0-7424636713978551872\", \"'\", \"aria-label='share\", \"'\", \"class='sharing-button\", 'touch-icon-button', 'flat-button', 'ripple', \"'\", \"id='sharing-button-blog1-footer-0-7424636713978551872\", \"'\", \"role='button\", \"'\", '>', 'share', '<', '/button', '>', '<', 'div', \"class='share-buttons-container\", \"'\", '>', '<', 'ul', \"aria-hidden='true\", \"'\", \"aria-label='share\", \"'\", \"class='share-buttons\", 'hidden', \"'\", \"id='sharing-popup-blog1-footer-0-7424636713978551872\", \"'\", \"role='menu\", \"'\", '>', '<', 'li', '>', '<', 'span', \"aria-label='get\", 'link', \"'\", \"class='sharing-platform-button\", 'sharing-element-link', \"'\", \"data-href='https\", ':', '//www.blogger.com/share-post.g', '?', 'blogid=7143236966222162812', '&', 'postid=7424636713978551872', '&', 'target=', \"'\", \"data-url='https\", ':', '//gate2cse.blogspot.com/2021/07/tezpur-university-invites-mtech.html', \"'\", \"role='menuitem\", \"'\", \"tabindex='-1\", \"'\", \"title='get\", 'link', \"'\", '>', '<', 'svg', \"class='svg-icon-24\", 'touch-icon', 'sharing-link', \"'\", '>', '<', 'use', 'xlink', ':', \"href='/responsive/sprite_v1_6.css.svg\", '#', 'ic_24_link_dark', \"'\", 'xmlns', ':', \"xlink='http\", ':', '//www.w3.org/1999/xlink', \"'\", '>', '<', '/use', '>', '<', '/svg', '>', '<', 'span', \"class='platform-sharing-text\", \"'\", '>', 'get', 'link', '<', '/span', '>', '<', '/span', '>', '<', '/li', '>', '<', 'li', '>', '<', 'span', \"aria-label='share\", 'facebook', \"'\", \"class='sharing-platform-button\", 'sharing-element-facebook', \"'\", \"data-href='https\", ':', '//www.blogger.com/share-post.g', '?', 'blogid=7143236966222162812', '&', 'postid=7424636713978551872', '&', 'target=facebook', \"'\", \"data-url='https\", ':', '//gate2cse.blogspot.com/2021/07/tezpur-university-invites-mtech.html', \"'\", \"role='menuitem\", \"'\", \"tabindex='-1\", \"'\", \"title='share\", 'facebook', \"'\", '>', '<', 'svg', \"class='svg-icon-24\", 'touch-icon', 'sharing-facebook', \"'\", '>', '<', 'use', 'xlink', ':', \"href='/responsive/sprite_v1_6.css.svg\", '#', 'ic_24_facebook_dark', \"'\", 'xmlns', ':', \"xlink='http\", ':', '//www.w3.org/1999/xlink', \"'\", '>', '<', '/use', '>', '<', '/svg', '>', '<', 'span', \"class='platform-sharing-text\", \"'\", '>', 'facebook', '<', '/span', '>', '<', '/span', '>', '<', '/li', '>', '<', 'li', '>', '<', 'span', \"aria-label='share\", 'twitter', \"'\", \"class='sharing-platform-button\", 'sharing-element-twitter', \"'\", \"data-href='https\", ':', '//www.blogger.com/share-post.g', '?', 'blogid=7143236966222162812', '&', 'postid=7424636713978551872', '&', 'target=twitter', \"'\", \"data-url='https\", ':', '//gate2cse.blogspot.com/2021/07/tezpur-university-invites-mtech.html', \"'\", \"role='menuitem\", \"'\", \"tabindex='-1\", \"'\", \"title='share\", 'twitter', \"'\", '>', '<', 'svg', \"class='svg-icon-24\", 'touch-icon', 'sharing-twitter', \"'\", '>', '<', 'use', 'xlink', ':', \"href='/responsive/sprite_v1_6.css.svg\", '#', 'ic_24_twitter_dark', \"'\", 'xmlns', ':', \"xlink='http\", ':', '//www.w3.org/1999/xlink', \"'\", '>', '<', '/use', '>', '<', '/svg', '>', '<', 'span', \"class='platform-sharing-text\", \"'\", '>', 'twitter', '<', '/span', '>', '<', '/span', '>', '<', '/li', '>', '<', 'li', '>', '<', 'span', \"aria-label='share\", 'pinterest', \"'\", \"class='sharing-platform-button\", 'sharing-element-pinterest', \"'\", \"data-href='https\", ':', '//www.blogger.com/share-post.g', '?', 'blogid=7143236966222162812', '&', 'postid=7424636713978551872', '&', 'target=pinterest', \"'\", \"data-url='https\", ':', '//gate2cse.blogspot.com/2021/07/tezpur-university-invites-mtech.html', \"'\", \"role='menuitem\", \"'\", \"tabindex='-1\", \"'\", \"title='share\", 'pinterest', \"'\", '>', '<', 'svg', \"class='svg-icon-24\", 'touch-icon', 'sharing-pinterest', \"'\", '>', '<', 'use', 'xlink', ':', \"href='/responsive/sprite_v1_6.css.svg\", '#', 'ic_24_pinterest_dark', \"'\", 'xmlns', ':', \"xlink='http\", ':', '//www.w3.org/1999/xlink', \"'\", '>', '<', '/use', '>', '<', '/svg', '>', '<', 'span', \"class='platform-sharing-text\", \"'\", '>', 'pinterest', '<', '/span', '>', '<', '/span', '>', '<', '/li', '>', '<', 'li', '>', '<', 'span', \"aria-label='email\", \"'\", \"class='sharing-platform-button\", 'sharing-element-email', \"'\", \"data-href='https\", ':', '//www.blogger.com/share-post.g', '?', 'blogid=7143236966222162812', '&', 'postid=7424636713978551872', '&', 'target=email', \"'\", \"data-url='https\", ':', '//gate2cse.blogspot.com/2021/07/tezpur-university-invites-mtech.html', \"'\", \"role='menuitem\", \"'\", \"tabindex='-1\", \"'\", \"title='email\", \"'\", '>', '<', 'svg', \"class='svg-icon-24\", 'touch-icon', 'sharing-email', \"'\", '>', '<', 'use', 'xlink', ':', \"href='/responsive/sprite_v1_6.css.svg\", '#', 'ic_24_email_dark', \"'\", 'xmlns', ':', \"xlink='http\", ':', '//www.w3.org/1999/xlink', \"'\", '>', '<', '/use', '>', '<', '/svg', '>', '<', 'span', \"class='platform-sharing-text\", \"'\", '>', 'email', '<', '/span', '>', '<', '/span', '>', '<', '/li', '>', '<', 'li', \"aria-hidden='true\", \"'\", \"class='hidden\", \"'\", '>', '<', 'span', \"aria-label='share\", 'apps', \"'\", \"class='sharing-platform-button\", 'sharing-element-other', \"'\", \"data-url='https\", ':', '//gate2cse.blogspot.com/2021/07/tezpur-university-invites-mtech.html', \"'\", \"role='menuitem\", \"'\", \"tabindex='-1\", \"'\", \"title='share\", 'apps', \"'\", '>', '<', 'svg', \"class='svg-icon-24\", 'touch-icon', 'sharing-sharingother', \"'\", '>', '<', 'use', 'xlink', ':', \"href='/responsive/sprite_v1_6.css.svg\", '#', 'ic_more_horiz_black_24dp', \"'\", 'xmlns', ':', \"xlink='http\", ':', '//www.w3.org/1999/xlink', \"'\", '>', '<', '/use', '>', '<', '/svg', '>', '<', 'span', \"class='platform-sharing-text\", \"'\", '>', 'apps', '<', '/span', '>', '<', '/span', '>', '<', '/li', '>', '<', '/ul', '>', '<', '/div', '>', '<', '/div', '>', '<', '/div', '>', '<', 'span', \"class='byline\", 'post-comment-link', 'container', \"'\", '>', '<', \"class='comment-link\", 'flat-button', 'ripple', \"'\", \"href='https\", ':', '//gate2cse.blogspot.com/2021/07/tezpur-university-invites-mtech.html', '#', 'comments', \"'\", 'onclick=', \"''\", '>', 'post', 'comment', '<', '/a', '>', '<', '/span', '>', '<', '/div', '>', '<', '/div', '>', '<', 'div', \"class='byline\", 'jump-link', \"'\", '>', '<', \"class='flat-button\", 'ripple', \"'\", \"href='https\", ':', '//gate2cse.blogspot.com/2021/07/tezpur-university-invites-mtech.html', '#', \"'\", \"title='tezpur\", 'university', 'invites', 'm.tech', '.', 'application', '2021-22', '(', 'gate/non-gate', ')', \"'\", '>', 'read', '<', '/a', '>', '<', '/div', '>', '<', '/div', '>', '<', '/div', '>', '<', '/div', '>', '<', '/article', '>', '<', 'article', \"class='post-outer-container\", \"'\", '>', '<', 'div', \"class='post-outer\", \"'\", '>', '<', \"class='snippet-thumbnail\", \"'\", \"href='https\", ':', '//gate2cse.blogspot.com/2021/07/nit-warangal-invites-mtech-cse.html', \"'\", '>', '<', 'span', \"class='snippet-thumbnail-img\", \"'\", \"id='snippet_thumbnail_id_5968326335652653551\", \"'\", '>', '<', '/span', '>', '<', 'style', '>', '@', 'media', '(', 'min-width', ':', '1168px', ')', '{', '#', 'snippet_thumbnail_id_5968326335652653551', '{', 'background-image', ':', 'url', '(', 'https\\\\', ':', '\\\\/\\\\/1.bp.blogspot.com\\\\/-rftgs8qluwi\\\\/you34awoubi\\\\/aaaaaaabg7e\\\\/spxipt3brtm4m3gg0o31kdzrwjdlqeq9qclcbgasyhq\\\\/w256-h256-p-k-no-nu\\\\/nitw.jpg', ')', ';', '}', '}', '@', 'media', '(', 'min-width', ':', '969px', ')', '(', 'max-width', ':', '1167px', ')', '{', '#', 'snippet_thumbnail_id_5968326335652653551', '{', 'background-image', ':', 'url', '(', 'https\\\\', ':', '\\\\/\\\\/1.bp.blogspot.com\\\\/-rftgs8qluwi\\\\/you34awoubi\\\\/aaaaaaabg7e\\\\/spxipt3brtm4m3gg0o31kdzrwjdlqeq9qclcbgasyhq\\\\/w1167-h778-p-k-no-nu\\\\/nitw.jpg', ')', ';', '}', '}', '@', 'media', '(', 'min-width', ':', '601px', ')', '(', 'max-width', ':', '968px', ')', '{', '#', 'snippet_thumbnail_id_5968326335652653551', '{', 'background-image', ':', 'url', '(', 'https\\\\', ':', '\\\\/\\\\/1.bp.blogspot.com\\\\/-rftgs8qluwi\\\\/you34awoubi\\\\/aaaaaaabg7e\\\\/spxipt3brtm4m3gg0o31kdzrwjdlqeq9qclcbgasyhq\\\\/w968-h645-p-k-no-nu\\\\/nitw.jpg', ')', ';', '}', '}', '@', 'media', '(', 'max-width', ':', '600px', ')', '{', '#', 'snippet_thumbnail_id_5968326335652653551', '{', 'background-image', ':', 'url', '(', 'https\\\\', ':', '\\\\/\\\\/1.bp.blogspot.com\\\\/-rftgs8qluwi\\\\/you34awoubi\\\\/aaaaaaabg7e\\\\/spxipt3brtm4m3gg0o31kdzrwjdlqeq9qclcbgasyhq\\\\/w600-h400-p-k-no-nu\\\\/nitw.jpg', ')', ';', '}', '}', '<', '/style', '>', '<', '/a', '>', '<', 'div', \"class='post-content\", 'container', \"'\", '>', '<', 'div', \"class='post-title-container\", \"'\", '>', '<', \"name='5968326335652653551\", \"'\", '>', '<', '/a', '>', '<', 'h3', \"class='post-title\", 'entry-title', \"'\", '>', '<', \"href='https\", ':', '//gate2cse.blogspot.com/2021/07/nit-warangal-invites-mtech-cse.html', \"'\", '>', 'nit', 'warangal', 'invites', 'm.tech', '.', 'cse', 'application', '(', 'self-sponsored', ')', '<', '/a', '>', '<', '/h3', '>', '<', '/div', '>', '<', 'div', \"class='post-header-container\", 'container', \"'\", '>', '<', 'div', \"class='post-header\", \"'\", '>', '<', 'div', \"class='post-header-line-1\", \"'\", '>', '<', 'span', \"class='byline\", 'post-timestamp', \"'\", '>', '<', 'meta', \"content='https\", ':', \"//gate2cse.blogspot.com/2021/07/nit-warangal-invites-mtech-cse.html'/\", '>', '<', \"class='timestamp-link\", \"'\", \"href='https\", ':', '//gate2cse.blogspot.com/2021/07/nit-warangal-invites-mtech-cse.html', \"'\", \"rel='bookmark\", \"'\", \"title='permanent\", 'link', \"'\", '>', '<', 'time', \"class='published\", \"'\", \"datetime='2021-07-06t22:48:00-07:00\", \"'\", \"title='2021-07-06t22:48:00-07:00\", \"'\", '>', 'july', '06', ',', '2021', '<', '/time', '>', '<', '/a', '>', '<', '/span', '>', '<', '/div', '>', '<', '/div', '>', '<', '/div', '>', '<', 'div', \"class='container\", 'post-body', 'entry-content', \"'\", \"id='post-snippet-5968326335652653551\", \"'\", '>', '<', 'div', \"class='post-snippet\", 'snippet-container', 'r-snippet-container', \"'\", '>', '<', 'div', \"class='snippet-item\", 'r-snippetized', \"'\", '>', 'national', 'institute', 'technology', 'warangal', '(', 'nit-w', ')', 'one', '31', 'nits', 'located', 'across', 'india', '.', 'founded', '1959', 'regional', 'engineering', 'college', '(', 'rec', ')', 'warangal', ',', 'one', '15', 'recs', 'country', '.', 'later', '2002', ',', 'also', 'renamed', 'nit-w', ',', 'made', 'become', 'first', 'rec', 'converted', 'nit', '.', 'time', ',', 'given', 'status', 'deemed', 'university', '.', 'later', '2007', ',', 'nit-w', 'recognised', 'institute', 'national', 'importance', '(', 'ini', ')', '.', 'nit', 'warangal', 'm.tech', '.', 'cse', '(', 'self-sponsored', ')', 'program', 'offered', 'department', 'computer', 'science', 'engineering', ',', 'nit-w', '.', 'specialization', 'program', 'computer', 'science', 'information', 'security', ',', 'offered', 'self-sponsored', 'admission', 'category', '.', 'students', 'admitted', 'full-time', 'basis', '.', 'find', 'details', '.', 'link', 'information', 'brochure', ':', 'link-1', ',', 'working', 'link-2', '.', 'eligibilty', 'candidates', 'must', 'b.e./b.tech', '.', 'equivalent', 'degree', 'computer', 'science', 'engineering', '.', 'candidates', 'must', 'obtained', '<', '/div', '>', '<', \"class='snippet-fade\", 'r-snippet-fade', 'hidden', \"'\", \"href='https\", ':', '//gate2cse.blogspot.com/2021/07/nit-warangal-invites-mtech-cse.html', \"'\", '>', '<', '/a', '>', '<', '/div', '>', '<', '/div', '>', '<', 'div', \"class='post-bottom\", \"'\", '>', '<', 'div', \"class='post-footer\", \"'\", '>', '<', 'div', \"class='post-footer-line\", 'post-footer-line-0', \"'\", '>', '<', 'div', \"class='byline\", 'post-share-buttons', 'goog-inline-block', \"'\", '>', '<', 'div', \"aria-owns='sharing-popup-blog1-footer-0-5968326335652653551\", \"'\", \"class='sharing\", \"'\", \"data-title='nit\", 'warangal', 'invites', 'm.tech', '.', 'cse', 'application', '(', 'self-sponsored', ')', \"'\", '>', '<', 'button', \"aria-controls='sharing-popup-blog1-footer-0-5968326335652653551\", \"'\", \"aria-label='share\", \"'\", \"class='sharing-button\", 'touch-icon-button', 'flat-button', 'ripple', \"'\", \"id='sharing-button-blog1-footer-0-5968326335652653551\", \"'\", \"role='button\", \"'\", '>', 'share', '<', '/button', '>', '<', 'div', \"class='share-buttons-container\", \"'\", '>', '<', 'ul', \"aria-hidden='true\", \"'\", \"aria-label='share\", \"'\", \"class='share-buttons\", 'hidden', \"'\", \"id='sharing-popup-blog1-footer-0-5968326335652653551\", \"'\", \"role='menu\", \"'\", '>', '<', 'li', '>', '<', 'span', \"aria-label='get\", 'link', \"'\", \"class='sharing-platform-button\", 'sharing-element-link', \"'\", \"data-href='https\", ':', '//www.blogger.com/share-post.g', '?', 'blogid=7143236966222162812', '&', 'postid=5968326335652653551', '&', 'target=', \"'\", \"data-url='https\", ':', '//gate2cse.blogspot.com/2021/07/nit-warangal-invites-mtech-cse.html', \"'\", \"role='menuitem\", \"'\", \"tabindex='-1\", \"'\", \"title='get\", 'link', \"'\", '>', '<', 'svg', \"class='svg-icon-24\", 'touch-icon', 'sharing-link', \"'\", '>', '<', 'use', 'xlink', ':', \"href='/responsive/sprite_v1_6.css.svg\", '#', 'ic_24_link_dark', \"'\", 'xmlns', ':', \"xlink='http\", ':', '//www.w3.org/1999/xlink', \"'\", '>', '<', '/use', '>', '<', '/svg', '>', '<', 'span', \"class='platform-sharing-text\", \"'\", '>', 'get', 'link', '<', '/span', '>', '<', '/span', '>', '<', '/li', '>', '<', 'li', '>', '<', 'span', \"aria-label='share\", 'facebook', \"'\", \"class='sharing-platform-button\", 'sharing-element-facebook', \"'\", \"data-href='https\", ':', '//www.blogger.com/share-post.g', '?', 'blogid=7143236966222162812', '&', 'postid=5968326335652653551', '&', 'target=facebook', \"'\", \"data-url='https\", ':', '//gate2cse.blogspot.com/2021/07/nit-warangal-invites-mtech-cse.html', \"'\", \"role='menuitem\", \"'\", \"tabindex='-1\", \"'\", \"title='share\", 'facebook', \"'\", '>', '<', 'svg', \"class='svg-icon-24\", 'touch-icon', 'sharing-facebook', \"'\", '>', '<', 'use', 'xlink', ':', \"href='/responsive/sprite_v1_6.css.svg\", '#', 'ic_24_facebook_dark', \"'\", 'xmlns', ':', \"xlink='http\", ':', '//www.w3.org/1999/xlink', \"'\", '>', '<', '/use', '>', '<', '/svg', '>', '<', 'span', \"class='platform-sharing-text\", \"'\", '>', 'facebook', '<', '/span', '>', '<', '/span', '>', '<', '/li', '>', '<', 'li', '>', '<', 'span', \"aria-label='share\", 'twitter', \"'\", \"class='sharing-platform-button\", 'sharing-element-twitter', \"'\", \"data-href='https\", ':', '//www.blogger.com/share-post.g', '?', 'blogid=7143236966222162812', '&', 'postid=5968326335652653551', '&', 'target=twitter', \"'\", \"data-url='https\", ':', '//gate2cse.blogspot.com/2021/07/nit-warangal-invites-mtech-cse.html', \"'\", \"role='menuitem\", \"'\", \"tabindex='-1\", \"'\", \"title='share\", 'twitter', \"'\", '>', '<', 'svg', \"class='svg-icon-24\", 'touch-icon', 'sharing-twitter', \"'\", '>', '<', 'use', 'xlink', ':', \"href='/responsive/sprite_v1_6.css.svg\", '#', 'ic_24_twitter_dark', \"'\", 'xmlns', ':', \"xlink='http\", ':', '//www.w3.org/1999/xlink', \"'\", '>', '<', '/use', '>', '<', '/svg', '>', '<', 'span', \"class='platform-sharing-text\", \"'\", '>', 'twitter', '<', '/span', '>', '<', '/span', '>', '<', '/li', '>', '<', 'li', '>', '<', 'span', \"aria-label='share\", 'pinterest', \"'\", \"class='sharing-platform-button\", 'sharing-element-pinterest', \"'\", \"data-href='https\", ':', '//www.blogger.com/share-post.g', '?', 'blogid=7143236966222162812', '&', 'postid=5968326335652653551', '&', 'target=pinterest', \"'\", \"data-url='https\", ':', '//gate2cse.blogspot.com/2021/07/nit-warangal-invites-mtech-cse.html', \"'\", \"role='menuitem\", \"'\", \"tabindex='-1\", \"'\", \"title='share\", 'pinterest', \"'\", '>', '<', 'svg', \"class='svg-icon-24\", 'touch-icon', 'sharing-pinterest', \"'\", '>', '<', 'use', 'xlink', ':', \"href='/responsive/sprite_v1_6.css.svg\", '#', 'ic_24_pinterest_dark', \"'\", 'xmlns', ':', \"xlink='http\", ':', '//www.w3.org/1999/xlink', \"'\", '>', '<', '/use', '>', '<', '/svg', '>', '<', 'span', \"class='platform-sharing-text\", \"'\", '>', 'pinterest', '<', '/span', '>', '<', '/span', '>', '<', '/li', '>', '<', 'li', '>', '<', 'span', \"aria-label='email\", \"'\", \"class='sharing-platform-button\", 'sharing-element-email', \"'\", \"data-href='https\", ':', '//www.blogger.com/share-post.g', '?', 'blogid=7143236966222162812', '&', 'postid=5968326335652653551', '&', 'target=email', \"'\", \"data-url='https\", ':', '//gate2cse.blogspot.com/2021/07/nit-warangal-invites-mtech-cse.html', \"'\", \"role='menuitem\", \"'\", \"tabindex='-1\", \"'\", \"title='email\", \"'\", '>', '<', 'svg', \"class='svg-icon-24\", 'touch-icon', 'sharing-email', \"'\", '>', '<', 'use', 'xlink', ':', \"href='/responsive/sprite_v1_6.css.svg\", '#', 'ic_24_email_dark', \"'\", 'xmlns', ':', \"xlink='http\", ':', '//www.w3.org/1999/xlink', \"'\", '>', '<', '/use', '>', '<', '/svg', '>', '<', 'span', \"class='platform-sharing-text\", \"'\", '>', 'email', '<', '/span', '>', '<', '/span', '>', '<', '/li', '>', '<', 'li', \"aria-hidden='true\", \"'\", \"class='hidden\", \"'\", '>', '<', 'span', \"aria-label='share\", 'apps', \"'\", \"class='sharing-platform-button\", 'sharing-element-other', \"'\", \"data-url='https\", ':', '//gate2cse.blogspot.com/2021/07/nit-warangal-invites-mtech-cse.html', \"'\", \"role='menuitem\", \"'\", \"tabindex='-1\", \"'\", \"title='share\", 'apps', \"'\", '>', '<', 'svg', \"class='svg-icon-24\", 'touch-icon', 'sharing-sharingother', \"'\", '>', '<', 'use', 'xlink', ':', \"href='/responsive/sprite_v1_6.css.svg\", '#', 'ic_more_horiz_black_24dp', \"'\", 'xmlns', ':', \"xlink='http\", ':', '//www.w3.org/1999/xlink', \"'\", '>', '<', '/use', '>', '<', '/svg', '>', '<', 'span', \"class='platform-sharing-text\", \"'\", '>', 'apps', '<', '/span', '>', '<', '/span', '>', '<', '/li', '>', '<', '/ul', '>', '<', '/div', '>', '<', '/div', '>', '<', '/div', '>', '<', 'span', \"class='byline\", 'post-comment-link', 'container', \"'\", '>', '<', \"class='comment-link\", 'flat-button', 'ripple', \"'\", \"href='https\", ':', '//gate2cse.blogspot.com/2021/07/nit-warangal-invites-mtech-cse.html', '#', 'comments', \"'\", 'onclick=', \"''\", '>', 'post', 'comment', '<', '/a', '>', '<', '/span', '>', '<', '/div', '>', '<', '/div', '>', '<', 'div', \"class='byline\", 'jump-link', \"'\", '>', '<', \"class='flat-button\", 'ripple', \"'\", \"href='https\", ':', '//gate2cse.blogspot.com/2021/07/nit-warangal-invites-mtech-cse.html', '#', \"'\", \"title='nit\", 'warangal', 'invites', 'm.tech', '.', 'cse', 'application', '(', 'self-sponsored', ')', \"'\", '>', 'read', '<', '/a', '>', '<', '/div', '>', '<', '/div', '>', '<', '/div', '>', '<', '/div', '>', '<', '/article', '>', '<', 'article', \"class='post-outer-container\", \"'\", '>', '<', 'div', \"class='post-outer\", \"'\", '>', '<', \"class='snippet-thumbnail\", \"'\", \"href='https\", ':', '//gate2cse.blogspot.com/2021/07/iiit-ranchi-mtech-dsai-cse-admissions.html', \"'\", '>', '<', 'span', \"class='snippet-thumbnail-img\", \"'\", \"id='snippet_thumbnail_id_6260314919429651029\", \"'\", '>', '<', '/span', '>', '<', 'style', '>', '@', 'media', '(', 'min-width', ':', '1168px', ')', '{', '#', 'snippet_thumbnail_id_6260314919429651029', '{', 'background-image', ':', 'url', '(', 'https\\\\', ':', '\\\\/\\\\/1.bp.blogspot.com\\\\/-ka5rnbl1-_u\\\\/ynsws0kbtii\\\\/aaaaaaabgce\\\\/cvisoagf57q_wzzjsborqoz_bwxilv57aclcbgasyhq\\\\/w256-h256-p-k-no-nu\\\\/iiit', '%', '2branchi.jpeg', ')', ';', '}', '}', '@', 'media', '(', 'min-width', ':', '969px', ')', '(', 'max-width', ':', '1167px', ')', '{', '#', 'snippet_thumbnail_id_6260314919429651029', '{', 'background-image', ':', 'url', '(', 'https\\\\', ':', '\\\\/\\\\/1.bp.blogspot.com\\\\/-ka5rnbl1-_u\\\\/ynsws0kbtii\\\\/aaaaaaabgce\\\\/cvisoagf57q_wzzjsborqoz_bwxilv57aclcbgasyhq\\\\/w1167-h778-p-k-no-nu\\\\/iiit', '%', '2branchi.jpeg', ')', ';', '}', '}', '@', 'media', '(', 'min-width', ':', '601px', ')', '(', 'max-width', ':', '968px', ')', '{', '#', 'snippet_thumbnail_id_6260314919429651029', '{', 'background-image', ':', 'url', '(', 'https\\\\', ':', '\\\\/\\\\/1.bp.blogspot.com\\\\/-ka5rnbl1-_u\\\\/ynsws0kbtii\\\\/aaaaaaabgce\\\\/cvisoagf57q_wzzjsborqoz_bwxilv57aclcbgasyhq\\\\/w968-h645-p-k-no-nu\\\\/iiit', '%', '2branchi.jpeg', ')', ';', '}', '}', '@', 'media', '(', 'max-width', ':', '600px', ')', '{', '#', 'snippet_thumbnail_id_6260314919429651029', '{', 'background-image', ':', 'url', '(', 'https\\\\', ':', '\\\\/\\\\/1.bp.blogspot.com\\\\/-ka5rnbl1-_u\\\\/ynsws0kbtii\\\\/aaaaaaabgce\\\\/cvisoagf57q_wzzjsborqoz_bwxilv57aclcbgasyhq\\\\/w600-h400-p-k-no-nu\\\\/iiit', '%', '2branchi.jpeg', ')', ';', '}', '}', '<', '/style', '>', '<', '/a', '>', '<', 'div', \"class='post-content\", 'container', \"'\", '>', '<', 'div', \"class='post-title-container\", \"'\", '>', '<', \"name='6260314919429651029\", \"'\", '>', '<', '/a', '>', '<', 'h3', \"class='post-title\", 'entry-title', \"'\", '>', '<', \"href='https\", ':', '//gate2cse.blogspot.com/2021/07/iiit-ranchi-mtech-dsai-cse-admissions.html', \"'\", '>', 'iiit', 'ranchi', ':', 'm.tech', '.', 'dsai', '(', 'cse', ')', 'admissions', '2021', '<', '/a', '>', '<', '/h3', '>', '<', '/div', '>', '<', 'div', \"class='post-header-container\", 'container', \"'\", '>', '<', 'div', \"class='post-header\", \"'\", '>', '<', 'div', \"class='post-header-line-1\", \"'\", '>', '<', 'span', \"class='byline\", 'post-timestamp', \"'\", '>', '<', 'meta', \"content='https\", ':', \"//gate2cse.blogspot.com/2021/07/iiit-ranchi-mtech-dsai-cse-admissions.html'/\", '>', '<', \"class='timestamp-link\", \"'\", \"href='https\", ':', '//gate2cse.blogspot.com/2021/07/iiit-ranchi-mtech-dsai-cse-admissions.html', \"'\", \"rel='bookmark\", \"'\", \"title='permanent\", 'link', \"'\", '>', '<', 'time', \"class='published\", \"'\", \"datetime='2021-07-03t08:00:00-07:00\", \"'\", \"title='2021-07-03t08:00:00-07:00\", \"'\", '>', 'july', '03', ',', '2021', '<', '/time', '>', '<', '/a', '>', '<', '/span', '>', '<', '/div', '>', '<', '/div', '>', '<', '/div', '>', '<', 'div', \"class='container\", 'post-body', 'entry-content', \"'\", \"id='post-snippet-6260314919429651029\", \"'\", '>', '<', 'div', \"class='post-snippet\", 'snippet-container', 'r-snippet-container', \"'\", '>', '<', 'div', \"class='snippet-item\", 'r-snippetized', \"'\", '>', 'indian', 'institute', 'information', 'technology', 'ranchi', '(', 'iiit-ranchi', ')', 'one', '25', 'iiits', 'located', 'across', 'india', '.', 'present', ',', 'iiit-ranchi', ',', 'institute', 'national', 'importance', ',', 'operated', 'presently', 'interim', 'campus', '.', 'new', '67', 'acres', 'permanent', 'campus', 'expected', 'ready', 'year', ',', 'i.e', '.', '2021', '.', 'iiit', 'ranchi', '&', '#', '160', ';', 'm.tech', '.', 'dsai', '(', 'cse', ')', ':', 'department', 'computer', 'science', 'engineering', '&', '#', '160', ';', 'offers', 'm.tech', '.', 'data', 'science', 'artificial', 'intelligence', '.', 'total', 'number', 'seats', 'program', '25', '.', 'course', 'structure', 'course', 'found', '.', 'important', 'dates', ':', 'last', 'date', 'application', '(', 'hard', 'copy', ')', 'submission', '-', 'july', '15', ',', '2021', 'announcement', 'shortlisting', '-', 'july', '20', ',', '2021', 'date', 'test/interview', '-', 'august', '2', ',', '2021', 'announcement', 'result', '-', 'august', '9', ',', '2021', 'dates', 'admission/registration', 'procedures', 'announced', 'later', '.', 'admission', 'categories', '&', 'amp', ';', 'selection', 'procedure', ':', 'gate', 'admission', 'm.tech', '.', 'data', 'science', 'artificial', 'intelligence', 'category', ',', 'candidates', '<', '/div', '>', '<', \"class='snippet-fade\", 'r-snippet-fade', 'hidden', \"'\", \"href='https\", ':', '//gate2cse.blogspot.com/2021/07/iiit-ranchi-mtech-dsai-cse-admissions.html', \"'\", '>', '<', '/a', '>', '<', '/div', '>', '<', '/div', '>', '<', 'div', \"class='post-bottom\", \"'\", '>', '<', 'div', \"class='post-footer\", \"'\", '>', '<', 'div', \"class='post-footer-line\", 'post-footer-line-0', \"'\", '>', '<', 'div', \"class='byline\", 'post-share-buttons', 'goog-inline-block', \"'\", '>', '<', 'div', \"aria-owns='sharing-popup-blog1-footer-0-6260314919429651029\", \"'\", \"class='sharing\", \"'\", \"data-title='iiit\", 'ranchi', ':', 'm.tech', '.', 'dsai', '(', 'cse', ')', 'admissions', '2021', \"'\", '>', '<', 'button', \"aria-controls='sharing-popup-blog1-footer-0-6260314919429651029\", \"'\", \"aria-label='share\", \"'\", \"class='sharing-button\", 'touch-icon-button', 'flat-button', 'ripple', \"'\", \"id='sharing-button-blog1-footer-0-6260314919429651029\", \"'\", \"role='button\", \"'\", '>', 'share', '<', '/button', '>', '<', 'div', \"class='share-buttons-container\", \"'\", '>', '<', 'ul', \"aria-hidden='true\", \"'\", \"aria-label='share\", \"'\", \"class='share-buttons\", 'hidden', \"'\", \"id='sharing-popup-blog1-footer-0-6260314919429651029\", \"'\", \"role='menu\", \"'\", '>', '<', 'li', '>', '<', 'span', \"aria-label='get\", 'link', \"'\", \"class='sharing-platform-button\", 'sharing-element-link', \"'\", \"data-href='https\", ':', '//www.blogger.com/share-post.g', '?', 'blogid=7143236966222162812', '&', 'postid=6260314919429651029', '&', 'target=', \"'\", \"data-url='https\", ':', '//gate2cse.blogspot.com/2021/07/iiit-ranchi-mtech-dsai-cse-admissions.html', \"'\", \"role='menuitem\", \"'\", \"tabindex='-1\", \"'\", \"title='get\", 'link', \"'\", '>', '<', 'svg', \"class='svg-icon-24\", 'touch-icon', 'sharing-link', \"'\", '>', '<', 'use', 'xlink', ':', \"href='/responsive/sprite_v1_6.css.svg\", '#', 'ic_24_link_dark', \"'\", 'xmlns', ':', \"xlink='http\", ':', '//www.w3.org/1999/xlink', \"'\", '>', '<', '/use', '>', '<', '/svg', '>', '<', 'span', \"class='platform-sharing-text\", \"'\", '>', 'get', 'link', '<', '/span', '>', '<', '/span', '>', '<', '/li', '>', '<', 'li', '>', '<', 'span', \"aria-label='share\", 'facebook', \"'\", \"class='sharing-platform-button\", 'sharing-element-facebook', \"'\", \"data-href='https\", ':', '//www.blogger.com/share-post.g', '?', 'blogid=7143236966222162812', '&', 'postid=6260314919429651029', '&', 'target=facebook', \"'\", \"data-url='https\", ':', '//gate2cse.blogspot.com/2021/07/iiit-ranchi-mtech-dsai-cse-admissions.html', \"'\", \"role='menuitem\", \"'\", \"tabindex='-1\", \"'\", \"title='share\", 'facebook', \"'\", '>', '<', 'svg', \"class='svg-icon-24\", 'touch-icon', 'sharing-facebook', \"'\", '>', '<', 'use', 'xlink', ':', \"href='/responsive/sprite_v1_6.css.svg\", '#', 'ic_24_facebook_dark', \"'\", 'xmlns', ':', \"xlink='http\", ':', '//www.w3.org/1999/xlink', \"'\", '>', '<', '/use', '>', '<', '/svg', '>', '<', 'span', \"class='platform-sharing-text\", \"'\", '>', 'facebook', '<', '/span', '>', '<', '/span', '>', '<', '/li', '>', '<', 'li', '>', '<', 'span', \"aria-label='share\", 'twitter', \"'\", \"class='sharing-platform-button\", 'sharing-element-twitter', \"'\", \"data-href='https\", ':', '//www.blogger.com/share-post.g', '?', 'blogid=7143236966222162812', '&', 'postid=6260314919429651029', '&', 'target=twitter', \"'\", \"data-url='https\", ':', '//gate2cse.blogspot.com/2021/07/iiit-ranchi-mtech-dsai-cse-admissions.html', \"'\", \"role='menuitem\", \"'\", \"tabindex='-1\", \"'\", \"title='share\", 'twitter', \"'\", '>', '<', 'svg', \"class='svg-icon-24\", 'touch-icon', 'sharing-twitter', \"'\", '>', '<', 'use', 'xlink', ':', \"href='/responsive/sprite_v1_6.css.svg\", '#', 'ic_24_twitter_dark', \"'\", 'xmlns', ':', \"xlink='http\", ':', '//www.w3.org/1999/xlink', \"'\", '>', '<', '/use', '>', '<', '/svg', '>', '<', 'span', \"class='platform-sharing-text\", \"'\", '>', 'twitter', '<', '/span', '>', '<', '/span', '>', '<', '/li', '>', '<', 'li', '>', '<', 'span', \"aria-label='share\", 'pinterest', \"'\", \"class='sharing-platform-button\", 'sharing-element-pinterest', \"'\", \"data-href='https\", ':', '//www.blogger.com/share-post.g', '?', 'blogid=7143236966222162812', '&', 'postid=6260314919429651029', '&', 'target=pinterest', \"'\", \"data-url='https\", ':', '//gate2cse.blogspot.com/2021/07/iiit-ranchi-mtech-dsai-cse-admissions.html', \"'\", \"role='menuitem\", \"'\", \"tabindex='-1\", \"'\", \"title='share\", 'pinterest', \"'\", '>', '<', 'svg', \"class='svg-icon-24\", 'touch-icon', 'sharing-pinterest', \"'\", '>', '<', 'use', 'xlink', ':', \"href='/responsive/sprite_v1_6.css.svg\", '#', 'ic_24_pinterest_dark', \"'\", 'xmlns', ':', \"xlink='http\", ':', '//www.w3.org/1999/xlink', \"'\", '>', '<', '/use', '>', '<', '/svg', '>', '<', 'span', \"class='platform-sharing-text\", \"'\", '>', 'pinterest', '<', '/span', '>', '<', '/span', '>', '<', '/li', '>', '<', 'li', '>', '<', 'span', \"aria-label='email\", \"'\", \"class='sharing-platform-button\", 'sharing-element-email', \"'\", \"data-href='https\", ':', '//www.blogger.com/share-post.g', '?', 'blogid=7143236966222162812', '&', 'postid=6260314919429651029', '&', 'target=email', \"'\", \"data-url='https\", ':', '//gate2cse.blogspot.com/2021/07/iiit-ranchi-mtech-dsai-cse-admissions.html', \"'\", \"role='menuitem\", \"'\", \"tabindex='-1\", \"'\", \"title='email\", \"'\", '>', '<', 'svg', \"class='svg-icon-24\", 'touch-icon', 'sharing-email', \"'\", '>', '<', 'use', 'xlink', ':', \"href='/responsive/sprite_v1_6.css.svg\", '#', 'ic_24_email_dark', \"'\", 'xmlns', ':', \"xlink='http\", ':', '//www.w3.org/1999/xlink', \"'\", '>', '<', '/use', '>', '<', '/svg', '>', '<', 'span', \"class='platform-sharing-text\", \"'\", '>', 'email', '<', '/span', '>', '<', '/span', '>', '<', '/li', '>', '<', 'li', \"aria-hidden='true\", \"'\", \"class='hidden\", \"'\", '>', '<', 'span', \"aria-label='share\", 'apps', \"'\", \"class='sharing-platform-button\", 'sharing-element-other', \"'\", \"data-url='https\", ':', '//gate2cse.blogspot.com/2021/07/iiit-ranchi-mtech-dsai-cse-admissions.html', \"'\", \"role='menuitem\", \"'\", \"tabindex='-1\", \"'\", \"title='share\", 'apps', \"'\", '>', '<', 'svg', \"class='svg-icon-24\", 'touch-icon', 'sharing-sharingother', \"'\", '>', '<', 'use', 'xlink', ':', \"href='/responsive/sprite_v1_6.css.svg\", '#', 'ic_more_horiz_black_24dp', \"'\", 'xmlns', ':', \"xlink='http\", ':', '//www.w3.org/1999/xlink', \"'\", '>', '<', '/use', '>', '<', '/svg', '>', '<', 'span', \"class='platform-sharing-text\", \"'\", '>', 'apps', '<', '/span', '>', '<', '/span', '>', '<', '/li', '>', '<', '/ul', '>', '<', '/div', '>', '<', '/div', '>', '<', '/div', '>', '<', 'span', \"class='byline\", 'post-comment-link', 'container', \"'\", '>', '<', \"class='comment-link\", 'flat-button', 'ripple', \"'\", \"href='https\", ':', '//gate2cse.blogspot.com/2021/07/iiit-ranchi-mtech-dsai-cse-admissions.html', '#', 'comments', \"'\", 'onclick=', \"''\", '>', 'post', 'comment', '<', '/a', '>', '<', '/span', '>', '<', '/div', '>', '<', '/div', '>', '<', 'div', \"class='byline\", 'jump-link', \"'\", '>', '<', \"class='flat-button\", 'ripple', \"'\", \"href='https\", ':', '//gate2cse.blogspot.com/2021/07/iiit-ranchi-mtech-dsai-cse-admissions.html', \"'\", \"title='iiit\", 'ranchi', ':', 'm.tech', '.', 'dsai', '(', 'cse', ')', 'admissions', '2021', \"'\", '>', 'read', '<', '/a', '>', '<', '/div', '>', '<', '/div', '>', '<', '/div', '>', '<', '/div', '>', '<', '/article', '>', '<', 'article', \"class='post-outer-container\", \"'\", '>', '<', 'div', \"class='post-outer\", \"'\", '>', '<', \"class='snippet-thumbnail\", \"'\", \"href='https\", ':', '//gate2cse.blogspot.com/2021/06/nerist-mtech-admissions-2021-gatenon.html', \"'\", '>', '<', 'span', \"class='snippet-thumbnail-img\", \"'\", \"id='snippet_thumbnail_id_5514730464206948124\", \"'\", '>', '<', '/span', '>', '<', 'style', '>', '@', 'media', '(', 'min-width', ':', '1168px', ')', '{', '#', 'snippet_thumbnail_id_5514730464206948124', '{', 'background-image', ':', 'url', '(', 'https\\\\', ':', '\\\\/\\\\/1.bp.blogspot.com\\\\/-l-_wi1bapa8\\\\/yna1xmoj6hi\\\\/aaaaaaabgza\\\\/snotojhic_enzjeukmedgzpohs6x-ptdqclcbgasyhq\\\\/w256-h256-p-k-no-nu\\\\/nerist-0.jpg', ')', ';', '}', '}', '@', 'media', '(', 'min-width', ':', '969px', ')', '(', 'max-width', ':', '1167px', ')', '{', '#', 'snippet_thumbnail_id_5514730464206948124', '{', 'background-image', ':', 'url', '(', 'https\\\\', ':', '\\\\/\\\\/1.bp.blogspot.com\\\\/-l-_wi1bapa8\\\\/yna1xmoj6hi\\\\/aaaaaaabgza\\\\/snotojhic_enzjeukmedgzpohs6x-ptdqclcbgasyhq\\\\/w1167-h778-p-k-no-nu\\\\/nerist-0.jpg', ')', ';', '}', '}', '@', 'media', '(', 'min-width', ':', '601px', ')', '(', 'max-width', ':', '968px', ')', '{', '#', 'snippet_thumbnail_id_5514730464206948124', '{', 'background-image', ':', 'url', '(', 'https\\\\', ':', '\\\\/\\\\/1.bp.blogspot.com\\\\/-l-_wi1bapa8\\\\/yna1xmoj6hi\\\\/aaaaaaabgza\\\\/snotojhic_enzjeukmedgzpohs6x-ptdqclcbgasyhq\\\\/w968-h645-p-k-no-nu\\\\/nerist-0.jpg', ')', ';', '}', '}', '@', 'media', '(', 'max-width', ':', '600px', ')', '{', '#', 'snippet_thumbnail_id_5514730464206948124', '{', 'background-image', ':', 'url', '(', 'https\\\\', ':', '\\\\/\\\\/1.bp.blogspot.com\\\\/-l-_wi1bapa8\\\\/yna1xmoj6hi\\\\/aaaaaaabgza\\\\/snotojhic_enzjeukmedgzpohs6x-ptdqclcbgasyhq\\\\/w600-h400-p-k-no-nu\\\\/nerist-0.jpg', ')', ';', '}', '}', '<', '/style', '>', '<', '/a', '>', '<', 'div', \"class='post-content\", 'container', \"'\", '>', '<', 'div', \"class='post-title-container\", \"'\", '>', '<', \"name='5514730464206948124\", \"'\", '>', '<', '/a', '>', '<', 'h3', \"class='post-title\", 'entry-title', \"'\", '>', '<', \"href='https\", ':', '//gate2cse.blogspot.com/2021/06/nerist-mtech-admissions-2021-gatenon.html', \"'\", '>', 'nerist', 'm.tech', '.', 'admissions', '2021', ':', 'gate/non-gate', '<', '/a', '>', '<', '/h3', '>', '<', '/div', '>', '<', 'div', \"class='post-header-container\", 'container', \"'\", '>', '<', 'div', \"class='post-header\", \"'\", '>', '<', 'div', \"class='post-header-line-1\", \"'\", '>', '<', 'span', \"class='byline\", 'post-timestamp', \"'\", '>', '<', 'meta', \"content='https\", ':', \"//gate2cse.blogspot.com/2021/06/nerist-mtech-admissions-2021-gatenon.html'/\", '>', '<', \"class='timestamp-link\", \"'\", \"href='https\", ':', '//gate2cse.blogspot.com/2021/06/nerist-mtech-admissions-2021-gatenon.html', \"'\", \"rel='bookmark\", \"'\", \"title='permanent\", 'link', \"'\", '>', '<', 'time', \"class='published\", \"'\", \"datetime='2021-06-21t02:28:00-07:00\", \"'\", \"title='2021-06-21t02:28:00-07:00\", \"'\", '>', 'june', '21', ',', '2021', '<', '/time', '>', '<', '/a', '>', '<', '/span', '>', '<', '/div', '>', '<', '/div', '>', '<', '/div', '>', '<', 'div', \"class='container\", 'post-body', 'entry-content', \"'\", \"id='post-snippet-5514730464206948124\", \"'\", '>', '<', 'div', \"class='post-snippet\", 'snippet-container', 'r-snippet-container', \"'\", '>', '<', 'div', \"class='snippet-item\", 'r-snippetized', \"'\", '>', 'north', 'eastern', 'regional', 'institute', 'science', 'technology', '(', 'nerist', ')', 'autonomous', ',', 'deemed', 'university', 'situated', 'nirjuli', 'pampum', 'pare', 'district', 'arunachal', 'pradesh', '.', 'established', '1984', ',', 'institution', 'fully', 'funded', 'controlloed', 'ministry', 'human', 'resource', 'development', ',', 'department', 'education', ',', 'government', 'india', '.', 'institute', 'managed', 'board', 'management', ',', 'comprising', 'representatives', 'dept', '.', 'education', ',', 'goi', 'eight', 'beneficiary', 'states', 'north', 'east', 'india', ',', 'aicte', 'educationists', '.', 'nerist', 'entrance', '(', 'source', ':', 'google', 'images', ')', 'm.tech', '.', 'cse', 'department', 'computer', 'science', 'engineering', ',', 'nerist', 'offers', '2', 'm.tech', '.', 'programs', '.', 'details', 'found', 'clicking', 'names', '-', 'm.tech', '.', 'computer', 'science', 'engineering', 'm.tech', '.', 'information', 'technology', 'maximum', 'number', 'intakes', 'programs', '22', '.', 'details', 'found', 'information', 'brochure', '.', 'important', 'dates', 'last', 'date', 'online', 'submission', 'applications', 'extended', '<', '/div', '>', '<', \"class='snippet-fade\", 'r-snippet-fade', 'hidden', \"'\", \"href='https\", ':', '//gate2cse.blogspot.com/2021/06/nerist-mtech-admissions-2021-gatenon.html', \"'\", '>', '<', '/a', '>', '<', '/div', '>', '<', '/div', '>', '<', 'div', \"class='post-bottom\", \"'\", '>', '<', 'div', \"class='post-footer\", \"'\", '>', '<', 'div', \"class='post-footer-line\", 'post-footer-line-0', \"'\", '>', '<', 'div', \"class='byline\", 'post-share-buttons', 'goog-inline-block', \"'\", '>', '<', 'div', \"aria-owns='sharing-popup-blog1-footer-0-5514730464206948124\", \"'\", \"class='sharing\", \"'\", \"data-title='nerist\", 'm.tech', '.', 'admissions', '2021', ':', 'gate/non-gate', \"'\", '>', '<', 'button', \"aria-controls='sharing-popup-blog1-footer-0-5514730464206948124\", \"'\", \"aria-label='share\", \"'\", \"class='sharing-button\", 'touch-icon-button', 'flat-button', 'ripple', \"'\", \"id='sharing-button-blog1-footer-0-5514730464206948124\", \"'\", \"role='button\", \"'\", '>', 'share', '<', '/button', '>', '<', 'div', \"class='share-buttons-container\", \"'\", '>', '<', 'ul', \"aria-hidden='true\", \"'\", \"aria-label='share\", \"'\", \"class='share-buttons\", 'hidden', \"'\", \"id='sharing-popup-blog1-footer-0-5514730464206948124\", \"'\", \"role='menu\", \"'\", '>', '<', 'li', '>', '<', 'span', \"aria-label='get\", 'link', \"'\", \"class='sharing-platform-button\", 'sharing-element-link', \"'\", \"data-href='https\", ':', '//www.blogger.com/share-post.g', '?', 'blogid=7143236966222162812', '&', 'postid=5514730464206948124', '&', 'target=', \"'\", \"data-url='https\", ':', '//gate2cse.blogspot.com/2021/06/nerist-mtech-admissions-2021-gatenon.html', \"'\", \"role='menuitem\", \"'\", \"tabindex='-1\", \"'\", \"title='get\", 'link', \"'\", '>', '<', 'svg', \"class='svg-icon-24\", 'touch-icon', 'sharing-link', \"'\", '>', '<', 'use', 'xlink', ':', \"href='/responsive/sprite_v1_6.css.svg\", '#', 'ic_24_link_dark', \"'\", 'xmlns', ':', \"xlink='http\", ':', '//www.w3.org/1999/xlink', \"'\", '>', '<', '/use', '>', '<', '/svg', '>', '<', 'span', \"class='platform-sharing-text\", \"'\", '>', 'get', 'link', '<', '/span', '>', '<', '/span', '>', '<', '/li', '>', '<', 'li', '>', '<', 'span', \"aria-label='share\", 'facebook', \"'\", \"class='sharing-platform-button\", 'sharing-element-facebook', \"'\", \"data-href='https\", ':', '//www.blogger.com/share-post.g', '?', 'blogid=7143236966222162812', '&', 'postid=5514730464206948124', '&', 'target=facebook', \"'\", \"data-url='https\", ':', '//gate2cse.blogspot.com/2021/06/nerist-mtech-admissions-2021-gatenon.html', \"'\", \"role='menuitem\", \"'\", \"tabindex='-1\", \"'\", \"title='share\", 'facebook', \"'\", '>', '<', 'svg', \"class='svg-icon-24\", 'touch-icon', 'sharing-facebook', \"'\", '>', '<', 'use', 'xlink', ':', \"href='/responsive/sprite_v1_6.css.svg\", '#', 'ic_24_facebook_dark', \"'\", 'xmlns', ':', \"xlink='http\", ':', '//www.w3.org/1999/xlink', \"'\", '>', '<', '/use', '>', '<', '/svg', '>', '<', 'span', \"class='platform-sharing-text\", \"'\", '>', 'facebook', '<', '/span', '>', '<', '/span', '>', '<', '/li', '>', '<', 'li', '>', '<', 'span', \"aria-label='share\", 'twitter', \"'\", \"class='sharing-platform-button\", 'sharing-element-twitter', \"'\", \"data-href='https\", ':', '//www.blogger.com/share-post.g', '?', 'blogid=7143236966222162812', '&', 'postid=5514730464206948124', '&', 'target=twitter', \"'\", \"data-url='https\", ':', '//gate2cse.blogspot.com/2021/06/nerist-mtech-admissions-2021-gatenon.html', \"'\", \"role='menuitem\", \"'\", \"tabindex='-1\", \"'\", \"title='share\", 'twitter', \"'\", '>', '<', 'svg', \"class='svg-icon-24\", 'touch-icon', 'sharing-twitter', \"'\", '>', '<', 'use', 'xlink', ':', \"href='/responsive/sprite_v1_6.css.svg\", '#', 'ic_24_twitter_dark', \"'\", 'xmlns', ':', \"xlink='http\", ':', '//www.w3.org/1999/xlink', \"'\", '>', '<', '/use', '>', '<', '/svg', '>', '<', 'span', \"class='platform-sharing-text\", \"'\", '>', 'twitter', '<', '/span', '>', '<', '/span', '>', '<', '/li', '>', '<', 'li', '>', '<', 'span', \"aria-label='share\", 'pinterest', \"'\", \"class='sharing-platform-button\", 'sharing-element-pinterest', \"'\", \"data-href='https\", ':', '//www.blogger.com/share-post.g', '?', 'blogid=7143236966222162812', '&', 'postid=5514730464206948124', '&', 'target=pinterest', \"'\", \"data-url='https\", ':', '//gate2cse.blogspot.com/2021/06/nerist-mtech-admissions-2021-gatenon.html', \"'\", \"role='menuitem\", \"'\", \"tabindex='-1\", \"'\", \"title='share\", 'pinterest', \"'\", '>', '<', 'svg', \"class='svg-icon-24\", 'touch-icon', 'sharing-pinterest', \"'\", '>', '<', 'use', 'xlink', ':', \"href='/responsive/sprite_v1_6.css.svg\", '#', 'ic_24_pinterest_dark', \"'\", 'xmlns', ':', \"xlink='http\", ':', '//www.w3.org/1999/xlink', \"'\", '>', '<', '/use', '>', '<', '/svg', '>', '<', 'span', \"class='platform-sharing-text\", \"'\", '>', 'pinterest', '<', '/span', '>', '<', '/span', '>', '<', '/li', '>', '<', 'li', '>', '<', 'span', \"aria-label='email\", \"'\", \"class='sharing-platform-button\", 'sharing-element-email', \"'\", \"data-href='https\", ':', '//www.blogger.com/share-post.g', '?', 'blogid=7143236966222162812', '&', 'postid=5514730464206948124', '&', 'target=email', \"'\", \"data-url='https\", ':', '//gate2cse.blogspot.com/2021/06/nerist-mtech-admissions-2021-gatenon.html', \"'\", \"role='menuitem\", \"'\", \"tabindex='-1\", \"'\", \"title='email\", \"'\", '>', '<', 'svg', \"class='svg-icon-24\", 'touch-icon', 'sharing-email', \"'\", '>', '<', 'use', 'xlink', ':', \"href='/responsive/sprite_v1_6.css.svg\", '#', 'ic_24_email_dark', \"'\", 'xmlns', ':', \"xlink='http\", ':', '//www.w3.org/1999/xlink', \"'\", '>', '<', '/use', '>', '<', '/svg', '>', '<', 'span', \"class='platform-sharing-text\", \"'\", '>', 'email', '<', '/span', '>', '<', '/span', '>', '<', '/li', '>', '<', 'li', \"aria-hidden='true\", \"'\", \"class='hidden\", \"'\", '>', '<', 'span', \"aria-label='share\", 'apps', \"'\", \"class='sharing-platform-button\", 'sharing-element-other', \"'\", \"data-url='https\", ':', '//gate2cse.blogspot.com/2021/06/nerist-mtech-admissions-2021-gatenon.html', \"'\", \"role='menuitem\", \"'\", \"tabindex='-1\", \"'\", \"title='share\", 'apps', \"'\", '>', '<', 'svg', \"class='svg-icon-24\", 'touch-icon', 'sharing-sharingother', \"'\", '>', '<', 'use', 'xlink', ':', \"href='/responsive/sprite_v1_6.css.svg\", '#', 'ic_more_horiz_black_24dp', \"'\", 'xmlns', ':', \"xlink='http\", ':', '//www.w3.org/1999/xlink', \"'\", '>', '<', '/use', '>', '<', '/svg', '>', '<', 'span', \"class='platform-sharing-text\", \"'\", '>', 'apps', '<', '/span', '>', '<', '/span', '>', '<', '/li', '>', '<', '/ul', '>', '<', '/div', '>', '<', '/div', '>', '<', '/div', '>', '<', 'span', \"class='byline\", 'post-comment-link', 'container', \"'\", '>', '<', \"class='comment-link\", 'flat-button', 'ripple', \"'\", \"href='https\", ':', '//gate2cse.blogspot.com/2021/06/nerist-mtech-admissions-2021-gatenon.html', '#', 'comments', \"'\", 'onclick=', \"''\", '>', 'post', 'comment', '<', '/a', '>', '<', '/span', '>', '<', '/div', '>', '<', '/div', '>', '<', 'div', \"class='byline\", 'jump-link', \"'\", '>', '<', \"class='flat-button\", 'ripple', \"'\", \"href='https\", ':', '//gate2cse.blogspot.com/2021/06/nerist-mtech-admissions-2021-gatenon.html', \"'\", \"title='nerist\", 'm.tech', '.', 'admissions', '2021', ':', 'gate/non-gate', \"'\", '>', 'read', '<', '/a', '>', '<', '/div', '>', '<', '/div', '>', '<', '/div', '>', '<', '/div', '>', '<', '/article', '>', '<', 'article', \"class='post-outer-container\", \"'\", '>', '<', 'div', \"class='post-outer\", \"'\", '>', '<', \"class='snippet-thumbnail\", \"'\", \"href='https\", ':', '//gate2cse.blogspot.com/2021/06/iiit-bhagalpur-mtech-admissions-2021.html', \"'\", '>', '<', 'span', \"class='snippet-thumbnail-img\", \"'\", \"id='snippet_thumbnail_id_3408059245147298023\", \"'\", '>', '<', '/span', '>', '<', 'style', '>', '@', 'media', '(', 'min-width', ':', '1168px', ')', '{', '#', 'snippet_thumbnail_id_3408059245147298023', '{', 'background-image', ':', 'url', '(', 'https\\\\', ':', '\\\\/\\\\/1.bp.blogspot.com\\\\/-4tkmb9jnutq\\\\/ym3pnojz36i\\\\/aaaaaaabgxs\\\\/mgzgrb50a8s0br5x6kx7wwral9pyabqdqclcbgasyhq\\\\/w256-h256-p-k-no-nu\\\\/iiit', '%', '2bbhagalpur.jpg', ')', ';', '}', '}', '@', 'media', '(', 'min-width', ':', '969px', ')', '(', 'max-width', ':', '1167px', ')', '{', '#', 'snippet_thumbnail_id_3408059245147298023', '{', 'background-image', ':', 'url', '(', 'https\\\\', ':', '\\\\/\\\\/1.bp.blogspot.com\\\\/-4tkmb9jnutq\\\\/ym3pnojz36i\\\\/aaaaaaabgxs\\\\/mgzgrb50a8s0br5x6kx7wwral9pyabqdqclcbgasyhq\\\\/w1167-h778-p-k-no-nu\\\\/iiit', '%', '2bbhagalpur.jpg', ')', ';', '}', '}', '@', 'media', '(', 'min-width', ':', '601px', ')', '(', 'max-width', ':', '968px', ')', '{', '#', 'snippet_thumbnail_id_3408059245147298023', '{', 'background-image', ':', 'url', '(', 'https\\\\', ':', '\\\\/\\\\/1.bp.blogspot.com\\\\/-4tkmb9jnutq\\\\/ym3pnojz36i\\\\/aaaaaaabgxs\\\\/mgzgrb50a8s0br5x6kx7wwral9pyabqdqclcbgasyhq\\\\/w968-h645-p-k-no-nu\\\\/iiit', '%', '2bbhagalpur.jpg', ')', ';', '}', '}', '@', 'media', '(', 'max-width', ':', '600px', ')', '{', '#', 'snippet_thumbnail_id_3408059245147298023', '{', 'background-image', ':', 'url', '(', 'https\\\\', ':', '\\\\/\\\\/1.bp.blogspot.com\\\\/-4tkmb9jnutq\\\\/ym3pnojz36i\\\\/aaaaaaabgxs\\\\/mgzgrb50a8s0br5x6kx7wwral9pyabqdqclcbgasyhq\\\\/w600-h400-p-k-no-nu\\\\/iiit', '%', '2bbhagalpur.jpg', ')', ';', '}', '}', '<', '/style', '>', '<', '/a', '>', '<', 'div', \"class='post-content\", 'container', \"'\", '>', '<', 'div', \"class='post-title-container\", \"'\", '>', '<', \"name='3408059245147298023\", \"'\", '>', '<', '/a', '>', '<', 'h3', \"class='post-title\", 'entry-title', \"'\", '>', '<', \"href='https\", ':', '//gate2cse.blogspot.com/2021/06/iiit-bhagalpur-mtech-admissions-2021.html', \"'\", '>', 'iiit', 'bhagalpur', 'm.tech', '.', 'admissions', '2021', 'gate/non-gate', ':', 'everything', 'need', 'know', '<', '/a', '>', '<', '/h3', '>', '<', '/div', '>', '<', 'div', \"class='post-header-container\", 'container', \"'\", '>', '<', 'div', \"class='post-header\", \"'\", '>', '<', 'div', \"class='post-header-line-1\", \"'\", '>', '<', 'span', \"class='byline\", 'post-timestamp', \"'\", '>', '<', 'meta', \"content='https\", ':', \"//gate2cse.blogspot.com/2021/06/iiit-bhagalpur-mtech-admissions-2021.html'/\", '>', '<', \"class='timestamp-link\", \"'\", \"href='https\", ':', '//gate2cse.blogspot.com/2021/06/iiit-bhagalpur-mtech-admissions-2021.html', \"'\", \"rel='bookmark\", \"'\", \"title='permanent\", 'link', \"'\", '>', '<', 'time', \"class='published\", \"'\", \"datetime='2021-06-19t06:53:00-07:00\", \"'\", \"title='2021-06-19t06:53:00-07:00\", \"'\", '>', 'june', '19', ',', '2021', '<', '/time', '>', '<', '/a', '>', '<', '/span', '>', '<', '/div', '>', '<', '/div', '>', '<', '/div', '>', '<', 'div', \"class='container\", 'post-body', 'entry-content', \"'\", \"id='post-snippet-3408059245147298023\", \"'\", '>', '<', 'div', \"class='post-snippet\", 'snippet-container', 'r-snippet-container', \"'\", '>', '<', 'div', \"class='snippet-item\", 'r-snippetized', \"'\", '>', 'indian', 'institute', 'information', 'technology', ',', 'bhagalpur', '(', 'iiit-bh', ')', 'one', '25', 'iiits', 'india', '.', 'set', '2017', 'public-private', 'partnership', '(', 'ppp', ')', 'mode', '.', '2020', ',', 'indian', 'institutes', 'information', 'technology', 'laws', '(', 'amendment', ')', 'bill', ',', '2020', 'introduced', ',', 'officially', 'declaring', '5', 'iiits', 'conferring', 'institute', 'national', 'importance', '(', 'ini', ')', 'status', '.', 'iiit', 'bhagalpur', 'one', '.', 'currently', 'institute', 'functioning', '50', 'acres', 'campus', 'bhagalpur', 'college', 'engineering', 'mentored', 'indian', 'institute', 'technology', ',', 'guwahati', '.', 'iiit', 'bhagalpur', '(', 'source', ':', 'google', 'images', ')', 'm.tech', '.', 'programs', 'offered', 'iiit', 'bhagalpur', 'offering', 'master', 'technology', '(', 'm.tech', '.', ')', 'program', 'three', 'branches', ':', 'computer', 'science', 'engineering', '(', 'cse', ')', 'specialization', 'artificial', 'intelligence', 'data', 'science', '(', 'ai', '&', 'amp', ';', 'ds', ')', 'electronics', 'communication', 'engineering', '(', 'ece', ')', 'specialization', 'signal', 'processing', 'machine', 'learning', '(', 'sp', '&', 'amp', ';', 'ml', ')', 'mechatronics', 'engineering', '(', 'mea', ')', 'spe', '<', '/div', '>', '<', \"class='snippet-fade\", 'r-snippet-fade', 'hidden', \"'\", \"href='https\", ':', '//gate2cse.blogspot.com/2021/06/iiit-bhagalpur-mtech-admissions-2021.html', \"'\", '>', '<', '/a', '>', '<', '/div', '>', '<', '/div', '>', '<', 'div', \"class='post-bottom\", \"'\", '>', '<', 'div', \"class='post-footer\", \"'\", '>', '<', 'div', \"class='post-footer-line\", 'post-footer-line-0', \"'\", '>', '<', 'div', \"class='byline\", 'post-share-buttons', 'goog-inline-block', \"'\", '>', '<', 'div', \"aria-owns='sharing-popup-blog1-footer-0-3408059245147298023\", \"'\", \"class='sharing\", \"'\", \"data-title='iiit\", 'bhagalpur', 'm.tech', '.', 'admissions', '2021', 'gate/non-gate', ':', 'everything', 'need', 'know', \"'\", '>', '<', 'button', \"aria-controls='sharing-popup-blog1-footer-0-3408059245147298023\", \"'\", \"aria-label='share\", \"'\", \"class='sharing-button\", 'touch-icon-button', 'flat-button', 'ripple', \"'\", \"id='sharing-button-blog1-footer-0-3408059245147298023\", \"'\", \"role='button\", \"'\", '>', 'share', '<', '/button', '>', '<', 'div', \"class='share-buttons-container\", \"'\", '>', '<', 'ul', \"aria-hidden='true\", \"'\", \"aria-label='share\", \"'\", \"class='share-buttons\", 'hidden', \"'\", \"id='sharing-popup-blog1-footer-0-3408059245147298023\", \"'\", \"role='menu\", \"'\", '>', '<', 'li', '>', '<', 'span', \"aria-label='get\", 'link', \"'\", \"class='sharing-platform-button\", 'sharing-element-link', \"'\", \"data-href='https\", ':', '//www.blogger.com/share-post.g', '?', 'blogid=7143236966222162812', '&', 'postid=3408059245147298023', '&', 'target=', \"'\", \"data-url='https\", ':', '//gate2cse.blogspot.com/2021/06/iiit-bhagalpur-mtech-admissions-2021.html', \"'\", \"role='menuitem\", \"'\", \"tabindex='-1\", \"'\", \"title='get\", 'link', \"'\", '>', '<', 'svg', \"class='svg-icon-24\", 'touch-icon', 'sharing-link', \"'\", '>', '<', 'use', 'xlink', ':', \"href='/responsive/sprite_v1_6.css.svg\", '#', 'ic_24_link_dark', \"'\", 'xmlns', ':', \"xlink='http\", ':', '//www.w3.org/1999/xlink', \"'\", '>', '<', '/use', '>', '<', '/svg', '>', '<', 'span', \"class='platform-sharing-text\", \"'\", '>', 'get', 'link', '<', '/span', '>', '<', '/span', '>', '<', '/li', '>', '<', 'li', '>', '<', 'span', \"aria-label='share\", 'facebook', \"'\", \"class='sharing-platform-button\", 'sharing-element-facebook', \"'\", \"data-href='https\", ':', '//www.blogger.com/share-post.g', '?', 'blogid=7143236966222162812', '&', 'postid=3408059245147298023', '&', 'target=facebook', \"'\", \"data-url='https\", ':', '//gate2cse.blogspot.com/2021/06/iiit-bhagalpur-mtech-admissions-2021.html', \"'\", \"role='menuitem\", \"'\", \"tabindex='-1\", \"'\", \"title='share\", 'facebook', \"'\", '>', '<', 'svg', \"class='svg-icon-24\", 'touch-icon', 'sharing-facebook', \"'\", '>', '<', 'use', 'xlink', ':', \"href='/responsive/sprite_v1_6.css.svg\", '#', 'ic_24_facebook_dark', \"'\", 'xmlns', ':', \"xlink='http\", ':', '//www.w3.org/1999/xlink', \"'\", '>', '<', '/use', '>', '<', '/svg', '>', '<', 'span', \"class='platform-sharing-text\", \"'\", '>', 'facebook', '<', '/span', '>', '<', '/span', '>', '<', '/li', '>', '<', 'li', '>', '<', 'span', \"aria-label='share\", 'twitter', \"'\", \"class='sharing-platform-button\", 'sharing-element-twitter', \"'\", \"data-href='https\", ':', '//www.blogger.com/share-post.g', '?', 'blogid=7143236966222162812', '&', 'postid=3408059245147298023', '&', 'target=twitter', \"'\", \"data-url='https\", ':', '//gate2cse.blogspot.com/2021/06/iiit-bhagalpur-mtech-admissions-2021.html', \"'\", \"role='menuitem\", \"'\", \"tabindex='-1\", \"'\", \"title='share\", 'twitter', \"'\", '>', '<', 'svg', \"class='svg-icon-24\", 'touch-icon', 'sharing-twitter', \"'\", '>', '<', 'use', 'xlink', ':', \"href='/responsive/sprite_v1_6.css.svg\", '#', 'ic_24_twitter_dark', \"'\", 'xmlns', ':', \"xlink='http\", ':', '//www.w3.org/1999/xlink', \"'\", '>', '<', '/use', '>', '<', '/svg', '>', '<', 'span', \"class='platform-sharing-text\", \"'\", '>', 'twitter', '<', '/span', '>', '<', '/span', '>', '<', '/li', '>', '<', 'li', '>', '<', 'span', \"aria-label='share\", 'pinterest', \"'\", \"class='sharing-platform-button\", 'sharing-element-pinterest', \"'\", \"data-href='https\", ':', '//www.blogger.com/share-post.g', '?', 'blogid=7143236966222162812', '&', 'postid=3408059245147298023', '&', 'target=pinterest', \"'\", \"data-url='https\", ':', '//gate2cse.blogspot.com/2021/06/iiit-bhagalpur-mtech-admissions-2021.html', \"'\", \"role='menuitem\", \"'\", \"tabindex='-1\", \"'\", \"title='share\", 'pinterest', \"'\", '>', '<', 'svg', \"class='svg-icon-24\", 'touch-icon', 'sharing-pinterest', \"'\", '>', '<', 'use', 'xlink', ':', \"href='/responsive/sprite_v1_6.css.svg\", '#', 'ic_24_pinterest_dark', \"'\", 'xmlns', ':', \"xlink='http\", ':', '//www.w3.org/1999/xlink', \"'\", '>', '<', '/use', '>', '<', '/svg', '>', '<', 'span', \"class='platform-sharing-text\", \"'\", '>', 'pinterest', '<', '/span', '>', '<', '/span', '>', '<', '/li', '>', '<', 'li', '>', '<', 'span', \"aria-label='email\", \"'\", \"class='sharing-platform-button\", 'sharing-element-email', \"'\", \"data-href='https\", ':', '//www.blogger.com/share-post.g', '?', 'blogid=7143236966222162812', '&', 'postid=3408059245147298023', '&', 'target=email', \"'\", \"data-url='https\", ':', '//gate2cse.blogspot.com/2021/06/iiit-bhagalpur-mtech-admissions-2021.html', \"'\", \"role='menuitem\", \"'\", \"tabindex='-1\", \"'\", \"title='email\", \"'\", '>', '<', 'svg', \"class='svg-icon-24\", 'touch-icon', 'sharing-email', \"'\", '>', '<', 'use', 'xlink', ':', \"href='/responsive/sprite_v1_6.css.svg\", '#', 'ic_24_email_dark', \"'\", 'xmlns', ':', \"xlink='http\", ':', '//www.w3.org/1999/xlink', \"'\", '>', '<', '/use', '>', '<', '/svg', '>', '<', 'span', \"class='platform-sharing-text\", \"'\", '>', 'email', '<', '/span', '>', '<', '/span', '>', '<', '/li', '>', '<', 'li', \"aria-hidden='true\", \"'\", \"class='hidden\", \"'\", '>', '<', 'span', \"aria-label='share\", 'apps', \"'\", \"class='sharing-platform-button\", 'sharing-element-other', \"'\", \"data-url='https\", ':', '//gate2cse.blogspot.com/2021/06/iiit-bhagalpur-mtech-admissions-2021.html', \"'\", \"role='menuitem\", \"'\", \"tabindex='-1\", \"'\", \"title='share\", 'apps', \"'\", '>', '<', 'svg', \"class='svg-icon-24\", 'touch-icon', 'sharing-sharingother', \"'\", '>', '<', 'use', 'xlink', ':', \"href='/responsive/sprite_v1_6.css.svg\", '#', 'ic_more_horiz_black_24dp', \"'\", 'xmlns', ':', \"xlink='http\", ':', '//www.w3.org/1999/xlink', \"'\", '>', '<', '/use', '>', '<', '/svg', '>', '<', 'span', \"class='platform-sharing-text\", \"'\", '>', 'apps', '<', '/span', '>', '<', '/span', '>', '<', '/li', '>', '<', '/ul', '>', '<', '/div', '>', '<', '/div', '>', '<', '/div', '>', '<', 'span', \"class='byline\", 'post-comment-link', 'container', \"'\", '>', '<', \"class='comment-link\", 'flat-button', 'ripple', \"'\", \"href='https\", ':', '//gate2cse.blogspot.com/2021/06/iiit-bhagalpur-mtech-admissions-2021.html', '#', 'comments', \"'\", 'onclick=', \"''\", '>', 'post', 'comment', '<', '/a', '>', '<', '/span', '>', '<', '/div', '>', '<', '/div', '>', '<', 'div', \"class='byline\", 'jump-link', \"'\", '>', '<', \"class='flat-button\", 'ripple', \"'\", \"href='https\", ':', '//gate2cse.blogspot.com/2021/06/iiit-bhagalpur-mtech-admissions-2021.html', \"'\", \"title='iiit\", 'bhagalpur', 'm.tech', '.', 'admissions', '2021', 'gate/non-gate', ':', 'everything', 'need', 'know', \"'\", '>', 'read', '<', '/a', '>', '<', '/div', '>', '<', '/div', '>', '<', '/div', '>', '<', '/div', '>', '<', '/article', '>', '<', '/div', '>', '<', 'div', \"class='blog-pager\", 'container', \"'\", \"id='blog-pager\", \"'\", '>', '<', \"class='blog-pager-older-link\", 'flat-button', 'ripple', \"'\", \"href='https\", ':', '//gate2cse.blogspot.com/search', '?', 'updated-max=2021-06-19t06:53:00-07:00', '&', 'amp', ';', 'max-results=7', \"'\", \"title='more\", 'posts', \"'\", '>', 'posts', '<', '/a', '>', '<', '/div', '>', '<', '/div', '>', '<', '/div', '>', '<', '/main', '>', '<', '/div', '>', '<', '/div', '>', '<', '/div', '>', '<', 'aside', \"class='sidebar-container\", 'sidebar-invisible', \"'\", \"role='complementary\", \"'\", '>', '<', 'div', \"class='navigation\", 'container', \"'\", '>', '<', 'button', \"class='svg-icon-24-button\", 'sidebar-back', 'flat-icon-button', 'ripple', \"'\", '>', '<', 'svg', \"class='svg-icon-24\", \"'\", '>', '<', 'use', 'xlink', ':', \"href='/responsive/sprite_v1_6.css.svg\", '#', 'ic_arrow_forward_black_24dp', \"'\", 'xmlns', ':', \"xlink='http\", ':', '//www.w3.org/1999/xlink', \"'\", '>', '<', '/use', '>', '<', '/svg', '>', '<', '/button', '>', '<', '/div', '>', '<', 'div', \"class='sidebar\", 'section', \"'\", \"id='sidebar\", \"'\", \"name='sidebar\", \"'\", '>', '<', 'div', \"class='widget\", 'text', \"'\", \"data-version='2\", \"'\", \"id='text1\", \"'\", '>', '<', 'h3', \"class='title\", \"'\", '>', 'follow', 'us', 'linkedin', '<', '/h3', '>', '<', 'div', \"class='widget-content\", \"'\", '>', 'thank', 'visiting', 'gate', '2', 'cse', '.', 'regular', 'updates', ',', 'follow', 'official', 'page', 'linkedin', '.', '<', '/div', '>', '<', '/div', '>', '<', 'div', \"class='widget\", 'blogarchive', \"'\", \"data-version='2\", \"'\", \"id='blogarchive1\", \"'\", '>', '<', 'details', \"class='collapsible\", 'extendable', \"'\", '>', '<', 'summary', '>', '<', 'div', \"class='collapsible-title\", \"'\", '>', '<', 'h3', \"class='title\", \"'\", '>', 'archive', '<', '/h3', '>', '<', 'svg', \"class='svg-icon-24\", 'chevron-down', \"'\", '>', '<', 'use', 'xlink', ':', \"href='/responsive/sprite_v1_6.css.svg\", '#', 'ic_expand_more_black_24dp', \"'\", 'xmlns', ':', \"xlink='http\", ':', '//www.w3.org/1999/xlink', \"'\", '>', '<', '/use', '>', '<', '/svg', '>', '<', 'svg', \"class='svg-icon-24\", 'chevron-up', \"'\", '>', '<', 'use', 'xlink', ':', \"href='/responsive/sprite_v1_6.css.svg\", '#', 'ic_expand_less_black_24dp', \"'\", 'xmlns', ':', \"xlink='http\", ':', '//www.w3.org/1999/xlink', \"'\", '>', '<', '/use', '>', '<', '/svg', '>', '<', '/div', '>', '<', '/summary', '>', '<', 'div', \"class='widget-content\", \"'\", '>', '<', 'div', \"id='archivelist\", \"'\", '>', '<', 'div', \"id='blogarchive1_archivelist\", \"'\", '>', '<', 'div', \"class='first-items\", \"'\", '>', '<', 'ul', \"class='flat\", \"'\", '>', '<', 'li', \"class='archivedate\", \"'\", '>', '<', \"href='https\", ':', '//gate2cse.blogspot.com/2021/07/', \"'\", '>', 'july', '2021', '<', 'span', \"class='post-count\", \"'\", '>', '4', '<', '/span', '>', '<', '/a', '>', '<', '/li', '>', '<', 'li', \"class='archivedate\", \"'\", '>', '<', \"href='https\", ':', '//gate2cse.blogspot.com/2021/06/', \"'\", '>', 'june', '2021', '<', 'span', \"class='post-count\", \"'\", '>', '3', '<', '/span', '>', '<', '/a', '>', '<', '/li', '>', '<', 'li', \"class='archivedate\", \"'\", '>', '<', \"href='https\", ':', '//gate2cse.blogspot.com/2020/09/', \"'\", '>', 'september', '2020', '<', 'span', \"class='post-count\", \"'\", '>', '4', '<', '/span', '>', '<', '/a', '>', '<', '/li', '>', '<', '/ul', '>', '<', '/div', '>', '<', '/div', '>', '<', '/div', '>', '<', '/div', '>', '<', '/details', '>', '<', '/div', '>', '<', 'div', \"class='widget\", 'label', \"'\", \"data-version='2\", \"'\", \"id='label1\", \"'\", '>', '<', 'details', \"class='collapsible\", 'extendable', \"'\", '>', '<', 'summary', '>', '<', 'div', \"class='collapsible-title\", \"'\", '>', '<', 'h3', \"class='title\", \"'\", '>', 'labels', '<', '/h3', '>', '<', 'svg', \"class='svg-icon-24\", 'chevron-down', \"'\", '>', '<', 'use', 'xlink', ':', \"href='/responsive/sprite_v1_6.css.svg\", '#', 'ic_expand_more_black_24dp', \"'\", 'xmlns', ':', \"xlink='http\", ':', '//www.w3.org/1999/xlink', \"'\", '>', '<', '/use', '>', '<', '/svg', '>', '<', 'svg', \"class='svg-icon-24\", 'chevron-up', \"'\", '>', '<', 'use', 'xlink', ':', \"href='/responsive/sprite_v1_6.css.svg\", '#', 'ic_expand_less_black_24dp', \"'\", 'xmlns', ':', \"xlink='http\", ':', '//www.w3.org/1999/xlink', \"'\", '>', '<', '/use', '>', '<', '/svg', '>', '<', '/div', '>', '<', '/summary', '>', '<', 'div', \"class='widget-content\", 'cloud-label-widget-content', \"'\", '>', '<', 'div', \"class='first-items\", \"'\", '>', '<', 'ul', '>', '<', 'li', '>', '<', \"class='label-name\", \"'\", \"href='https\", ':', '//gate2cse.blogspot.com/search/label/mtech', '%', '20cse', \"'\", '>', 'mtech', 'cse', '<', 'span', \"class='label-count\", \"'\", '>', '3', '<', '/span', '>', '<', '/a', '>', '<', '/li', '>', '<', 'li', '>', '<', \"class='label-name\", \"'\", \"href='https\", ':', '//gate2cse.blogspot.com/search/label/mtech', '%', '20in', '%', '20cfti', \"'\", '>', 'mtech', 'cfti', '<', 'span', \"class='label-count\", \"'\", '>', '3', '<', '/span', '>', '<', '/a', '>', '<', '/li', '>', '<', 'li', '>', '<', \"class='label-name\", \"'\", \"href='https\", ':', '//gate2cse.blogspot.com/search/label/makaut', '%', '20pget', '%', '20exam', \"'\", '>', 'makaut', 'pget', 'exam', '<', 'span', \"class='label-count\", \"'\", '>', '2', '<', '/span', '>', '<', '/a', '>', '<', '/li', '>', '<', 'li', '>', '<', \"class='label-name\", \"'\", \"href='https\", ':', '//gate2cse.blogspot.com/search/label/mtech', '%', '20admission', \"'\", '>', 'mtech', 'admission', '<', 'span', \"class='label-count\", \"'\", '>', '2', '<', '/span', '>', '<', '/a', '>', '<', '/li', '>', '<', 'li', '>', '<', \"class='label-name\", \"'\", \"href='https\", ':', '//gate2cse.blogspot.com/search/label/mtech', '%', '20cse', '%', '20wbut', \"'\", '>', 'mtech', 'cse', 'wbut', '<', 'span', \"class='label-count\", \"'\", '>', '2', '<', '/span', '>', '<', '/a', '>', '<', '/li', '>', '<', 'li', '>', '<', \"class='label-name\", \"'\", \"href='https\", ':', '//gate2cse.blogspot.com/search/label/mtech', '%', '20in', '%', '20west', '%', '20bengal', \"'\", '>', 'mtech', 'west', 'bengal', '<', 'span', \"class='label-count\", \"'\", '>', '2', '<', '/span', '>', '<', '/a', '>', '<', '/li', '>', '<', 'li', '>', '<', \"class='label-name\", \"'\", \"href='https\", ':', '//gate2cse.blogspot.com/search/label/mtech', '%', '20non', '%', '20gate', '%', '20admission', \"'\", '>', 'mtech', 'non', 'gate', 'admission', '<', 'span', \"class='label-count\", \"'\", '>', '2', '<', '/span', '>', '<', '/a', '>', '<', '/li', '>', '<', 'li', '>', '<', \"class='label-name\", \"'\", \"href='https\", ':', '//gate2cse.blogspot.com/search/label/pget', '%', '20syllabus', '%', '20wbut', \"'\", '>', 'pget', 'syllabus', 'wbut', '<', 'span', \"class='label-count\", \"'\", '>', '2', '<', '/span', '>', '<', '/a', '>', '<', '/li', '>', '<', 'li', '>', '<', \"class='label-name\", \"'\", \"href='https\", ':', '//gate2cse.blogspot.com/search/label/pget', '%', '20wbut', \"'\", '>', 'pget', 'wbut', '<', 'span', \"class='label-count\", \"'\", '>', '2', '<', '/span', '>', '<', '/a', '>', '<', '/li', '>', '<', 'li', '>', '<', \"class='label-name\", \"'\", \"href='https\", ':', '//gate2cse.blogspot.com/search/label/wbut', '%', '20pget', '%', '202020', \"'\", '>', 'wbut', 'pget', '2020', '<', 'span', \"class='label-count\", \"'\", '>', '2', '<', '/span', '>', '<', '/a', '>', '<', '/li', '>', '<', '/ul', '>', '<', '/div', '>', '<', 'div', \"class='remaining-items\", \"'\", '>', '<', 'ul', '>', '<', 'li', '>', '<', \"class='label-name\", \"'\", \"href='https\", ':', '//gate2cse.blogspot.com/search/label/wbut', '%', '20pget', '%', '20mtech', \"'\", '>', 'wbut', 'pget', 'mtech', '<', 'span', \"class='label-count\", \"'\", '>', '2', '<', '/span', '>', '<', '/a', '>', '<', '/li', '>', '<', 'li', '>', '<', \"class='label-name\", \"'\", \"href='https\", ':', '//gate2cse.blogspot.com/search/label/wbut', '%', '20pget', '%', '20mtech', '%', '20cse', \"'\", '>', 'wbut', 'pget', 'mtech', 'cse', '<', 'span', \"class='label-count\", \"'\", '>', '2', '<', '/span', '>', '<', '/a', '>', '<', '/li', '>', '<', 'li', '>', '<', \"class='label-name\", \"'\", \"href='https\", ':', '//gate2cse.blogspot.com/search/label/bhagalpur', \"'\", '>', 'bhagalpur', '<', 'span', \"class='label-count\", \"'\", '>', '1', '<', '/span', '>', '<', '/a', '>', '<', '/li', '>', '<', 'li', '>', '<', \"class='label-name\", \"'\", \"href='https\", ':', '//gate2cse.blogspot.com/search/label/iiit', \"'\", '>', 'iiit', '<', 'span', \"class='label-count\", \"'\", '>', '1', '<', '/span', '>', '<', '/a', '>', '<', '/li', '>', '<', 'li', '>', '<', \"class='label-name\", \"'\", \"href='https\", ':', '//gate2cse.blogspot.com/search/label/iiit', '%', '20bh', \"'\", '>', 'iiit', 'bh', '<', 'span', \"class='label-count\", \"'\", '>', '1', '<', '/span', '>', '<', '/a', '>', '<', '/li', '>', '<', 'li', '>', '<', \"class='label-name\", \"'\", \"href='https\", ':', '//gate2cse.blogspot.com/search/label/makaut', '%', '20pget', '%', '20overview', \"'\", '>', 'makaut', 'pget', 'overview', '<', 'span', \"class='label-count\", \"'\", '>', '1', '<', '/span', '>', '<', '/a', '>', '<', '/li', '>', '<', 'li', '>', '<', \"class='label-name\", \"'\", \"href='https\", ':', '//gate2cse.blogspot.com/search/label/mtech', '%', '20admission', '%', '202021', \"'\", '>', 'mtech', 'admission', '2021', '<', 'span', \"class='label-count\", \"'\", '>', '1', '<', '/span', '>', '<', '/a', '>', '<', '/li', '>', '<', 'li', '>', '<', \"class='label-name\", \"'\", \"href='https\", ':', '//gate2cse.blogspot.com/search/label/mtech', '%', '20admission', '%', '20iiit', \"'\", '>', 'mtech', 'admission', 'iiit', '<', 'span', \"class='label-count\", \"'\", '>', '1', '<', '/span', '>', '<', '/a', '>', '<', '/li', '>', '<', 'li', '>', '<', \"class='label-name\", \"'\", \"href='https\", ':', '//gate2cse.blogspot.com/search/label/mtech', '%', '20admission', '%', '20nerist', \"'\", '>', 'mtech', 'admission', 'nerist', '<', 'span', \"class='label-count\", \"'\", '>', '1', '<', '/span', '>', '<', '/a', '>', '<', '/li', '>', '<', 'li', '>', '<', \"class='label-name\", \"'\", \"href='https\", ':', '//gate2cse.blogspot.com/search/label/mtech', '%', '20cse', '%', '20at', '%', '20tezpur', '%', '20university', \"'\", '>', 'mtech', 'cse', 'tezpur', 'university', '<', 'span', \"class='label-count\", \"'\", '>', '1', '<', '/span', '>', '<', '/a', '>', '<', '/li', '>', '<', 'li', '>', '<', \"class='label-name\", \"'\", \"href='https\", ':', '//gate2cse.blogspot.com/search/label/mtech', '%', '20cse', '%', '20makaut', \"'\", '>', 'mtech', 'cse', 'makaut', '<', 'span', \"class='label-count\", \"'\", '>', '1', '<', '/span', '>', '<', '/a', '>', '<', '/li', '>', '<', 'li', '>', '<', \"class='label-name\", \"'\", \"href='https\", ':', '//gate2cse.blogspot.com/search/label/mtech', '%', '20cse', '%', '20nerist', \"'\", '>', 'mtech', 'cse', 'nerist', '<', 'span', \"class='label-count\", \"'\", '>', '1', '<', '/span', '>', '<', '/a', '>', '<', '/li', '>', '<', 'li', '>', '<', \"class='label-name\", \"'\", \"href='https\", ':', '//gate2cse.blogspot.com/search/label/mtech', '%', '20ece', \"'\", '>', 'mtech', 'ece', '<', 'span', \"class='label-count\", \"'\", '>', '1', '<', '/span', '>', '<', '/a', '>', '<', '/li', '>', '<', 'li', '>', '<', \"class='label-name\", \"'\", \"href='https\", ':', '//gate2cse.blogspot.com/search/label/mtech', '%', '20iiit', \"'\", '>', 'mtech', 'iiit', '<', 'span', \"class='label-count\", \"'\", '>', '1', '<', '/span', '>', '<', '/a', '>', '<', '/li', '>', '<', 'li', '>', '<', \"class='label-name\", \"'\", \"href='https\", ':', '//gate2cse.blogspot.com/search/label/mtech', '%', '20it', \"'\", '>', 'mtech', '<', 'span', \"class='label-count\", \"'\", '>', '1', '<', '/span', '>', '<', '/a', '>', '<', '/li', '>', '<', 'li', '>', '<', \"class='label-name\", \"'\", \"href='https\", ':', '//gate2cse.blogspot.com/search/label/mtech', '%', '20mechatronics', \"'\", '>', 'mtech', 'mechatronics', '<', 'span', \"class='label-count\", \"'\", '>', '1', '<', '/span', '>', '<', '/a', '>', '<', '/li', '>', '<', 'li', '>', '<', \"class='label-name\", \"'\", \"href='https\", ':', '//gate2cse.blogspot.com/search/label/nerist', \"'\", '>', 'nerist', '<', 'span', \"class='label-count\", \"'\", '>', '1', '<', '/span', '>', '<', '/a', '>', '<', '/li', '>', '<', 'li', '>', '<', \"class='label-name\", \"'\", \"href='https\", ':', '//gate2cse.blogspot.com/search/label/nit', '%', '20arunachal', '%', '20pradesh', \"'\", '>', 'nit', 'arunachal', 'pradesh', '<', 'span', \"class='label-count\", \"'\", '>', '1', '<', '/span', '>', '<', '/a', '>', '<', '/li', '>', '<', 'li', '>', '<', \"class='label-name\", \"'\", \"href='https\", ':', '//gate2cse.blogspot.com/search/label/nit', '%', '20interview', '%', '20experience', \"'\", '>', 'nit', 'interview', 'experience', '<', 'span', \"class='label-count\", \"'\", '>', '1', '<', '/span', '>', '<', '/a', '>', '<', '/li', '>', '<', 'li', '>', '<', \"class='label-name\", \"'\", \"href='https\", ':', '//gate2cse.blogspot.com/search/label/nit', '%', '20warangal', \"'\", '>', 'nit', 'warangal', '<', 'span', \"class='label-count\", \"'\", '>', '1', '<', '/span', '>', '<', '/a', '>', '<', '/li', '>', '<', 'li', '>', '<', \"class='label-name\", \"'\", \"href='https\", ':', '//gate2cse.blogspot.com/search/label/nitw', \"'\", '>', 'nitw', '<', 'span', \"class='label-count\", \"'\", '>', '1', '<', '/span', '>', '<', '/a', '>', '<', '/li', '>', '<', 'li', '>', '<', \"class='label-name\", \"'\", \"href='https\", ':', '//gate2cse.blogspot.com/search/label/north', '%', '20east', '%', '20india', \"'\", '>', 'north', 'east', 'india', '<', 'span', \"class='label-count\", \"'\", '>', '1', '<', '/span', '>', '<', '/a', '>', '<', '/li', '>', '<', 'li', '>', '<', \"class='label-name\", \"'\", \"href='https\", ':', '//gate2cse.blogspot.com/search/label/pget', '%', '20cse', '%', '20question', '%', '20paper', \"'\", '>', 'pget', 'cse', 'question', 'paper', '<', 'span', \"class='label-count\", \"'\", '>', '1', '<', '/span', '>', '<', '/a', '>', '<', '/li', '>', '<', 'li', '>', '<', \"class='label-name\", \"'\", \"href='https\", ':', '//gate2cse.blogspot.com/search/label/pget', '%', '20m', '%', '20pharm', '%', '20wbut', \"'\", '>', 'pget', 'pharm', 'wbut', '<', 'span', \"class='label-count\", \"'\", '>', '1', '<', '/span', '>', '<', '/a', '>', '<', '/li', '>', '<', 'li', '>', '<', \"class='label-name\", \"'\", \"href='https\", ':', '//gate2cse.blogspot.com/search/label/pget', '%', '20previous', '%', '20year', '%', '20questions', \"'\", '>', 'pget', 'previous', 'year', 'questions', '<', 'span', \"class='label-count\", \"'\", '>', '1', '<', '/span', '>', '<', '/a', '>', '<', '/li', '>', '<', 'li', '>', '<', \"class='label-name\", \"'\", \"href='https\", ':', '//gate2cse.blogspot.com/search/label/phd', '%', '20admission', '%', '20interview', \"'\", '>', 'phd', 'admission', 'interview', '<', 'span', \"class='label-count\", \"'\", '>', '1', '<', '/span', '>', '<', '/a', '>', '<', '/li', '>', '<', 'li', '>', '<', \"class='label-name\", \"'\", \"href='https\", ':', '//gate2cse.blogspot.com/search/label/phd', '%', '20interview', '%', '20at', '%', '20nit', \"'\", '>', 'phd', 'interview', 'nit', '<', 'span', \"class='label-count\", \"'\", '>', '1', '<', '/span', '>', '<', '/a', '>', '<', '/li', '>', '<', 'li', '>', '<', \"class='label-name\", \"'\", \"href='https\", ':', '//gate2cse.blogspot.com/search/label/phd', '%', '20interview', '%', '20cse', \"'\", '>', 'phd', 'interview', 'cse', '<', 'span', \"class='label-count\", \"'\", '>', '1', '<', '/span', '>', '<', '/a', '>', '<', '/li', '>', '<', 'li', '>', '<', \"class='label-name\", \"'\", \"href='https\", ':', '//gate2cse.blogspot.com/search/label/phd', '%', '20interview', '%', '20experience', '%', '20cse', \"'\", '>', 'phd', 'interview', 'experience', 'cse', '<', 'span', \"class='label-count\", \"'\", '>', '1', '<', '/span', '>', '<', '/a', '>', '<', '/li', '>', '<', 'li', '>', '<', \"class='label-name\", \"'\", \"href='https\", ':', '//gate2cse.blogspot.com/search/label/phd', '%', '20questions', \"'\", '>', 'phd', 'questions', '<', 'span', \"class='label-count\", \"'\", '>', '1', '<', '/span', '>', '<', '/a', '>', '<', '/li', '>', '<', 'li', '>', '<', \"class='label-name\", \"'\", \"href='https\", ':', '//gate2cse.blogspot.com/search/label/postgraduate', '%', '20at', '%', '20tezpur', '%', '20university', \"'\", '>', 'postgraduate', 'tezpur', 'university', '<', 'span', \"class='label-count\", \"'\", '>', '1', '<', '/span', '>', '<', '/a', '>', '<', '/li', '>', '<', 'li', '>', '<', \"class='label-name\", \"'\", \"href='https\", ':', '//gate2cse.blogspot.com/search/label/tezpur', '%', '20university', '%', '20admission', \"'\", '>', 'tezpur', 'university', 'admission', '<', 'span', \"class='label-count\", \"'\", '>', '1', '<', '/span', '>', '<', '/a', '>', '<', '/li', '>', '<', 'li', '>', '<', \"class='label-name\", \"'\", \"href='https\", ':', '//gate2cse.blogspot.com/search/label/tezpur', '%', '20university', '%', '20masters', \"'\", '>', 'tezpur', 'university', 'masters', '<', 'span', \"class='label-count\", \"'\", '>', '1', '<', '/span', '>', '<', '/a', '>', '<', '/li', '>', '<', 'li', '>', '<', \"class='label-name\", \"'\", \"href='https\", ':', '//gate2cse.blogspot.com/search/label/tezpur', '%', '20university', '%', '20mtech', '%', '20interview', \"'\", '>', 'tezpur', 'university', 'mtech', 'interview', '<', 'span', \"class='label-count\", \"'\", '>', '1', '<', '/span', '>', '<', '/a', '>', '<', '/li', '>', '<', 'li', '>', '<', \"class='label-name\", \"'\", \"href='https\", ':', '//gate2cse.blogspot.com/search/label/tu', '%', '20application', \"'\", '>', 'tu', 'application', '<', 'span', \"class='label-count\", \"'\", '>', '1', '<', '/span', '>', '<', '/a', '>', '<', '/li', '>', '<', 'li', '>', '<', \"class='label-name\", \"'\", \"href='https\", ':', '//gate2cse.blogspot.com/search/label/tuee', '%', '20exam', \"'\", '>', 'tuee', 'exam', '<', 'span', \"class='label-count\", \"'\", '>', '1', '<', '/span', '>', '<', '/a', '>', '<', '/li', '>', '<', 'li', '>', '<', \"class='label-name\", \"'\", \"href='https\", ':', '//gate2cse.blogspot.com/search/label/tuee', '%', '20exam', '%', '202020', \"'\", '>', 'tuee', 'exam', '2020', '<', 'span', \"class='label-count\", \"'\", '>', '1', '<', '/span', '>', '<', '/a', '>', '<', '/li', '>', '<', '/ul', '>', '<', '/div', '>', '<', 'span', \"class='show-more\", 'flat-button', \"'\", '>', 'show', '<', '/span', '>', '<', 'span', \"class='show-less\", 'hidden', 'flat-button', \"'\", '>', 'show', 'less', '<', '/span', '>', '<', '/div', '>', '<', '/details', '>', '<', '/div', '>', '<', 'div', \"class='widget\", 'reportabuse', \"'\", \"data-version='2\", \"'\", \"id='reportabuse1\", \"'\", '>', '<', 'h3', \"class='title\", \"'\", '>', '<', \"class='report_abuse\", \"'\", \"href='https\", ':', '//www.blogger.com/go/report-abuse', \"'\", \"rel='noopener\", 'nofollow', \"'\", \"target='_blank\", \"'\", '>', 'report', 'abuse', '<', '/a', '>', '<', '/h3', '>', '<', '/div', '>', '<', 'div', \"class='widget\", 'adsense', \"'\", \"data-version='2\", \"'\", \"id='adsense1\", \"'\", '>', '<', 'div', \"class='widget-content\", \"'\", '>', '<', 'ins', \"class='adsbygoogle\", \"'\", \"data-ad-client='ca-pub-2316420413913358\", \"'\", \"data-ad-format='auto\", \"'\", \"data-ad-host='ca-host-pub-1556223355139109\", \"'\", 'data-analytics-uacct=', \"''\", \"style='/*\", 'done', 'css', '.', '*/', \"'\", '>', '<', '/ins', '>', '<', 'script', '>', '(', 'adsbygoogle', '=', 'window.adsbygoogle', '||', '[', ']', ')', '.push', '(', '{', '}', ')', ';', '<', '/script', '>', '<', '/div', '>', '<', '/div', '>', '<', 'div', \"class='widget\", 'adsense', \"'\", \"data-version='2\", \"'\", \"id='adsense2\", \"'\", '>', '<', 'div', \"class='widget-content\", \"'\", '>', '<', 'ins', \"class='adsbygoogle\", \"'\", \"data-ad-client='ca-pub-2316420413913358\", \"'\", \"data-ad-format='auto\", \"'\", \"data-ad-host='ca-host-pub-1556223355139109\", \"'\", 'data-analytics-uacct=', \"''\", \"style='/*\", 'done', 'css', '.', '*/', \"'\", '>', '<', '/ins', '>', '<', 'script', '>', '(', 'adsbygoogle', '=', 'window.adsbygoogle', '||', '[', ']', ')', '.push', '(', '{', '}', ')', ';', '<', '/script', '>', '<', '/div', '>', '<', '/div', '>', '<', '/div', '>', '<', '/aside', '>', '<', '/div', '>', '<', 'footer', \"class='footer\", 'section', \"'\", \"id='footer\", \"'\", \"name='footer\", \"'\", '>', '<', 'div', \"class='widget\", 'attribution', \"'\", \"data-version='2\", \"'\", \"id='attribution1\", \"'\", '>', '<', 'div', \"class='widget-content\", \"'\", '>', '<', 'div', \"class='blogger\", \"'\", '>', '<', \"href='https\", ':', '//www.blogger.com', \"'\", \"rel='nofollow\", \"'\", '>', '<', 'svg', \"class='svg-icon-24\", \"'\", '>', '<', 'use', 'xlink', ':', \"href='/responsive/sprite_v1_6.css.svg\", '#', 'ic_post_blogger_black_24dp', \"'\", 'xmlns', ':', \"xlink='http\", ':', '//www.w3.org/1999/xlink', \"'\", '>', '<', '/use', '>', '<', '/svg', '>', 'powered', 'blogger', '<', '/a', '>', '<', '/div', '>', '<', '/div', '>', '<', '/div', '>', '<', '/footer', '>', '<', '/div', '>', '<', 'script', 'type=', \"''\", 'text/javascript', \"''\", 'src=', \"''\", 'https', ':', '//resources.blogblog.com/blogblog/data/res/2484438037-rockpool_compiled.js', \"''\", 'async=', \"''\", 'true', \"''\", '>', '<', '/script', '>', '<', 'script', 'type=', \"''\", 'text/javascript', \"''\", 'src=', \"''\", 'https', ':', '//www.blogger.com/static/v1/widgets/249339989-widgets.js', \"''\", '>', '<', '/script', '>', '<', 'script', \"type='text/javascript\", \"'\", '>', 'window', '[', \"'__wavt\", \"'\", ']', '=', \"'aouzoy7vngw-cpvyzrwucfcb_ykxmvalpq:1627792243728\", \"'\", ';', '_widgetmanager._init', '(', \"'//www.blogger.com/rearrange\", '?', 'blogid\\\\x3d7143236966222162812', \"'\", ',', \"'//gate2cse.blogspot.com/\", \"'\", ',', \"'7143236966222162812\", \"'\", ')', ';', '_widgetmanager._setdatacontext', '(', '[', '{', \"'name\", \"'\", ':', \"'blog\", \"'\", ',', \"'data\", \"'\", ':', '{', \"'blogid\", \"'\", ':', \"'7143236966222162812\", \"'\", ',', \"'title\", \"'\", ':', \"'gate\", '2', 'cse', \"'\", ',', \"'url\", \"'\", ':', \"'https\", ':', '//gate2cse.blogspot.com/', \"'\", ',', \"'canonicalurl\", \"'\", ':', \"'https\", ':', '//gate2cse.blogspot.com/', \"'\", ',', \"'homepageurl\", \"'\", ':', \"'https\", ':', '//gate2cse.blogspot.com/', \"'\", ',', \"'searchurl\", \"'\", ':', \"'https\", ':', '//gate2cse.blogspot.com/search', \"'\", ',', \"'canonicalhomepageurl\", \"'\", ':', \"'https\", ':', '//gate2cse.blogspot.com/', \"'\", ',', \"'blogspotfaviconurl\", \"'\", ':', \"'https\", ':', '//gate2cse.blogspot.com/favicon.ico', \"'\", ',', \"'bloggerurl\", \"'\", ':', \"'https\", ':', '//www.blogger.com', \"'\", ',', \"'hascustomdomain\", \"'\", ':', 'false', ',', \"'httpsenabled\", \"'\", ':', 'true', ',', \"'enabledcommentprofileimages\", \"'\", ':', 'true', ',', \"'widgeteditlinkdisabled\", \"'\", ':', \"'true\", \"'\", ',', \"'gplusviewtype\", \"'\", ':', \"'filtered_postmod\", \"'\", ',', \"'adultcontent\", \"'\", ':', 'false', ',', \"'analyticsaccountnumber\", \"'\", ':', \"''\", ',', \"'encoding\", \"'\", ':', \"'utf-8\", \"'\", ',', \"'locale\", \"'\", ':', \"'en\", \"'\", ',', \"'localeunderscoredelimited\", \"'\", ':', \"'en\", \"'\", ',', \"'languagedirection\", \"'\", ':', \"'ltr\", \"'\", ',', \"'isprivate\", \"'\", ':', 'false', ',', \"'ismobile\", \"'\", ':', 'false', ',', \"'ismobilerequest\", \"'\", ':', 'false', ',', \"'mobileclass\", \"'\", ':', \"''\", ',', \"'isprivateblog\", \"'\", ':', 'false', ',', \"'isdynamicviewsavailable\", \"'\", ':', 'true', ',', \"'feedlinks\", \"'\", ':', \"'\\\\x3clink\", 'rel\\\\x3d\\\\x22alternate\\\\x22', 'type\\\\x3d\\\\x22application/atom+xml\\\\x22', 'title\\\\x3d\\\\x22gate', '2', 'cse', '-', 'atom\\\\x22', 'href\\\\x3d\\\\x22https', ':', '//gate2cse.blogspot.com/feeds/posts/default\\\\x22', '/\\\\x3e\\\\n\\\\x3clink', 'rel\\\\x3d\\\\x22alternate\\\\x22', 'type\\\\x3d\\\\x22application/rss+xml\\\\x22', 'title\\\\x3d\\\\x22gate', '2', 'cse', '-', 'rss\\\\x22', 'href\\\\x3d\\\\x22https', ':', '//gate2cse.blogspot.com/feeds/posts/default', '?', 'alt\\\\x3drss\\\\x22', '/\\\\x3e\\\\n\\\\x3clink', 'rel\\\\x3d\\\\x22service.post\\\\x22', 'type\\\\x3d\\\\x22application/atom+xml\\\\x22', 'title\\\\x3d\\\\x22gate', '2', 'cse', '-', 'atom\\\\x22', 'href\\\\x3d\\\\x22https', ':', '//www.blogger.com/feeds/7143236966222162812/posts/default\\\\x22', '/\\\\x3e\\\\n', \"'\", ',', \"'metag\", \"'\", ':', \"'\\\\x3clink\", 'rel\\\\x3d\\\\x22me\\\\x22', 'href\\\\x3d\\\\x22https', ':', '//www.blogger.com/profile/05753022452574883859\\\\x22', '/\\\\x3e\\\\n', \"'\", ',', \"'adsenseclientid\", \"'\", ':', \"'ca-pub-2316420413913358\", \"'\", ',', \"'adsensehostid\", \"'\", ':', \"'ca-host-pub-1556223355139109\", \"'\", ',', \"'adsensehasads\", \"'\", ':', 'true', ',', \"'adsenseautoads\", \"'\", ':', 'false', ',', \"'view\", \"'\", ':', \"''\", ',', \"'dynamicviewscommentssrc\", \"'\", ':', \"'//www.blogblog.com/dynamicviews/4224c15c4e7c9321/js/comments.js\", \"'\", ',', \"'dynamicviewsscriptsrc\", \"'\", ':', \"'//www.blogblog.com/dynamicviews/0db8c4d40e8c3f9e\", \"'\", ',', \"'plusoneapisrc\", \"'\", ':', \"'https\", ':', '//apis.google.com/js/plusone.js', \"'\", ',', \"'disablegcomments\", \"'\", ':', 'true', ',', \"'sharing\", \"'\", ':', '{', \"'platforms\", \"'\", ':', '[', '{', \"'name\", \"'\", ':', \"'get\", 'link', \"'\", ',', \"'key\", \"'\", ':', \"'link\", \"'\", ',', \"'sharemessage\", \"'\", ':', \"'get\", 'link', \"'\", ',', \"'target\", \"'\", ':', \"''\", '}', ',', '{', \"'name\", \"'\", ':', \"'facebook\", \"'\", ',', \"'key\", \"'\", ':', \"'facebook\", \"'\", ',', \"'sharemessage\", \"'\", ':', \"'share\", 'facebook', \"'\", ',', \"'target\", \"'\", ':', \"'facebook\", \"'\", '}', ',', '{', \"'name\", \"'\", ':', \"'blogthis\", '!', \"'\", ',', \"'key\", \"'\", ':', \"'blogthis\", \"'\", ',', \"'sharemessage\", \"'\", ':', \"'blogthis\", '!', \"'\", ',', \"'target\", \"'\", ':', \"'blog\", \"'\", '}', ',', '{', \"'name\", \"'\", ':', \"'twitter\", \"'\", ',', \"'key\", \"'\", ':', \"'twitter\", \"'\", ',', \"'sharemessage\", \"'\", ':', \"'share\", 'twitter', \"'\", ',', \"'target\", \"'\", ':', \"'twitter\", \"'\", '}', ',', '{', \"'name\", \"'\", ':', \"'pinterest\", \"'\", ',', \"'key\", \"'\", ':', \"'pinterest\", \"'\", ',', \"'sharemessage\", \"'\", ':', \"'share\", 'pinterest', \"'\", ',', \"'target\", \"'\", ':', \"'pinterest\", \"'\", '}', ',', '{', \"'name\", \"'\", ':', \"'email\", \"'\", ',', \"'key\", \"'\", ':', \"'email\", \"'\", ',', \"'sharemessage\", \"'\", ':', \"'email\", \"'\", ',', \"'target\", \"'\", ':', \"'email\", \"'\", '}', ']', ',', \"'disablegoogleplus\", \"'\", ':', 'true', ',', \"'googleplussharebuttonwidth\", \"'\", ':', '300', ',', \"'googleplusbootstrap\", \"'\", ':', \"'\\\\x3cscript\", 'type\\\\x3d\\\\x22text/javascript\\\\x22\\\\x3ewindow.___gcfg', '\\\\x3d', '{', '\\\\x27lang\\\\x27', ':', '\\\\x27en\\\\x27', '}', ';', '\\\\x3c/script\\\\x3e', \"'\", '}', ',', \"'hascustomjumplinkmessage\", \"'\", ':', 'false', ',', \"'jumplinkmessage\", \"'\", ':', \"'read\", \"'\", ',', \"'pagetype\", \"'\", ':', \"'index\", \"'\", ',', \"'pagename\", \"'\", ':', \"''\", ',', \"'pagetitle\", \"'\", ':', \"'gate\", '2', 'cse', \"'\", '}', '}', ',', '{', \"'name\", \"'\", ':', \"'features\", \"'\", ',', \"'data\", \"'\", ':', '{', \"'sharing_get_link_dialog\", \"'\", ':', \"'true\", \"'\", ',', \"'sharing_native\", \"'\", ':', \"'false\", \"'\", '}', '}', ',', '{', \"'name\", \"'\", ':', \"'messages\", \"'\", ',', \"'data\", \"'\", ':', '{', \"'edit\", \"'\", ':', \"'edit\", \"'\", ',', \"'linkcopiedtoclipboard\", \"'\", ':', \"'link\", 'copied', 'clipboard', '!', \"'\", ',', \"'ok\", \"'\", ':', \"'ok\", \"'\", ',', \"'postlink\", \"'\", ':', \"'post\", 'link', \"'\", '}', '}', ',', '{', \"'name\", \"'\", ':', \"'template\", \"'\", ',', \"'data\", \"'\", ':', '{', \"'name\", \"'\", ':', \"'notable\", \"'\", ',', \"'localizedname\", \"'\", ':', \"'notable\", \"'\", ',', \"'isresponsive\", \"'\", ':', 'true', ',', \"'isalternaterendering\", \"'\", ':', 'false', ',', \"'iscustom\", \"'\", ':', 'false', ',', \"'variant\", \"'\", ':', \"'rockpool_light\", \"'\", ',', \"'variantid\", \"'\", ':', \"'rockpool_light\", \"'\", '}', '}', ',', '{', \"'name\", \"'\", ':', \"'view\", \"'\", ',', \"'data\", \"'\", ':', '{', \"'classic\", \"'\", ':', '{', \"'name\", \"'\", ':', \"'classic\", \"'\", ',', \"'url\", \"'\", ':', \"'\", '?', 'view\\\\x3dclassic', \"'\", '}', ',', \"'flipcard\", \"'\", ':', '{', \"'name\", \"'\", ':', \"'flipcard\", \"'\", ',', \"'url\", \"'\", ':', \"'\", '?', 'view\\\\x3dflipcard', \"'\", '}', ',', \"'magazine\", \"'\", ':', '{', \"'name\", \"'\", ':', \"'magazine\", \"'\", ',', \"'url\", \"'\", ':', \"'\", '?', 'view\\\\x3dmagazine', \"'\", '}', ',', \"'mosaic\", \"'\", ':', '{', \"'name\", \"'\", ':', \"'mosaic\", \"'\", ',', \"'url\", \"'\", ':', \"'\", '?', 'view\\\\x3dmosaic', \"'\", '}', ',', \"'sidebar\", \"'\", ':', '{', \"'name\", \"'\", ':', \"'sidebar\", \"'\", ',', \"'url\", \"'\", ':', \"'\", '?', 'view\\\\x3dsidebar', \"'\", '}', ',', \"'snapshot\", \"'\", ':', '{', \"'name\", \"'\", ':', \"'snapshot\", \"'\", ',', \"'url\", \"'\", ':', \"'\", '?', 'view\\\\x3dsnapshot', \"'\", '}', ',', \"'timeslide\", \"'\", ':', '{', \"'name\", \"'\", ':', \"'timeslide\", \"'\", ',', \"'url\", \"'\", ':', \"'\", '?', 'view\\\\x3dtimeslide', \"'\", '}', ',', \"'ismobile\", \"'\", ':', 'false', ',', \"'title\", \"'\", ':', \"'gate\", '2', 'cse', \"'\", ',', \"'description\", \"'\", ':', \"'perfect\", 'destination', 'cs', 'grads', \"'\", ',', \"'url\", \"'\", ':', \"'https\", ':', '//gate2cse.blogspot.com/', \"'\", ',', \"'type\", \"'\", ':', \"'feed\", \"'\", ',', \"'issingleitem\", \"'\", ':', 'false', ',', \"'ismultipleitems\", \"'\", ':', 'true', ',', \"'iserror\", \"'\", ':', 'false', ',', \"'ispage\", \"'\", ':', 'false', ',', \"'ispost\", \"'\", ':', 'false', ',', \"'ishomepage\", \"'\", ':', 'true', ',', \"'isarchive\", \"'\", ':', 'false', ',', \"'islabelsearch\", \"'\", ':', 'false', '}', '}', ',', '{', \"'name\", \"'\", ':', \"'widgets\", \"'\", ',', \"'data\", \"'\", ':', '[', '{', \"'title\", \"'\", ':', \"'gate\", '2', 'cse', '(', 'header', ')', \"'\", ',', \"'type\", \"'\", ':', \"'header\", \"'\", ',', \"'sectionid\", \"'\", ':', \"'header\", \"'\", ',', \"'id\", \"'\", ':', \"'header1\", \"'\", '}', ',', '{', \"'title\", \"'\", ':', \"'follow\", 'email', \"'\", ',', \"'type\", \"'\", ':', \"'followbyemail\", \"'\", ',', \"'sectionid\", \"'\", ':', \"'subscription\", \"'\", ',', \"'id\", \"'\", ':', \"'followbyemail1\", \"'\", '}', ',', '{', \"'title\", \"'\", ':', \"'search\", 'blog', \"'\", ',', \"'type\", \"'\", ':', \"'blogsearch\", \"'\", ',', \"'sectionid\", \"'\", ':', \"'search_top\", \"'\", ',', \"'id\", \"'\", ':', \"'blogsearch1\", \"'\", '}', ',', '{', \"'title\", \"'\", ':', \"''\", ',', \"'type\", \"'\", ':', \"'featuredpost\", \"'\", ',', \"'sectionid\", \"'\", ':', \"'page_body\", \"'\", ',', \"'id\", \"'\", ':', \"'featuredpost1\", \"'\", ',', \"'postid\", \"'\", ':', \"'9146680672247516294\", \"'\", '}', ',', '{', \"'title\", \"'\", ':', \"'blog\", 'posts', \"'\", ',', \"'type\", \"'\", ':', \"'blog\", \"'\", ',', \"'sectionid\", \"'\", ':', \"'page_body\", \"'\", ',', \"'id\", \"'\", ':', \"'blog1\", \"'\", ',', \"'posts\", \"'\", ':', '[', '{', \"'id\", \"'\", ':', \"'7296436610010115162\", \"'\", ',', \"'title\", \"'\", ':', \"'m.tech\", '.', 'cse', 'interview', 'experience', 'iiit', 'guwahati', \"'\", ',', \"'featuredimage\", \"'\", ':', \"'https\", ':', '//1.bp.blogspot.com/-t5tpkjojzqe/yo72x2ijtpi/aaaaaaabhra/vfzmz9qc7ceryjg2nt4pabupfigjbcp3qclcbgasyhq/w640-h480/iiit-g.jpg', \"'\", ',', \"'showinlineads\", \"'\", ':', 'false', '}', ',', '{', \"'id\", \"'\", ':', \"'7424636713978551872\", \"'\", ',', \"'title\", \"'\", ':', \"'tezpur\", 'university', 'invites', 'm.tech', '.', 'application', '2021-22', '(', 'gate/non-gate', ')', \"'\", ',', \"'featuredimage\", \"'\", ':', \"'https\", ':', '//1.bp.blogspot.com/-zyvjkaucyrc/ypd7p2dfgmi/aaaaaaabhvm/x0lgu-7rowifgedwdipmyf1_zw19af43gclcbgasyhq/w640-h330/tezpur', '%', '2buniv.jpg', \"'\", ',', \"'showinlineads\", \"'\", ':', 'false', '}', ',', '{', \"'id\", \"'\", ':', \"'5968326335652653551\", \"'\", ',', \"'title\", \"'\", ':', \"'nit\", 'warangal', 'invites', 'm.tech', '.', 'cse', 'application', '(', 'self-sponsored', ')', \"'\", ',', \"'featuredimage\", \"'\", ':', \"'https\", ':', '//1.bp.blogspot.com/-rftgs8qluwi/you34awoubi/aaaaaaabg7e/spxipt3brtm4m3gg0o31kdzrwjdlqeq9qclcbgasyhq/w674-h275/nitw.jpg', \"'\", ',', \"'showinlineads\", \"'\", ':', 'false', '}', ',', '{', \"'id\", \"'\", ':', \"'6260314919429651029\", \"'\", ',', \"'title\", \"'\", ':', \"'iiit\", 'ranchi', ':', 'm.tech', '.', 'dsai', '(', 'cse', ')', 'admissions', '2021', \"'\", ',', \"'featuredimage\", \"'\", ':', \"'https\", ':', '//1.bp.blogspot.com/-ka5rnbl1-_u/ynsws0kbtii/aaaaaaabgce/cvisoagf57q_wzzjsborqoz_bwxilv57aclcbgasyhq/w640-h266/iiit', '%', '2branchi.jpeg', \"'\", ',', \"'showinlineads\", \"'\", ':', 'false', '}', ',', '{', \"'id\", \"'\", ':', \"'9146680672247516294\", \"'\", ',', \"'title\", \"'\", ':', \"'iit\", 'jodhpur', ':', 'm.tech', '.', 'cse', 'ai', 'interview', 'experience', '2021-22', \"'\", ',', \"'featuredimage\", \"'\", ':', \"'https\", ':', '//1.bp.blogspot.com/-9g7rcpitq-m/ynqlfhfbgyi/aaaaaaabgao/2fzumtfjsq0ms7-jvjrme2hkoz8fsihnwclcbgasyhq/w640-h270/iitj.png', \"'\", ',', \"'showinlineads\", \"'\", ':', 'false', '}', ',', '{', \"'id\", \"'\", ':', \"'5514730464206948124\", \"'\", ',', \"'title\", \"'\", ':', \"'nerist\", 'm.tech', '.', 'admissions', '2021', ':', 'gate/non-gate', \"'\", ',', \"'featuredimage\", \"'\", ':', \"'https\", ':', '//1.bp.blogspot.com/-l-_wi1bapa8/yna1xmoj6hi/aaaaaaabgza/snotojhic_enzjeukmedgzpohs6x-ptdqclcbgasyhq/w640-h458/nerist-0.jpg', \"'\", ',', \"'showinlineads\", \"'\", ':', 'false', '}', ',', '{', \"'id\", \"'\", ':', \"'3408059245147298023\", \"'\", ',', \"'title\", \"'\", ':', \"'iiit\", 'bhagalpur', 'm.tech', '.', 'admissions', '2021', 'gate/non-gate', ':', 'everything', 'need', 'know', \"'\", ',', \"'featuredimage\", \"'\", ':', \"'https\", ':', '//1.bp.blogspot.com/-4tkmb9jnutq/ym3pnojz36i/aaaaaaabgxs/mgzgrb50a8s0br5x6kx7wwral9pyabqdqclcbgasyhq/w516-h344/iiit', '%', '2bbhagalpur.jpg', \"'\", ',', \"'showinlineads\", \"'\", ':', 'false', '}', ']', ',', \"'headerbyline\", \"'\", ':', '{', \"'regionname\", \"'\", ':', \"'header1\", \"'\", ',', \"'items\", \"'\", ':', '[', '{', \"'name\", \"'\", ':', \"'timestamp\", \"'\", ',', \"'label\", \"'\", ':', \"''\", '}', ']', '}', ',', \"'footerbylines\", \"'\", ':', '[', '{', \"'regionname\", \"'\", ':', \"'footer1\", \"'\", ',', \"'items\", \"'\", ':', '[', '{', \"'name\", \"'\", ':', \"'share\", \"'\", ',', \"'label\", \"'\", ':', \"''\", '}', ',', '{', \"'name\", \"'\", ':', \"'comments\", \"'\", ',', \"'label\", \"'\", ':', \"'comments\", \"'\", '}', ',', '{', \"'name\", \"'\", ':', \"'labels\", \"'\", ',', \"'label\", \"'\", ':', \"'labels\", ':', \"'\", '}', ',', '{', \"'name\", \"'\", ':', \"'icons\", \"'\", ',', \"'label\", \"'\", ':', \"''\", '}', ']', '}', ',', '{', \"'regionname\", \"'\", ':', \"'footer3\", \"'\", ',', \"'items\", \"'\", ':', '[', '{', \"'name\", \"'\", ':', \"'location\", \"'\", ',', \"'label\", \"'\", ':', \"'location\", ':', \"'\", '}', ']', '}', ']', ',', \"'allbylineitems\", \"'\", ':', '[', '{', \"'name\", \"'\", ':', \"'timestamp\", \"'\", ',', \"'label\", \"'\", ':', \"''\", '}', ',', '{', \"'name\", \"'\", ':', \"'share\", \"'\", ',', \"'label\", \"'\", ':', \"''\", '}', ',', '{', \"'name\", \"'\", ':', \"'comments\", \"'\", ',', \"'label\", \"'\", ':', \"'comments\", \"'\", '}', ',', '{', \"'name\", \"'\", ':', \"'labels\", \"'\", ',', \"'label\", \"'\", ':', \"'labels\", ':', \"'\", '}', ',', '{', \"'name\", \"'\", ':', \"'icons\", \"'\", ',', \"'label\", \"'\", ':', \"''\", '}', ',', '{', \"'name\", \"'\", ':', \"'location\", \"'\", ',', \"'label\", \"'\", ':', \"'location\", ':', \"'\", '}', ']', '}', ',', '{', \"'title\", \"'\", ':', \"''\", ',', \"'type\", \"'\", ':', \"'popularposts\", \"'\", ',', \"'sectionid\", \"'\", ':', \"'page_body\", \"'\", ',', \"'id\", \"'\", ':', \"'popularposts1\", \"'\", ',', \"'posts\", \"'\", ':', '[', '{', \"'title\", \"'\", ':', \"'my\", 'experience', 'ph.d.', 'interview', '(', 'cse', ')', 'nit', 'arunachal', 'pradesh', \"'\", ',', \"'id\", \"'\", ':', '8097839016018807830', '}', ',', '{', \"'title\", \"'\", ':', \"'tezpur\", 'university', 'invites', 'm.tech', '.', 'application', '2021-22', '(', 'gate/non-gate', ')', \"'\", ',', \"'id\", \"'\", ':', '7424636713978551872', '}', ',', '{', \"'title\", \"'\", ':', \"'nit\", 'warangal', 'invites', 'm.tech', '.', 'cse', 'application', '(', 'self-sponsored', ')', \"'\", ',', \"'id\", \"'\", ':', '5968326335652653551', '}', ']', '}', ',', '{', \"'title\", \"'\", ':', \"'follow\", 'us', 'linkedin', \"'\", ',', \"'type\", \"'\", ':', \"'text\", \"'\", ',', \"'sectionid\", \"'\", ':', \"'sidebar\", \"'\", ',', \"'id\", \"'\", ':', \"'text1\", \"'\", '}', ',', '{', \"'type\", \"'\", ':', \"'blogarchive\", \"'\", ',', \"'sectionid\", \"'\", ':', \"'sidebar\", \"'\", ',', \"'id\", \"'\", ':', \"'blogarchive1\", \"'\", '}', ',', '{', \"'title\", \"'\", ':', \"'labels\", \"'\", ',', \"'type\", \"'\", ':', \"'label\", \"'\", ',', \"'sectionid\", \"'\", ':', \"'sidebar\", \"'\", ',', \"'id\", \"'\", ':', \"'label1\", \"'\", '}', ',', '{', \"'title\", \"'\", ':', \"''\", ',', \"'type\", \"'\", ':', \"'reportabuse\", \"'\", ',', \"'sectionid\", \"'\", ':', \"'sidebar\", \"'\", ',', \"'id\", \"'\", ':', \"'reportabuse1\", \"'\", '}', ',', '{', \"'type\", \"'\", ':', \"'adsense\", \"'\", ',', \"'sectionid\", \"'\", ':', \"'sidebar\", \"'\", ',', \"'id\", \"'\", ':', \"'adsense1\", \"'\", '}', ',', '{', \"'type\", \"'\", ':', \"'adsense\", \"'\", ',', \"'sectionid\", \"'\", ':', \"'sidebar\", \"'\", ',', \"'id\", \"'\", ':', \"'adsense2\", \"'\", '}', ',', '{', \"'type\", \"'\", ':', \"'attribution\", \"'\", ',', \"'sectionid\", \"'\", ':', \"'footer\", \"'\", ',', \"'id\", \"'\", ':', \"'attribution1\", \"'\", '}', ']', '}', ']', ')', ';', '_widgetmanager._registerwidget', '(', \"'_headerview\", \"'\", ',', 'new', '_widgetinfo', '(', \"'header1\", \"'\", ',', \"'header\", \"'\", ',', 'document.getelementbyid', '(', \"'header1\", \"'\", ')', ',', '{', '}', ',', \"'displaymodefull\", \"'\", ')', ')', ';', '_widgetmanager._registerwidget', '(', \"'_followbyemailview\", \"'\", ',', 'new', '_widgetinfo', '(', \"'followbyemail1\", \"'\", ',', \"'subscription\", \"'\", ',', 'document.getelementbyid', '(', \"'followbyemail1\", \"'\", ')', ',', '{', '}', ',', \"'displaymodefull\", \"'\", ')', ')', ';', '_widgetmanager._registerwidget', '(', \"'_blogsearchview\", \"'\", ',', 'new', '_widgetinfo', '(', \"'blogsearch1\", \"'\", ',', \"'search_top\", \"'\", ',', 'document.getelementbyid', '(', \"'blogsearch1\", \"'\", ')', ',', '{', '}', ',', \"'displaymodefull\", \"'\", ')', ')', ';', '_widgetmanager._registerwidget', '(', \"'_featuredpostview\", \"'\", ',', 'new', '_widgetinfo', '(', \"'featuredpost1\", \"'\", ',', \"'page_body\", \"'\", ',', 'document.getelementbyid', '(', \"'featuredpost1\", \"'\", ')', ',', '{', '}', ',', \"'displaymodefull\", \"'\", ')', ')', ';', '_widgetmanager._registerwidget', '(', \"'_blogview\", \"'\", ',', 'new', '_widgetinfo', '(', \"'blog1\", \"'\", ',', \"'page_body\", \"'\", ',', 'document.getelementbyid', '(', \"'blog1\", \"'\", ')', ',', '{', \"'cmtinteractionsenabled\", \"'\", ':', 'false', ',', \"'lightboxenabled\", \"'\", ':', 'true', ',', \"'lightboxmoduleurl\", \"'\", ':', \"'https\", ':', '//www.blogger.com/static/v1/jsbin/603003760-lbx.js', \"'\", ',', \"'lightboxcssurl\", \"'\", ':', \"'https\", ':', '//www.blogger.com/static/v1/v-css/1050234869-lightbox_bundle.css', \"'\", '}', ',', \"'displaymodefull\", \"'\", ')', ')', ';', '_widgetmanager._registerwidget', '(', \"'_popularpostsview\", \"'\", ',', 'new', '_widgetinfo', '(', \"'popularposts1\", \"'\", ',', \"'page_body\", \"'\", ',', 'document.getelementbyid', '(', \"'popularposts1\", \"'\", ')', ',', '{', '}', ',', \"'displaymodefull\", \"'\", ')', ')', ';', '_widgetmanager._registerwidget', '(', \"'_textview\", \"'\", ',', 'new', '_widgetinfo', '(', \"'text1\", \"'\", ',', \"'sidebar\", \"'\", ',', 'document.getelementbyid', '(', \"'text1\", \"'\", ')', ',', '{', '}', ',', \"'displaymodefull\", \"'\", ')', ')', ';', '_widgetmanager._registerwidget', '(', \"'_blogarchiveview\", \"'\", ',', 'new', '_widgetinfo', '(', \"'blogarchive1\", \"'\", ',', \"'sidebar\", \"'\", ',', 'document.getelementbyid', '(', \"'blogarchive1\", \"'\", ')', ',', '{', \"'languagedirection\", \"'\", ':', \"'ltr\", \"'\", ',', \"'loadingmessage\", \"'\", ':', \"'loading\\\\x26hellip\", ';', \"'\", '}', ',', \"'displaymodefull\", \"'\", ')', ')', ';', '_widgetmanager._registerwidget', '(', \"'_labelview\", \"'\", ',', 'new', '_widgetinfo', '(', \"'label1\", \"'\", ',', \"'sidebar\", \"'\", ',', 'document.getelementbyid', '(', \"'label1\", \"'\", ')', ',', '{', '}', ',', \"'displaymodefull\", \"'\", ')', ')', ';', '_widgetmanager._registerwidget', '(', \"'_reportabuseview\", \"'\", ',', 'new', '_widgetinfo', '(', \"'reportabuse1\", \"'\", ',', \"'sidebar\", \"'\", ',', 'document.getelementbyid', '(', \"'reportabuse1\", \"'\", ')', ',', '{', '}', ',', \"'displaymodefull\", \"'\", ')', ')', ';', '_widgetmanager._registerwidget', '(', \"'_adsenseview\", \"'\", ',', 'new', '_widgetinfo', '(', \"'adsense1\", \"'\", ',', \"'sidebar\", \"'\", ',', 'document.getelementbyid', '(', \"'adsense1\", \"'\", ')', ',', '{', '}', ',', \"'displaymodefull\", \"'\", ')', ')', ';', '_widgetmanager._registerwidget', '(', \"'_adsenseview\", \"'\", ',', 'new', '_widgetinfo', '(', \"'adsense2\", \"'\", ',', \"'sidebar\", \"'\", ',', 'document.getelementbyid', '(', \"'adsense2\", \"'\", ')', ',', '{', '}', ',', \"'displaymodefull\", \"'\", ')', ')', ';', '_widgetmanager._registerwidget', '(', \"'_attributionview\", \"'\", ',', 'new', '_widgetinfo', '(', \"'attribution1\", \"'\", ',', \"'footer\", \"'\", ',', 'document.getelementbyid', '(', \"'attribution1\", \"'\", ')', ',', '{', '}', ',', \"'displaymodefull\", \"'\", ')', ')', ';', '<', '/script', '>', '<', '/body', '>', '<', '/html', '>']\n"
          ],
          "name": "stdout"
        }
      ]
    },
    {
      "cell_type": "markdown",
      "metadata": {
        "id": "3sxHamzu4axj"
      },
      "source": [
        "# **IR-6 QS-4 : Take two sentences and find Cosine Similarity**"
      ]
    },
    {
      "cell_type": "code",
      "metadata": {
        "id": "cNRveyRpA2Xq",
        "colab": {
          "base_uri": "https://localhost:8080/"
        },
        "outputId": "a568e87d-3cb7-4ede-a559-a46be61a0185"
      },
      "source": [
        "import numpy as np\n",
        "\n",
        "d1=\"cat dog dog mouse bird man\"\n",
        "d2=\"cat dog dog mouse bird mouse\"\n",
        "s1=d1.split(' ')\n",
        "s2=d2.split(' ')\n",
        "\n",
        "final_set=list(set(s1)|set(s2))\n",
        "\n",
        "cos_d1=[]\n",
        "cos_d2=[]\n",
        "\n",
        "for i in final_set:\n",
        "  cos_d1.append(s1.count(i))\n",
        "  cos_d2.append(s2.count(i))\n",
        "\n",
        "def similarity(x1,x2):\n",
        "  coeff=(np.array(x1).dot(np.array(x2)))/(np.linalg.norm(x1)*np.linalg.norm(x2))\n",
        "  return coeff\n",
        "\n",
        "print(f\"Similarity : {similarity(cos_d1,cos_d2)}\")"
      ],
      "execution_count": 33,
      "outputs": [
        {
          "output_type": "stream",
          "text": [
            "Similarity : 0.8944271909999159\n"
          ],
          "name": "stdout"
        }
      ]
    },
    {
      "cell_type": "markdown",
      "metadata": {
        "id": "MoY8uH_Ku5tU"
      },
      "source": [
        "# **IR-7 QS-1 : Build a Search engine**"
      ]
    },
    {
      "cell_type": "markdown",
      "metadata": {
        "id": "8u-SkbHP30bI"
      },
      "source": [
        "### **Version-1 (Spelling correction)**"
      ]
    },
    {
      "cell_type": "code",
      "metadata": {
        "id": "WO-MZ6IUCRYA",
        "colab": {
          "base_uri": "https://localhost:8080/"
        },
        "outputId": "e22b7629-74f7-4693-a266-fc1f9c7670de"
      },
      "source": [
        "import nltk\n",
        "\n",
        "news_headline1 = \"Elon Musk's Boring Company to build high speed airport link.\"\n",
        "news_headline2 = \"Elon Musk's Boring Company to build high speed Chicago airport link\"\n",
        "news_headline3 = \"Elon Musk's Boring approved to build high speed transit between downtown NY and O'Hare Airport\"\n",
        "news_headline4 = \"Both apple and orange are fruit Chicago.\"\n",
        "news_headline5 = \"A new airport under construction by Company in Chicago airport.\"\n",
        "\n",
        "#Building the corpus\n",
        "doc=[]\n",
        "doc.append(news_headline1)\n",
        "doc.append(news_headline2)\n",
        "doc.append(news_headline3)\n",
        "doc.append(news_headline4)\n",
        "doc.append(news_headline5)\n",
        "from nltk.tokenize import RegexpTokenizer\n",
        "tokenizer=RegexpTokenizer(r'\\w+')\n",
        "text=[]\n",
        "for i in doc :\n",
        "  i=i.lower()\n",
        "  text.append(tokenizer.tokenize(i))\n",
        "\n",
        "nltk.download('stopwords')\n",
        "stop_words=set(nltk.corpus.stopwords.words('english'))\n",
        "filtered=[]\n",
        "for i in range(len(text)):\n",
        "  filtered.append([])\n",
        "for i in range(len(text)) :\n",
        "  for j in range(len(text[i])) :\n",
        "    if text[i][j] not in stop_words :\n",
        "      filtered[i].append(text[i][j])\n",
        "\n",
        "nltk.download('wordnet')\n",
        "lemmatizer=nltk.WordNetLemmatizer()\n",
        "for i in text:\n",
        "  i.clear()\n",
        "for i in range(len(filtered)) :\n",
        "  for j in range(len(filtered[i])) :\n",
        "    text[i].append(lemmatizer.lemmatize(filtered[i][j]))\n",
        "\n",
        "unique_words=[]\n",
        "for i in text:\n",
        "  unique_words=list(set(unique_words).union(set(i)))\n",
        "unique_words.sort()\n",
        "\n",
        "inverted_index={}\n",
        "for i in unique_words :\n",
        "  inverted_index[i]=[]\n",
        "  for j in text:\n",
        "    inverted_index[i].append(j.count(i))\n",
        "\n",
        "trigram={}\n",
        "for i in unique_words:\n",
        "  trigram[i]=[]\n",
        "  if len(i)>=3 :\n",
        "    for j in range(len(i)-2):\n",
        "      trigram[i].append(i[j:j+3])\n",
        "  else :\n",
        "    trigram[i].append(i)\n",
        "\n",
        "query=input(\"Enter your search query : \")\n",
        "temp=tokenizer.tokenize(query)\n",
        "\n",
        "query=[]\n",
        "for i in temp:\n",
        "  if i not in stop_words:\n",
        "    query.append(i)\n",
        "\n",
        "qtg=[]\n",
        "for j in query :\n",
        "  if len(j) >= 3 :\n",
        "    temp=[]\n",
        "    for i in range(len(j)-2):\n",
        "      temp.append(j[i:i+3])\n",
        "  qtg.append(temp)\n",
        "\n",
        "JC=[]\n",
        "for j in qtg:\n",
        "  temp={}\n",
        "  for i in trigram.keys():\n",
        "    jc_temp=(len(set(j).intersection(set(trigram[i]))))/(len(set(j).union(set(trigram[i]))))\n",
        "    if jc_temp > 0 :\n",
        "      temp[i]=np.round(jc_temp,4)\n",
        "  JC.append(temp)\n",
        "print(JC)\n",
        "\n",
        "postings=[]\n",
        "search_for=[]\n",
        "for j in JC :\n",
        "  for i in sorted(j.values(),reverse=True):\n",
        "    for key,val in j.items():\n",
        "      if i==val :\n",
        "        postings.append(inverted_index[key])\n",
        "        if key not in search_for:\n",
        "          search_for.append(key)\n",
        "\n",
        "print(f\"Showing results for : {search_for}\")\n",
        "\n",
        "result=[]\n",
        "for i in range(len(postings)):\n",
        "  temp=postings[i]\n",
        "  for j in range(len(temp)):\n",
        "    if max(temp)==0:\n",
        "      break\n",
        "    elif temp.index(max(temp)) not in result :\n",
        "      result.append(temp.index(max(temp)))\n",
        "      temp[temp.index(max(temp))]=0\n",
        "    else :\n",
        "      temp[temp.index(max(temp))]=0\n",
        "\n",
        "if len(result)==0:\n",
        "  print(\"Sorry! We don't do that here!\")\n",
        "else :\n",
        "  for i in result :\n",
        "    print(f\"Doc{i+1} : {doc[i]}\")"
      ],
      "execution_count": 34,
      "outputs": [
        {
          "output_type": "stream",
          "text": [
            "[nltk_data] Downloading package stopwords to /root/nltk_data...\n",
            "[nltk_data]   Package stopwords is already up-to-date!\n",
            "[nltk_data] Downloading package wordnet to /root/nltk_data...\n",
            "[nltk_data]   Package wordnet is already up-to-date!\n",
            "Enter your search query : high speed train\n",
            "[{'high': 1.0}, {'speed': 1.0}, {'transit': 0.1429}]\n",
            "Showing results for : ['high', 'speed', 'transit']\n",
            "Doc1 : Elon Musk's Boring Company to build high speed airport link.\n",
            "Doc2 : Elon Musk's Boring Company to build high speed Chicago airport link\n",
            "Doc3 : Elon Musk's Boring approved to build high speed transit between downtown NY and O'Hare Airport\n"
          ],
          "name": "stdout"
        }
      ]
    }
  ]
}